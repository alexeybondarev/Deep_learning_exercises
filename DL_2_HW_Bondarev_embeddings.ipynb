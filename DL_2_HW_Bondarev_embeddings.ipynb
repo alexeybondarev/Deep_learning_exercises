{
  "nbformat": 4,
  "nbformat_minor": 0,
  "metadata": {
    "colab": {
      "name": "DL_2_HW_Bondarev_embeddings",
      "provenance": [],
      "collapsed_sections": [],
      "include_colab_link": true
    },
    "kernelspec": {
      "display_name": "Python 3",
      "name": "python3"
    },
    "widgets": {
      "application/vnd.jupyter.widget-state+json": {
        "0afa09c85d4a44358af38aa052d67969": {
          "model_module": "@jupyter-widgets/controls",
          "model_name": "HBoxModel",
          "state": {
            "_dom_classes": [],
            "_model_module": "@jupyter-widgets/controls",
            "_model_module_version": "1.5.0",
            "_model_name": "HBoxModel",
            "_view_count": null,
            "_view_module": "@jupyter-widgets/controls",
            "_view_module_version": "1.5.0",
            "_view_name": "HBoxView",
            "box_style": "",
            "children": [
              "IPY_MODEL_44076ef6cded44919ff39ba67121a199",
              "IPY_MODEL_71731e4b489d43ee85a64410485f6a6f"
            ],
            "layout": "IPY_MODEL_9fc39142aaf84d3ba28e23e94155c91c"
          }
        },
        "44076ef6cded44919ff39ba67121a199": {
          "model_module": "@jupyter-widgets/controls",
          "model_name": "FloatProgressModel",
          "state": {
            "_dom_classes": [],
            "_model_module": "@jupyter-widgets/controls",
            "_model_module_version": "1.5.0",
            "_model_name": "FloatProgressModel",
            "_view_count": null,
            "_view_module": "@jupyter-widgets/controls",
            "_view_module_version": "1.5.0",
            "_view_name": "ProgressView",
            "bar_style": "success",
            "description": "Epoch 1. Train Loss: 510.9: 100%",
            "description_tooltip": null,
            "layout": "IPY_MODEL_b2b665b922144861b2ab97ecad6c2f03",
            "max": 1000,
            "min": 0,
            "orientation": "horizontal",
            "style": "IPY_MODEL_dbe3fc4bb88047d697449c90f91ff198",
            "value": 1000
          }
        },
        "71731e4b489d43ee85a64410485f6a6f": {
          "model_module": "@jupyter-widgets/controls",
          "model_name": "HTMLModel",
          "state": {
            "_dom_classes": [],
            "_model_module": "@jupyter-widgets/controls",
            "_model_module_version": "1.5.0",
            "_model_name": "HTMLModel",
            "_view_count": null,
            "_view_module": "@jupyter-widgets/controls",
            "_view_module_version": "1.5.0",
            "_view_name": "HTMLView",
            "description": "",
            "description_tooltip": null,
            "layout": "IPY_MODEL_5d4ade9db1be417cab338c4559a79259",
            "placeholder": "​",
            "style": "IPY_MODEL_bc81d6c8479642dd996a291c4b2945c5",
            "value": " 1000/1000 [02:56&lt;00:00,  5.68it/s]"
          }
        },
        "9fc39142aaf84d3ba28e23e94155c91c": {
          "model_module": "@jupyter-widgets/base",
          "model_name": "LayoutModel",
          "state": {
            "_model_module": "@jupyter-widgets/base",
            "_model_module_version": "1.2.0",
            "_model_name": "LayoutModel",
            "_view_count": null,
            "_view_module": "@jupyter-widgets/base",
            "_view_module_version": "1.2.0",
            "_view_name": "LayoutView",
            "align_content": null,
            "align_items": null,
            "align_self": null,
            "border": null,
            "bottom": null,
            "display": null,
            "flex": null,
            "flex_flow": null,
            "grid_area": null,
            "grid_auto_columns": null,
            "grid_auto_flow": null,
            "grid_auto_rows": null,
            "grid_column": null,
            "grid_gap": null,
            "grid_row": null,
            "grid_template_areas": null,
            "grid_template_columns": null,
            "grid_template_rows": null,
            "height": null,
            "justify_content": null,
            "justify_items": null,
            "left": null,
            "margin": null,
            "max_height": null,
            "max_width": null,
            "min_height": null,
            "min_width": null,
            "object_fit": null,
            "object_position": null,
            "order": null,
            "overflow": null,
            "overflow_x": null,
            "overflow_y": null,
            "padding": null,
            "right": null,
            "top": null,
            "visibility": null,
            "width": null
          }
        },
        "b2b665b922144861b2ab97ecad6c2f03": {
          "model_module": "@jupyter-widgets/base",
          "model_name": "LayoutModel",
          "state": {
            "_model_module": "@jupyter-widgets/base",
            "_model_module_version": "1.2.0",
            "_model_name": "LayoutModel",
            "_view_count": null,
            "_view_module": "@jupyter-widgets/base",
            "_view_module_version": "1.2.0",
            "_view_name": "LayoutView",
            "align_content": null,
            "align_items": null,
            "align_self": null,
            "border": null,
            "bottom": null,
            "display": null,
            "flex": null,
            "flex_flow": null,
            "grid_area": null,
            "grid_auto_columns": null,
            "grid_auto_flow": null,
            "grid_auto_rows": null,
            "grid_column": null,
            "grid_gap": null,
            "grid_row": null,
            "grid_template_areas": null,
            "grid_template_columns": null,
            "grid_template_rows": null,
            "height": null,
            "justify_content": null,
            "justify_items": null,
            "left": null,
            "margin": null,
            "max_height": null,
            "max_width": null,
            "min_height": null,
            "min_width": null,
            "object_fit": null,
            "object_position": null,
            "order": null,
            "overflow": null,
            "overflow_x": null,
            "overflow_y": null,
            "padding": null,
            "right": null,
            "top": null,
            "visibility": null,
            "width": null
          }
        },
        "dbe3fc4bb88047d697449c90f91ff198": {
          "model_module": "@jupyter-widgets/controls",
          "model_name": "ProgressStyleModel",
          "state": {
            "_model_module": "@jupyter-widgets/controls",
            "_model_module_version": "1.5.0",
            "_model_name": "ProgressStyleModel",
            "_view_count": null,
            "_view_module": "@jupyter-widgets/base",
            "_view_module_version": "1.2.0",
            "_view_name": "StyleView",
            "bar_color": null,
            "description_width": "initial"
          }
        },
        "5d4ade9db1be417cab338c4559a79259": {
          "model_module": "@jupyter-widgets/base",
          "model_name": "LayoutModel",
          "state": {
            "_model_module": "@jupyter-widgets/base",
            "_model_module_version": "1.2.0",
            "_model_name": "LayoutModel",
            "_view_count": null,
            "_view_module": "@jupyter-widgets/base",
            "_view_module_version": "1.2.0",
            "_view_name": "LayoutView",
            "align_content": null,
            "align_items": null,
            "align_self": null,
            "border": null,
            "bottom": null,
            "display": null,
            "flex": null,
            "flex_flow": null,
            "grid_area": null,
            "grid_auto_columns": null,
            "grid_auto_flow": null,
            "grid_auto_rows": null,
            "grid_column": null,
            "grid_gap": null,
            "grid_row": null,
            "grid_template_areas": null,
            "grid_template_columns": null,
            "grid_template_rows": null,
            "height": null,
            "justify_content": null,
            "justify_items": null,
            "left": null,
            "margin": null,
            "max_height": null,
            "max_width": null,
            "min_height": null,
            "min_width": null,
            "object_fit": null,
            "object_position": null,
            "order": null,
            "overflow": null,
            "overflow_x": null,
            "overflow_y": null,
            "padding": null,
            "right": null,
            "top": null,
            "visibility": null,
            "width": null
          }
        },
        "bc81d6c8479642dd996a291c4b2945c5": {
          "model_module": "@jupyter-widgets/controls",
          "model_name": "DescriptionStyleModel",
          "state": {
            "_model_module": "@jupyter-widgets/controls",
            "_model_module_version": "1.5.0",
            "_model_name": "DescriptionStyleModel",
            "_view_count": null,
            "_view_module": "@jupyter-widgets/base",
            "_view_module_version": "1.2.0",
            "_view_name": "StyleView",
            "description_width": ""
          }
        },
        "839e14242eee456492c396d336b44ab3": {
          "model_module": "@jupyter-widgets/controls",
          "model_name": "HBoxModel",
          "state": {
            "_dom_classes": [],
            "_model_module": "@jupyter-widgets/controls",
            "_model_module_version": "1.5.0",
            "_model_name": "HBoxModel",
            "_view_count": null,
            "_view_module": "@jupyter-widgets/controls",
            "_view_module_version": "1.5.0",
            "_view_name": "HBoxView",
            "box_style": "",
            "children": [
              "IPY_MODEL_744cd4dc5b804e46ad2f3d5b20cb56f3",
              "IPY_MODEL_bffe716a55e844188876af14f71f75f6"
            ],
            "layout": "IPY_MODEL_5a5dca80dc724408a2ea1a3b713d2ce0"
          }
        },
        "744cd4dc5b804e46ad2f3d5b20cb56f3": {
          "model_module": "@jupyter-widgets/controls",
          "model_name": "FloatProgressModel",
          "state": {
            "_dom_classes": [],
            "_model_module": "@jupyter-widgets/controls",
            "_model_module_version": "1.5.0",
            "_model_name": "FloatProgressModel",
            "_view_count": null,
            "_view_module": "@jupyter-widgets/controls",
            "_view_module_version": "1.5.0",
            "_view_name": "ProgressView",
            "bar_style": "success",
            "description": "Test Loss: 496.6, Test Acc: 0.7461: 100%",
            "description_tooltip": null,
            "layout": "IPY_MODEL_4849fc4f75ee4f8a8a090b1f204c7fe8",
            "max": 250,
            "min": 0,
            "orientation": "horizontal",
            "style": "IPY_MODEL_9d06afa3a9cf423c9f15f0f15a41315a",
            "value": 250
          }
        },
        "bffe716a55e844188876af14f71f75f6": {
          "model_module": "@jupyter-widgets/controls",
          "model_name": "HTMLModel",
          "state": {
            "_dom_classes": [],
            "_model_module": "@jupyter-widgets/controls",
            "_model_module_version": "1.5.0",
            "_model_name": "HTMLModel",
            "_view_count": null,
            "_view_module": "@jupyter-widgets/controls",
            "_view_module_version": "1.5.0",
            "_view_name": "HTMLView",
            "description": "",
            "description_tooltip": null,
            "layout": "IPY_MODEL_3e6290b2571740828408e10f169e531f",
            "placeholder": "​",
            "style": "IPY_MODEL_c365026e43f7406896bd3678b01e48d7",
            "value": " 250/250 [00:43&lt;00:00,  5.70it/s]"
          }
        },
        "5a5dca80dc724408a2ea1a3b713d2ce0": {
          "model_module": "@jupyter-widgets/base",
          "model_name": "LayoutModel",
          "state": {
            "_model_module": "@jupyter-widgets/base",
            "_model_module_version": "1.2.0",
            "_model_name": "LayoutModel",
            "_view_count": null,
            "_view_module": "@jupyter-widgets/base",
            "_view_module_version": "1.2.0",
            "_view_name": "LayoutView",
            "align_content": null,
            "align_items": null,
            "align_self": null,
            "border": null,
            "bottom": null,
            "display": null,
            "flex": null,
            "flex_flow": null,
            "grid_area": null,
            "grid_auto_columns": null,
            "grid_auto_flow": null,
            "grid_auto_rows": null,
            "grid_column": null,
            "grid_gap": null,
            "grid_row": null,
            "grid_template_areas": null,
            "grid_template_columns": null,
            "grid_template_rows": null,
            "height": null,
            "justify_content": null,
            "justify_items": null,
            "left": null,
            "margin": null,
            "max_height": null,
            "max_width": null,
            "min_height": null,
            "min_width": null,
            "object_fit": null,
            "object_position": null,
            "order": null,
            "overflow": null,
            "overflow_x": null,
            "overflow_y": null,
            "padding": null,
            "right": null,
            "top": null,
            "visibility": null,
            "width": null
          }
        },
        "4849fc4f75ee4f8a8a090b1f204c7fe8": {
          "model_module": "@jupyter-widgets/base",
          "model_name": "LayoutModel",
          "state": {
            "_model_module": "@jupyter-widgets/base",
            "_model_module_version": "1.2.0",
            "_model_name": "LayoutModel",
            "_view_count": null,
            "_view_module": "@jupyter-widgets/base",
            "_view_module_version": "1.2.0",
            "_view_name": "LayoutView",
            "align_content": null,
            "align_items": null,
            "align_self": null,
            "border": null,
            "bottom": null,
            "display": null,
            "flex": null,
            "flex_flow": null,
            "grid_area": null,
            "grid_auto_columns": null,
            "grid_auto_flow": null,
            "grid_auto_rows": null,
            "grid_column": null,
            "grid_gap": null,
            "grid_row": null,
            "grid_template_areas": null,
            "grid_template_columns": null,
            "grid_template_rows": null,
            "height": null,
            "justify_content": null,
            "justify_items": null,
            "left": null,
            "margin": null,
            "max_height": null,
            "max_width": null,
            "min_height": null,
            "min_width": null,
            "object_fit": null,
            "object_position": null,
            "order": null,
            "overflow": null,
            "overflow_x": null,
            "overflow_y": null,
            "padding": null,
            "right": null,
            "top": null,
            "visibility": null,
            "width": null
          }
        },
        "9d06afa3a9cf423c9f15f0f15a41315a": {
          "model_module": "@jupyter-widgets/controls",
          "model_name": "ProgressStyleModel",
          "state": {
            "_model_module": "@jupyter-widgets/controls",
            "_model_module_version": "1.5.0",
            "_model_name": "ProgressStyleModel",
            "_view_count": null,
            "_view_module": "@jupyter-widgets/base",
            "_view_module_version": "1.2.0",
            "_view_name": "StyleView",
            "bar_color": null,
            "description_width": "initial"
          }
        },
        "3e6290b2571740828408e10f169e531f": {
          "model_module": "@jupyter-widgets/base",
          "model_name": "LayoutModel",
          "state": {
            "_model_module": "@jupyter-widgets/base",
            "_model_module_version": "1.2.0",
            "_model_name": "LayoutModel",
            "_view_count": null,
            "_view_module": "@jupyter-widgets/base",
            "_view_module_version": "1.2.0",
            "_view_name": "LayoutView",
            "align_content": null,
            "align_items": null,
            "align_self": null,
            "border": null,
            "bottom": null,
            "display": null,
            "flex": null,
            "flex_flow": null,
            "grid_area": null,
            "grid_auto_columns": null,
            "grid_auto_flow": null,
            "grid_auto_rows": null,
            "grid_column": null,
            "grid_gap": null,
            "grid_row": null,
            "grid_template_areas": null,
            "grid_template_columns": null,
            "grid_template_rows": null,
            "height": null,
            "justify_content": null,
            "justify_items": null,
            "left": null,
            "margin": null,
            "max_height": null,
            "max_width": null,
            "min_height": null,
            "min_width": null,
            "object_fit": null,
            "object_position": null,
            "order": null,
            "overflow": null,
            "overflow_x": null,
            "overflow_y": null,
            "padding": null,
            "right": null,
            "top": null,
            "visibility": null,
            "width": null
          }
        },
        "c365026e43f7406896bd3678b01e48d7": {
          "model_module": "@jupyter-widgets/controls",
          "model_name": "DescriptionStyleModel",
          "state": {
            "_model_module": "@jupyter-widgets/controls",
            "_model_module_version": "1.5.0",
            "_model_name": "DescriptionStyleModel",
            "_view_count": null,
            "_view_module": "@jupyter-widgets/base",
            "_view_module_version": "1.2.0",
            "_view_name": "StyleView",
            "description_width": ""
          }
        },
        "5f4c4e2f54eb487d9d392a036b0bf29e": {
          "model_module": "@jupyter-widgets/controls",
          "model_name": "HBoxModel",
          "state": {
            "_dom_classes": [],
            "_model_module": "@jupyter-widgets/controls",
            "_model_module_version": "1.5.0",
            "_model_name": "HBoxModel",
            "_view_count": null,
            "_view_module": "@jupyter-widgets/controls",
            "_view_module_version": "1.5.0",
            "_view_name": "HBoxView",
            "box_style": "",
            "children": [
              "IPY_MODEL_a2785f4dd0304a7c9b9ac51a257770c8",
              "IPY_MODEL_c7f30d1763f14ad5a431417adab71548"
            ],
            "layout": "IPY_MODEL_6523d6724e724239810f345a89e2e7f5"
          }
        },
        "a2785f4dd0304a7c9b9ac51a257770c8": {
          "model_module": "@jupyter-widgets/controls",
          "model_name": "FloatProgressModel",
          "state": {
            "_dom_classes": [],
            "_model_module": "@jupyter-widgets/controls",
            "_model_module_version": "1.5.0",
            "_model_name": "FloatProgressModel",
            "_view_count": null,
            "_view_module": "@jupyter-widgets/controls",
            "_view_module_version": "1.5.0",
            "_view_name": "ProgressView",
            "bar_style": "success",
            "description": "Test Loss: 503.5, Test Acc: 0.7593: 100%",
            "description_tooltip": null,
            "layout": "IPY_MODEL_448a92b032824d12b3bfc9146534185f",
            "max": 313,
            "min": 0,
            "orientation": "horizontal",
            "style": "IPY_MODEL_b60bbc250c714f1db9f4666a62167bc1",
            "value": 313
          }
        },
        "c7f30d1763f14ad5a431417adab71548": {
          "model_module": "@jupyter-widgets/controls",
          "model_name": "HTMLModel",
          "state": {
            "_dom_classes": [],
            "_model_module": "@jupyter-widgets/controls",
            "_model_module_version": "1.5.0",
            "_model_name": "HTMLModel",
            "_view_count": null,
            "_view_module": "@jupyter-widgets/controls",
            "_view_module_version": "1.5.0",
            "_view_name": "HTMLView",
            "description": "",
            "description_tooltip": null,
            "layout": "IPY_MODEL_e1c13797c517423bb217162e92970d3a",
            "placeholder": "​",
            "style": "IPY_MODEL_b1fae8a565ad437eac7297c450945096",
            "value": " 313/313 [20:51&lt;00:00,  4.00s/it]"
          }
        },
        "6523d6724e724239810f345a89e2e7f5": {
          "model_module": "@jupyter-widgets/base",
          "model_name": "LayoutModel",
          "state": {
            "_model_module": "@jupyter-widgets/base",
            "_model_module_version": "1.2.0",
            "_model_name": "LayoutModel",
            "_view_count": null,
            "_view_module": "@jupyter-widgets/base",
            "_view_module_version": "1.2.0",
            "_view_name": "LayoutView",
            "align_content": null,
            "align_items": null,
            "align_self": null,
            "border": null,
            "bottom": null,
            "display": null,
            "flex": null,
            "flex_flow": null,
            "grid_area": null,
            "grid_auto_columns": null,
            "grid_auto_flow": null,
            "grid_auto_rows": null,
            "grid_column": null,
            "grid_gap": null,
            "grid_row": null,
            "grid_template_areas": null,
            "grid_template_columns": null,
            "grid_template_rows": null,
            "height": null,
            "justify_content": null,
            "justify_items": null,
            "left": null,
            "margin": null,
            "max_height": null,
            "max_width": null,
            "min_height": null,
            "min_width": null,
            "object_fit": null,
            "object_position": null,
            "order": null,
            "overflow": null,
            "overflow_x": null,
            "overflow_y": null,
            "padding": null,
            "right": null,
            "top": null,
            "visibility": null,
            "width": null
          }
        },
        "448a92b032824d12b3bfc9146534185f": {
          "model_module": "@jupyter-widgets/base",
          "model_name": "LayoutModel",
          "state": {
            "_model_module": "@jupyter-widgets/base",
            "_model_module_version": "1.2.0",
            "_model_name": "LayoutModel",
            "_view_count": null,
            "_view_module": "@jupyter-widgets/base",
            "_view_module_version": "1.2.0",
            "_view_name": "LayoutView",
            "align_content": null,
            "align_items": null,
            "align_self": null,
            "border": null,
            "bottom": null,
            "display": null,
            "flex": null,
            "flex_flow": null,
            "grid_area": null,
            "grid_auto_columns": null,
            "grid_auto_flow": null,
            "grid_auto_rows": null,
            "grid_column": null,
            "grid_gap": null,
            "grid_row": null,
            "grid_template_areas": null,
            "grid_template_columns": null,
            "grid_template_rows": null,
            "height": null,
            "justify_content": null,
            "justify_items": null,
            "left": null,
            "margin": null,
            "max_height": null,
            "max_width": null,
            "min_height": null,
            "min_width": null,
            "object_fit": null,
            "object_position": null,
            "order": null,
            "overflow": null,
            "overflow_x": null,
            "overflow_y": null,
            "padding": null,
            "right": null,
            "top": null,
            "visibility": null,
            "width": null
          }
        },
        "b60bbc250c714f1db9f4666a62167bc1": {
          "model_module": "@jupyter-widgets/controls",
          "model_name": "ProgressStyleModel",
          "state": {
            "_model_module": "@jupyter-widgets/controls",
            "_model_module_version": "1.5.0",
            "_model_name": "ProgressStyleModel",
            "_view_count": null,
            "_view_module": "@jupyter-widgets/base",
            "_view_module_version": "1.2.0",
            "_view_name": "StyleView",
            "bar_color": null,
            "description_width": "initial"
          }
        },
        "e1c13797c517423bb217162e92970d3a": {
          "model_module": "@jupyter-widgets/base",
          "model_name": "LayoutModel",
          "state": {
            "_model_module": "@jupyter-widgets/base",
            "_model_module_version": "1.2.0",
            "_model_name": "LayoutModel",
            "_view_count": null,
            "_view_module": "@jupyter-widgets/base",
            "_view_module_version": "1.2.0",
            "_view_name": "LayoutView",
            "align_content": null,
            "align_items": null,
            "align_self": null,
            "border": null,
            "bottom": null,
            "display": null,
            "flex": null,
            "flex_flow": null,
            "grid_area": null,
            "grid_auto_columns": null,
            "grid_auto_flow": null,
            "grid_auto_rows": null,
            "grid_column": null,
            "grid_gap": null,
            "grid_row": null,
            "grid_template_areas": null,
            "grid_template_columns": null,
            "grid_template_rows": null,
            "height": null,
            "justify_content": null,
            "justify_items": null,
            "left": null,
            "margin": null,
            "max_height": null,
            "max_width": null,
            "min_height": null,
            "min_width": null,
            "object_fit": null,
            "object_position": null,
            "order": null,
            "overflow": null,
            "overflow_x": null,
            "overflow_y": null,
            "padding": null,
            "right": null,
            "top": null,
            "visibility": null,
            "width": null
          }
        },
        "b1fae8a565ad437eac7297c450945096": {
          "model_module": "@jupyter-widgets/controls",
          "model_name": "DescriptionStyleModel",
          "state": {
            "_model_module": "@jupyter-widgets/controls",
            "_model_module_version": "1.5.0",
            "_model_name": "DescriptionStyleModel",
            "_view_count": null,
            "_view_module": "@jupyter-widgets/base",
            "_view_module_version": "1.2.0",
            "_view_name": "StyleView",
            "description_width": ""
          }
        },
        "d335b42ea87d47dcbdd8f9c60f6bf922": {
          "model_module": "@jupyter-widgets/controls",
          "model_name": "HBoxModel",
          "state": {
            "_view_name": "HBoxView",
            "_dom_classes": [],
            "_model_name": "HBoxModel",
            "_view_module": "@jupyter-widgets/controls",
            "_model_module_version": "1.5.0",
            "_view_count": null,
            "_view_module_version": "1.5.0",
            "box_style": "",
            "layout": "IPY_MODEL_80724adbb66e47be9f19e50992b56f57",
            "_model_module": "@jupyter-widgets/controls",
            "children": [
              "IPY_MODEL_139e46f9253f490b88fd3b94975d10fc",
              "IPY_MODEL_3912aa5e348b4f1d930faadfd1632971"
            ]
          }
        },
        "80724adbb66e47be9f19e50992b56f57": {
          "model_module": "@jupyter-widgets/base",
          "model_name": "LayoutModel",
          "state": {
            "_view_name": "LayoutView",
            "grid_template_rows": null,
            "right": null,
            "justify_content": null,
            "_view_module": "@jupyter-widgets/base",
            "overflow": null,
            "_model_module_version": "1.2.0",
            "_view_count": null,
            "flex_flow": null,
            "width": null,
            "min_width": null,
            "border": null,
            "align_items": null,
            "bottom": null,
            "_model_module": "@jupyter-widgets/base",
            "top": null,
            "grid_column": null,
            "overflow_y": null,
            "overflow_x": null,
            "grid_auto_flow": null,
            "grid_area": null,
            "grid_template_columns": null,
            "flex": null,
            "_model_name": "LayoutModel",
            "justify_items": null,
            "grid_row": null,
            "max_height": null,
            "align_content": null,
            "visibility": null,
            "align_self": null,
            "height": null,
            "min_height": null,
            "padding": null,
            "grid_auto_rows": null,
            "grid_gap": null,
            "max_width": null,
            "order": null,
            "_view_module_version": "1.2.0",
            "grid_template_areas": null,
            "object_position": null,
            "object_fit": null,
            "grid_auto_columns": null,
            "margin": null,
            "display": null,
            "left": null
          }
        },
        "139e46f9253f490b88fd3b94975d10fc": {
          "model_module": "@jupyter-widgets/controls",
          "model_name": "FloatProgressModel",
          "state": {
            "_view_name": "ProgressView",
            "style": "IPY_MODEL_3b807a18625247248e90a63ddabe3184",
            "_dom_classes": [],
            "description": "Epoch 1. Train Loss: 540.6: 100%",
            "_model_name": "FloatProgressModel",
            "bar_style": "success",
            "max": 1000,
            "_view_module": "@jupyter-widgets/controls",
            "_model_module_version": "1.5.0",
            "value": 1000,
            "_view_count": null,
            "_view_module_version": "1.5.0",
            "orientation": "horizontal",
            "min": 0,
            "description_tooltip": null,
            "_model_module": "@jupyter-widgets/controls",
            "layout": "IPY_MODEL_8fc4b337554e48fbb46a170a47ecfedf"
          }
        },
        "3912aa5e348b4f1d930faadfd1632971": {
          "model_module": "@jupyter-widgets/controls",
          "model_name": "HTMLModel",
          "state": {
            "_view_name": "HTMLView",
            "style": "IPY_MODEL_ed93522e63614bf5a06b3a8d447c483d",
            "_dom_classes": [],
            "description": "",
            "_model_name": "HTMLModel",
            "placeholder": "​",
            "_view_module": "@jupyter-widgets/controls",
            "_model_module_version": "1.5.0",
            "value": " 1000/1000 [04:41&lt;00:00,  3.55it/s]",
            "_view_count": null,
            "_view_module_version": "1.5.0",
            "description_tooltip": null,
            "_model_module": "@jupyter-widgets/controls",
            "layout": "IPY_MODEL_13f9d02dda784d60a1d196a2c550c022"
          }
        },
        "3b807a18625247248e90a63ddabe3184": {
          "model_module": "@jupyter-widgets/controls",
          "model_name": "ProgressStyleModel",
          "state": {
            "_view_name": "StyleView",
            "_model_name": "ProgressStyleModel",
            "description_width": "initial",
            "_view_module": "@jupyter-widgets/base",
            "_model_module_version": "1.5.0",
            "_view_count": null,
            "_view_module_version": "1.2.0",
            "bar_color": null,
            "_model_module": "@jupyter-widgets/controls"
          }
        },
        "8fc4b337554e48fbb46a170a47ecfedf": {
          "model_module": "@jupyter-widgets/base",
          "model_name": "LayoutModel",
          "state": {
            "_view_name": "LayoutView",
            "grid_template_rows": null,
            "right": null,
            "justify_content": null,
            "_view_module": "@jupyter-widgets/base",
            "overflow": null,
            "_model_module_version": "1.2.0",
            "_view_count": null,
            "flex_flow": null,
            "width": null,
            "min_width": null,
            "border": null,
            "align_items": null,
            "bottom": null,
            "_model_module": "@jupyter-widgets/base",
            "top": null,
            "grid_column": null,
            "overflow_y": null,
            "overflow_x": null,
            "grid_auto_flow": null,
            "grid_area": null,
            "grid_template_columns": null,
            "flex": null,
            "_model_name": "LayoutModel",
            "justify_items": null,
            "grid_row": null,
            "max_height": null,
            "align_content": null,
            "visibility": null,
            "align_self": null,
            "height": null,
            "min_height": null,
            "padding": null,
            "grid_auto_rows": null,
            "grid_gap": null,
            "max_width": null,
            "order": null,
            "_view_module_version": "1.2.0",
            "grid_template_areas": null,
            "object_position": null,
            "object_fit": null,
            "grid_auto_columns": null,
            "margin": null,
            "display": null,
            "left": null
          }
        },
        "ed93522e63614bf5a06b3a8d447c483d": {
          "model_module": "@jupyter-widgets/controls",
          "model_name": "DescriptionStyleModel",
          "state": {
            "_view_name": "StyleView",
            "_model_name": "DescriptionStyleModel",
            "description_width": "",
            "_view_module": "@jupyter-widgets/base",
            "_model_module_version": "1.5.0",
            "_view_count": null,
            "_view_module_version": "1.2.0",
            "_model_module": "@jupyter-widgets/controls"
          }
        },
        "13f9d02dda784d60a1d196a2c550c022": {
          "model_module": "@jupyter-widgets/base",
          "model_name": "LayoutModel",
          "state": {
            "_view_name": "LayoutView",
            "grid_template_rows": null,
            "right": null,
            "justify_content": null,
            "_view_module": "@jupyter-widgets/base",
            "overflow": null,
            "_model_module_version": "1.2.0",
            "_view_count": null,
            "flex_flow": null,
            "width": null,
            "min_width": null,
            "border": null,
            "align_items": null,
            "bottom": null,
            "_model_module": "@jupyter-widgets/base",
            "top": null,
            "grid_column": null,
            "overflow_y": null,
            "overflow_x": null,
            "grid_auto_flow": null,
            "grid_area": null,
            "grid_template_columns": null,
            "flex": null,
            "_model_name": "LayoutModel",
            "justify_items": null,
            "grid_row": null,
            "max_height": null,
            "align_content": null,
            "visibility": null,
            "align_self": null,
            "height": null,
            "min_height": null,
            "padding": null,
            "grid_auto_rows": null,
            "grid_gap": null,
            "max_width": null,
            "order": null,
            "_view_module_version": "1.2.0",
            "grid_template_areas": null,
            "object_position": null,
            "object_fit": null,
            "grid_auto_columns": null,
            "margin": null,
            "display": null,
            "left": null
          }
        },
        "4432c984f8c14ed3a22862e3ee14160c": {
          "model_module": "@jupyter-widgets/controls",
          "model_name": "HBoxModel",
          "state": {
            "_view_name": "HBoxView",
            "_dom_classes": [],
            "_model_name": "HBoxModel",
            "_view_module": "@jupyter-widgets/controls",
            "_model_module_version": "1.5.0",
            "_view_count": null,
            "_view_module_version": "1.5.0",
            "box_style": "",
            "layout": "IPY_MODEL_f598213ce94245d393d8fba7f2c50ec5",
            "_model_module": "@jupyter-widgets/controls",
            "children": [
              "IPY_MODEL_1e3e46dc5f1f4cf88ab1994bec981201",
              "IPY_MODEL_9e525775b0454761ac5ec5dce30b6cfa"
            ]
          }
        },
        "f598213ce94245d393d8fba7f2c50ec5": {
          "model_module": "@jupyter-widgets/base",
          "model_name": "LayoutModel",
          "state": {
            "_view_name": "LayoutView",
            "grid_template_rows": null,
            "right": null,
            "justify_content": null,
            "_view_module": "@jupyter-widgets/base",
            "overflow": null,
            "_model_module_version": "1.2.0",
            "_view_count": null,
            "flex_flow": null,
            "width": null,
            "min_width": null,
            "border": null,
            "align_items": null,
            "bottom": null,
            "_model_module": "@jupyter-widgets/base",
            "top": null,
            "grid_column": null,
            "overflow_y": null,
            "overflow_x": null,
            "grid_auto_flow": null,
            "grid_area": null,
            "grid_template_columns": null,
            "flex": null,
            "_model_name": "LayoutModel",
            "justify_items": null,
            "grid_row": null,
            "max_height": null,
            "align_content": null,
            "visibility": null,
            "align_self": null,
            "height": null,
            "min_height": null,
            "padding": null,
            "grid_auto_rows": null,
            "grid_gap": null,
            "max_width": null,
            "order": null,
            "_view_module_version": "1.2.0",
            "grid_template_areas": null,
            "object_position": null,
            "object_fit": null,
            "grid_auto_columns": null,
            "margin": null,
            "display": null,
            "left": null
          }
        },
        "1e3e46dc5f1f4cf88ab1994bec981201": {
          "model_module": "@jupyter-widgets/controls",
          "model_name": "FloatProgressModel",
          "state": {
            "_view_name": "ProgressView",
            "style": "IPY_MODEL_19755b9775b54e8397f3a1e87fe45043",
            "_dom_classes": [],
            "description": "Test Loss: 524.1, Test Acc: 0.7451: 100%",
            "_model_name": "FloatProgressModel",
            "bar_style": "success",
            "max": 250,
            "_view_module": "@jupyter-widgets/controls",
            "_model_module_version": "1.5.0",
            "value": 250,
            "_view_count": null,
            "_view_module_version": "1.5.0",
            "orientation": "horizontal",
            "min": 0,
            "description_tooltip": null,
            "_model_module": "@jupyter-widgets/controls",
            "layout": "IPY_MODEL_d7f53226e8144a45a32a1583464b7850"
          }
        },
        "9e525775b0454761ac5ec5dce30b6cfa": {
          "model_module": "@jupyter-widgets/controls",
          "model_name": "HTMLModel",
          "state": {
            "_view_name": "HTMLView",
            "style": "IPY_MODEL_40cfd1a3c81e4d349fcd1382d42a2981",
            "_dom_classes": [],
            "description": "",
            "_model_name": "HTMLModel",
            "placeholder": "​",
            "_view_module": "@jupyter-widgets/controls",
            "_model_module_version": "1.5.0",
            "value": " 250/250 [01:10&lt;00:00,  3.54it/s]",
            "_view_count": null,
            "_view_module_version": "1.5.0",
            "description_tooltip": null,
            "_model_module": "@jupyter-widgets/controls",
            "layout": "IPY_MODEL_bca06856a10f4de294c5fed2c2e9ac2e"
          }
        },
        "19755b9775b54e8397f3a1e87fe45043": {
          "model_module": "@jupyter-widgets/controls",
          "model_name": "ProgressStyleModel",
          "state": {
            "_view_name": "StyleView",
            "_model_name": "ProgressStyleModel",
            "description_width": "initial",
            "_view_module": "@jupyter-widgets/base",
            "_model_module_version": "1.5.0",
            "_view_count": null,
            "_view_module_version": "1.2.0",
            "bar_color": null,
            "_model_module": "@jupyter-widgets/controls"
          }
        },
        "d7f53226e8144a45a32a1583464b7850": {
          "model_module": "@jupyter-widgets/base",
          "model_name": "LayoutModel",
          "state": {
            "_view_name": "LayoutView",
            "grid_template_rows": null,
            "right": null,
            "justify_content": null,
            "_view_module": "@jupyter-widgets/base",
            "overflow": null,
            "_model_module_version": "1.2.0",
            "_view_count": null,
            "flex_flow": null,
            "width": null,
            "min_width": null,
            "border": null,
            "align_items": null,
            "bottom": null,
            "_model_module": "@jupyter-widgets/base",
            "top": null,
            "grid_column": null,
            "overflow_y": null,
            "overflow_x": null,
            "grid_auto_flow": null,
            "grid_area": null,
            "grid_template_columns": null,
            "flex": null,
            "_model_name": "LayoutModel",
            "justify_items": null,
            "grid_row": null,
            "max_height": null,
            "align_content": null,
            "visibility": null,
            "align_self": null,
            "height": null,
            "min_height": null,
            "padding": null,
            "grid_auto_rows": null,
            "grid_gap": null,
            "max_width": null,
            "order": null,
            "_view_module_version": "1.2.0",
            "grid_template_areas": null,
            "object_position": null,
            "object_fit": null,
            "grid_auto_columns": null,
            "margin": null,
            "display": null,
            "left": null
          }
        },
        "40cfd1a3c81e4d349fcd1382d42a2981": {
          "model_module": "@jupyter-widgets/controls",
          "model_name": "DescriptionStyleModel",
          "state": {
            "_view_name": "StyleView",
            "_model_name": "DescriptionStyleModel",
            "description_width": "",
            "_view_module": "@jupyter-widgets/base",
            "_model_module_version": "1.5.0",
            "_view_count": null,
            "_view_module_version": "1.2.0",
            "_model_module": "@jupyter-widgets/controls"
          }
        },
        "bca06856a10f4de294c5fed2c2e9ac2e": {
          "model_module": "@jupyter-widgets/base",
          "model_name": "LayoutModel",
          "state": {
            "_view_name": "LayoutView",
            "grid_template_rows": null,
            "right": null,
            "justify_content": null,
            "_view_module": "@jupyter-widgets/base",
            "overflow": null,
            "_model_module_version": "1.2.0",
            "_view_count": null,
            "flex_flow": null,
            "width": null,
            "min_width": null,
            "border": null,
            "align_items": null,
            "bottom": null,
            "_model_module": "@jupyter-widgets/base",
            "top": null,
            "grid_column": null,
            "overflow_y": null,
            "overflow_x": null,
            "grid_auto_flow": null,
            "grid_area": null,
            "grid_template_columns": null,
            "flex": null,
            "_model_name": "LayoutModel",
            "justify_items": null,
            "grid_row": null,
            "max_height": null,
            "align_content": null,
            "visibility": null,
            "align_self": null,
            "height": null,
            "min_height": null,
            "padding": null,
            "grid_auto_rows": null,
            "grid_gap": null,
            "max_width": null,
            "order": null,
            "_view_module_version": "1.2.0",
            "grid_template_areas": null,
            "object_position": null,
            "object_fit": null,
            "grid_auto_columns": null,
            "margin": null,
            "display": null,
            "left": null
          }
        },
        "e2a18366413a44a9b35b0c4cc5dfdbd6": {
          "model_module": "@jupyter-widgets/controls",
          "model_name": "HBoxModel",
          "state": {
            "_dom_classes": [],
            "_model_module": "@jupyter-widgets/controls",
            "_model_module_version": "1.5.0",
            "_model_name": "HBoxModel",
            "_view_count": null,
            "_view_module": "@jupyter-widgets/controls",
            "_view_module_version": "1.5.0",
            "_view_name": "HBoxView",
            "box_style": "",
            "children": [
              "IPY_MODEL_327dacf87337479ea5007f6d6100df02",
              "IPY_MODEL_7efd5cea7946453494bd849e9d0d2070"
            ],
            "layout": "IPY_MODEL_b6c0175532ae4957a4b813a775216ad3"
          }
        },
        "327dacf87337479ea5007f6d6100df02": {
          "model_module": "@jupyter-widgets/controls",
          "model_name": "FloatProgressModel",
          "state": {
            "_dom_classes": [],
            "_model_module": "@jupyter-widgets/controls",
            "_model_module_version": "1.5.0",
            "_model_name": "FloatProgressModel",
            "_view_count": null,
            "_view_module": "@jupyter-widgets/controls",
            "_view_module_version": "1.5.0",
            "_view_name": "ProgressView",
            "bar_style": "success",
            "description": "Test Loss: 508.4, Test Acc: 0.7552: 100%",
            "description_tooltip": null,
            "layout": "IPY_MODEL_6c4104c604c74c029f1c723c1bcfa842",
            "max": 313,
            "min": 0,
            "orientation": "horizontal",
            "style": "IPY_MODEL_bc4145c43fd54b29ae1b18745f1ebb5a",
            "value": 313
          }
        },
        "7efd5cea7946453494bd849e9d0d2070": {
          "model_module": "@jupyter-widgets/controls",
          "model_name": "HTMLModel",
          "state": {
            "_dom_classes": [],
            "_model_module": "@jupyter-widgets/controls",
            "_model_module_version": "1.5.0",
            "_model_name": "HTMLModel",
            "_view_count": null,
            "_view_module": "@jupyter-widgets/controls",
            "_view_module_version": "1.5.0",
            "_view_name": "HTMLView",
            "description": "",
            "description_tooltip": null,
            "layout": "IPY_MODEL_5c8e079bab45434a88abbf5bca76f25a",
            "placeholder": "​",
            "style": "IPY_MODEL_ab10bed68afe42b2aa84716dd2022db1",
            "value": " 313/313 [11:20&lt;00:00,  2.17s/it]"
          }
        },
        "b6c0175532ae4957a4b813a775216ad3": {
          "model_module": "@jupyter-widgets/base",
          "model_name": "LayoutModel",
          "state": {
            "_model_module": "@jupyter-widgets/base",
            "_model_module_version": "1.2.0",
            "_model_name": "LayoutModel",
            "_view_count": null,
            "_view_module": "@jupyter-widgets/base",
            "_view_module_version": "1.2.0",
            "_view_name": "LayoutView",
            "align_content": null,
            "align_items": null,
            "align_self": null,
            "border": null,
            "bottom": null,
            "display": null,
            "flex": null,
            "flex_flow": null,
            "grid_area": null,
            "grid_auto_columns": null,
            "grid_auto_flow": null,
            "grid_auto_rows": null,
            "grid_column": null,
            "grid_gap": null,
            "grid_row": null,
            "grid_template_areas": null,
            "grid_template_columns": null,
            "grid_template_rows": null,
            "height": null,
            "justify_content": null,
            "justify_items": null,
            "left": null,
            "margin": null,
            "max_height": null,
            "max_width": null,
            "min_height": null,
            "min_width": null,
            "object_fit": null,
            "object_position": null,
            "order": null,
            "overflow": null,
            "overflow_x": null,
            "overflow_y": null,
            "padding": null,
            "right": null,
            "top": null,
            "visibility": null,
            "width": null
          }
        },
        "6c4104c604c74c029f1c723c1bcfa842": {
          "model_module": "@jupyter-widgets/base",
          "model_name": "LayoutModel",
          "state": {
            "_model_module": "@jupyter-widgets/base",
            "_model_module_version": "1.2.0",
            "_model_name": "LayoutModel",
            "_view_count": null,
            "_view_module": "@jupyter-widgets/base",
            "_view_module_version": "1.2.0",
            "_view_name": "LayoutView",
            "align_content": null,
            "align_items": null,
            "align_self": null,
            "border": null,
            "bottom": null,
            "display": null,
            "flex": null,
            "flex_flow": null,
            "grid_area": null,
            "grid_auto_columns": null,
            "grid_auto_flow": null,
            "grid_auto_rows": null,
            "grid_column": null,
            "grid_gap": null,
            "grid_row": null,
            "grid_template_areas": null,
            "grid_template_columns": null,
            "grid_template_rows": null,
            "height": null,
            "justify_content": null,
            "justify_items": null,
            "left": null,
            "margin": null,
            "max_height": null,
            "max_width": null,
            "min_height": null,
            "min_width": null,
            "object_fit": null,
            "object_position": null,
            "order": null,
            "overflow": null,
            "overflow_x": null,
            "overflow_y": null,
            "padding": null,
            "right": null,
            "top": null,
            "visibility": null,
            "width": null
          }
        },
        "bc4145c43fd54b29ae1b18745f1ebb5a": {
          "model_module": "@jupyter-widgets/controls",
          "model_name": "ProgressStyleModel",
          "state": {
            "_model_module": "@jupyter-widgets/controls",
            "_model_module_version": "1.5.0",
            "_model_name": "ProgressStyleModel",
            "_view_count": null,
            "_view_module": "@jupyter-widgets/base",
            "_view_module_version": "1.2.0",
            "_view_name": "StyleView",
            "bar_color": null,
            "description_width": "initial"
          }
        },
        "5c8e079bab45434a88abbf5bca76f25a": {
          "model_module": "@jupyter-widgets/base",
          "model_name": "LayoutModel",
          "state": {
            "_model_module": "@jupyter-widgets/base",
            "_model_module_version": "1.2.0",
            "_model_name": "LayoutModel",
            "_view_count": null,
            "_view_module": "@jupyter-widgets/base",
            "_view_module_version": "1.2.0",
            "_view_name": "LayoutView",
            "align_content": null,
            "align_items": null,
            "align_self": null,
            "border": null,
            "bottom": null,
            "display": null,
            "flex": null,
            "flex_flow": null,
            "grid_area": null,
            "grid_auto_columns": null,
            "grid_auto_flow": null,
            "grid_auto_rows": null,
            "grid_column": null,
            "grid_gap": null,
            "grid_row": null,
            "grid_template_areas": null,
            "grid_template_columns": null,
            "grid_template_rows": null,
            "height": null,
            "justify_content": null,
            "justify_items": null,
            "left": null,
            "margin": null,
            "max_height": null,
            "max_width": null,
            "min_height": null,
            "min_width": null,
            "object_fit": null,
            "object_position": null,
            "order": null,
            "overflow": null,
            "overflow_x": null,
            "overflow_y": null,
            "padding": null,
            "right": null,
            "top": null,
            "visibility": null,
            "width": null
          }
        },
        "ab10bed68afe42b2aa84716dd2022db1": {
          "model_module": "@jupyter-widgets/controls",
          "model_name": "DescriptionStyleModel",
          "state": {
            "_model_module": "@jupyter-widgets/controls",
            "_model_module_version": "1.5.0",
            "_model_name": "DescriptionStyleModel",
            "_view_count": null,
            "_view_module": "@jupyter-widgets/base",
            "_view_module_version": "1.2.0",
            "_view_name": "StyleView",
            "description_width": ""
          }
        },
        "c45cc851463b4fa3bc9bbf3841d30874": {
          "model_module": "@jupyter-widgets/controls",
          "model_name": "HBoxModel",
          "state": {
            "_view_name": "HBoxView",
            "_dom_classes": [],
            "_model_name": "HBoxModel",
            "_view_module": "@jupyter-widgets/controls",
            "_model_module_version": "1.5.0",
            "_view_count": null,
            "_view_module_version": "1.5.0",
            "box_style": "",
            "layout": "IPY_MODEL_0f8cab432cbc4b8382d14bce3c2a38c4",
            "_model_module": "@jupyter-widgets/controls",
            "children": [
              "IPY_MODEL_1c89a7f5b75b498cb22ce3606657b4c3",
              "IPY_MODEL_ff139853a1604fd5bbc94834d659bf24"
            ]
          }
        },
        "0f8cab432cbc4b8382d14bce3c2a38c4": {
          "model_module": "@jupyter-widgets/base",
          "model_name": "LayoutModel",
          "state": {
            "_view_name": "LayoutView",
            "grid_template_rows": null,
            "right": null,
            "justify_content": null,
            "_view_module": "@jupyter-widgets/base",
            "overflow": null,
            "_model_module_version": "1.2.0",
            "_view_count": null,
            "flex_flow": null,
            "width": null,
            "min_width": null,
            "border": null,
            "align_items": null,
            "bottom": null,
            "_model_module": "@jupyter-widgets/base",
            "top": null,
            "grid_column": null,
            "overflow_y": null,
            "overflow_x": null,
            "grid_auto_flow": null,
            "grid_area": null,
            "grid_template_columns": null,
            "flex": null,
            "_model_name": "LayoutModel",
            "justify_items": null,
            "grid_row": null,
            "max_height": null,
            "align_content": null,
            "visibility": null,
            "align_self": null,
            "height": null,
            "min_height": null,
            "padding": null,
            "grid_auto_rows": null,
            "grid_gap": null,
            "max_width": null,
            "order": null,
            "_view_module_version": "1.2.0",
            "grid_template_areas": null,
            "object_position": null,
            "object_fit": null,
            "grid_auto_columns": null,
            "margin": null,
            "display": null,
            "left": null
          }
        },
        "1c89a7f5b75b498cb22ce3606657b4c3": {
          "model_module": "@jupyter-widgets/controls",
          "model_name": "FloatProgressModel",
          "state": {
            "_view_name": "ProgressView",
            "style": "IPY_MODEL_5ce88c98088b45faaeabf203e65573bf",
            "_dom_classes": [],
            "description": "Epoch 1. Train Loss: 0:   0%",
            "_model_name": "FloatProgressModel",
            "bar_style": "danger",
            "max": 1000,
            "_view_module": "@jupyter-widgets/controls",
            "_model_module_version": "1.5.0",
            "value": 0,
            "_view_count": null,
            "_view_module_version": "1.5.0",
            "orientation": "horizontal",
            "min": 0,
            "description_tooltip": null,
            "_model_module": "@jupyter-widgets/controls",
            "layout": "IPY_MODEL_de90cc7882c34f51afa71568cfef1d44"
          }
        },
        "ff139853a1604fd5bbc94834d659bf24": {
          "model_module": "@jupyter-widgets/controls",
          "model_name": "HTMLModel",
          "state": {
            "_view_name": "HTMLView",
            "style": "IPY_MODEL_1fe1c47aca5c4d92ab58bb09cd72470c",
            "_dom_classes": [],
            "description": "",
            "_model_name": "HTMLModel",
            "placeholder": "​",
            "_view_module": "@jupyter-widgets/controls",
            "_model_module_version": "1.5.0",
            "value": " 0/1000 [03:18&lt;?, ?it/s]",
            "_view_count": null,
            "_view_module_version": "1.5.0",
            "description_tooltip": null,
            "_model_module": "@jupyter-widgets/controls",
            "layout": "IPY_MODEL_4ca6fcaee857414d97de67ac3d771347"
          }
        },
        "5ce88c98088b45faaeabf203e65573bf": {
          "model_module": "@jupyter-widgets/controls",
          "model_name": "ProgressStyleModel",
          "state": {
            "_view_name": "StyleView",
            "_model_name": "ProgressStyleModel",
            "description_width": "initial",
            "_view_module": "@jupyter-widgets/base",
            "_model_module_version": "1.5.0",
            "_view_count": null,
            "_view_module_version": "1.2.0",
            "bar_color": null,
            "_model_module": "@jupyter-widgets/controls"
          }
        },
        "de90cc7882c34f51afa71568cfef1d44": {
          "model_module": "@jupyter-widgets/base",
          "model_name": "LayoutModel",
          "state": {
            "_view_name": "LayoutView",
            "grid_template_rows": null,
            "right": null,
            "justify_content": null,
            "_view_module": "@jupyter-widgets/base",
            "overflow": null,
            "_model_module_version": "1.2.0",
            "_view_count": null,
            "flex_flow": null,
            "width": null,
            "min_width": null,
            "border": null,
            "align_items": null,
            "bottom": null,
            "_model_module": "@jupyter-widgets/base",
            "top": null,
            "grid_column": null,
            "overflow_y": null,
            "overflow_x": null,
            "grid_auto_flow": null,
            "grid_area": null,
            "grid_template_columns": null,
            "flex": null,
            "_model_name": "LayoutModel",
            "justify_items": null,
            "grid_row": null,
            "max_height": null,
            "align_content": null,
            "visibility": null,
            "align_self": null,
            "height": null,
            "min_height": null,
            "padding": null,
            "grid_auto_rows": null,
            "grid_gap": null,
            "max_width": null,
            "order": null,
            "_view_module_version": "1.2.0",
            "grid_template_areas": null,
            "object_position": null,
            "object_fit": null,
            "grid_auto_columns": null,
            "margin": null,
            "display": null,
            "left": null
          }
        },
        "1fe1c47aca5c4d92ab58bb09cd72470c": {
          "model_module": "@jupyter-widgets/controls",
          "model_name": "DescriptionStyleModel",
          "state": {
            "_view_name": "StyleView",
            "_model_name": "DescriptionStyleModel",
            "description_width": "",
            "_view_module": "@jupyter-widgets/base",
            "_model_module_version": "1.5.0",
            "_view_count": null,
            "_view_module_version": "1.2.0",
            "_model_module": "@jupyter-widgets/controls"
          }
        },
        "4ca6fcaee857414d97de67ac3d771347": {
          "model_module": "@jupyter-widgets/base",
          "model_name": "LayoutModel",
          "state": {
            "_view_name": "LayoutView",
            "grid_template_rows": null,
            "right": null,
            "justify_content": null,
            "_view_module": "@jupyter-widgets/base",
            "overflow": null,
            "_model_module_version": "1.2.0",
            "_view_count": null,
            "flex_flow": null,
            "width": null,
            "min_width": null,
            "border": null,
            "align_items": null,
            "bottom": null,
            "_model_module": "@jupyter-widgets/base",
            "top": null,
            "grid_column": null,
            "overflow_y": null,
            "overflow_x": null,
            "grid_auto_flow": null,
            "grid_area": null,
            "grid_template_columns": null,
            "flex": null,
            "_model_name": "LayoutModel",
            "justify_items": null,
            "grid_row": null,
            "max_height": null,
            "align_content": null,
            "visibility": null,
            "align_self": null,
            "height": null,
            "min_height": null,
            "padding": null,
            "grid_auto_rows": null,
            "grid_gap": null,
            "max_width": null,
            "order": null,
            "_view_module_version": "1.2.0",
            "grid_template_areas": null,
            "object_position": null,
            "object_fit": null,
            "grid_auto_columns": null,
            "margin": null,
            "display": null,
            "left": null
          }
        }
      }
    }
  },
  "cells": [
    {
      "cell_type": "markdown",
      "metadata": {
        "id": "view-in-github",
        "colab_type": "text"
      },
      "source": [
        "<a href=\"https://colab.research.google.com/github/alexeybondarev/Deep_learning_exercises/blob/main/DL_2_HW_Bondarev_embeddings.ipynb\" target=\"_parent\"><img src=\"https://colab.research.google.com/assets/colab-badge.svg\" alt=\"Open In Colab\"/></a>"
      ]
    },
    {
      "cell_type": "markdown",
      "metadata": {
        "id": "Ot3c4fjZwC4T"
      },
      "source": [
        "<img src=\"https://s8.hostingkartinok.com/uploads/images/2018/08/308b49fcfbc619d629fe4604bceb67ac.jpg\" width=500, height=450>\n",
        "<h3 style=\"text-align: center;\"><b>Физтех-Школа Прикладной математики и информатики (ФПМИ) МФТИ</b></h3>"
      ]
    },
    {
      "cell_type": "markdown",
      "metadata": {
        "id": "P2JdzEXmwRU5"
      },
      "source": [
        "---"
      ]
    },
    {
      "cell_type": "markdown",
      "metadata": {
        "id": "eYtJxkhKpYK2"
      },
      "source": [
        "# Embeddings\n",
        "\n",
        "Привет! В этом домашнем задании мы с помощью эмбеддингов решим задачу семантической классификации твитов.\n",
        "\n",
        "Для этого мы воспользуемся предобученными эмбеддингами word2vec."
      ]
    },
    {
      "cell_type": "markdown",
      "metadata": {
        "id": "jBOdoFS8AdpP"
      },
      "source": [
        "Для начала скачаем датасет для семантической классификации твитов:"
      ]
    },
    {
      "cell_type": "code",
      "metadata": {
        "colab": {
          "base_uri": "https://localhost:8080/"
        },
        "id": "wXjhtsfF_gBK",
        "outputId": "90e4dbfe-610c-47b9-ca39-42c8c620b39a"
      },
      "source": [
        "!gdown https://drive.google.com/uc?id=1eE1FiUkXkcbw0McId4i7qY-L8hH-_Qph&export=download\n",
        "!unzip archive.zip"
      ],
      "execution_count": null,
      "outputs": [
        {
          "output_type": "stream",
          "text": [
            "Downloading...\n",
            "From: https://drive.google.com/uc?id=1eE1FiUkXkcbw0McId4i7qY-L8hH-_Qph\n",
            "To: /content/archive.zip\n",
            "84.9MB [00:00, 155MB/s]\n",
            "Archive:  archive.zip\n",
            "replace training.1600000.processed.noemoticon.csv? [y]es, [n]o, [A]ll, [N]one, [r]ename: n\n"
          ],
          "name": "stdout"
        }
      ]
    },
    {
      "cell_type": "markdown",
      "metadata": {
        "id": "Sh6wW-K53Mle"
      },
      "source": [
        "Импортируем нужные библиотеки:"
      ]
    },
    {
      "cell_type": "code",
      "metadata": {
        "id": "A2Y5CHRm6NFe"
      },
      "source": [
        "import math\n",
        "import random\n",
        "import string\n",
        "\n",
        "import numpy as np\n",
        "import pandas as pd\n",
        "import seaborn as sns\n",
        "\n",
        "import torch\n",
        "import nltk\n",
        "import gensim\n",
        "import gensim.downloader as api"
      ],
      "execution_count": null,
      "outputs": []
    },
    {
      "cell_type": "code",
      "metadata": {
        "id": "73Lb0wbESrgQ"
      },
      "source": [
        "random.seed(42)\n",
        "np.random.seed(42)\n",
        "torch.random.manual_seed(42)\n",
        "torch.cuda.random.manual_seed(42)\n",
        "torch.cuda.random.manual_seed_all(42)\n",
        "\n",
        "device = \"cuda\" if torch.cuda.is_available() else \"cpu\""
      ],
      "execution_count": null,
      "outputs": []
    },
    {
      "cell_type": "code",
      "metadata": {
        "id": "L_Wv-4bu83Fl"
      },
      "source": [
        "data = pd.read_csv(\"training.1600000.processed.noemoticon.csv\", encoding=\"latin\", header=None, names=[\"emotion\", \"id\", \"date\", \"flag\", \"user\", \"text\"])"
      ],
      "execution_count": null,
      "outputs": []
    },
    {
      "cell_type": "markdown",
      "metadata": {
        "id": "RY1pvYDS3Yuj"
      },
      "source": [
        "Посмотрим на данные:"
      ]
    },
    {
      "cell_type": "code",
      "metadata": {
        "colab": {
          "base_uri": "https://localhost:8080/",
          "height": 202
        },
        "id": "jST2tjgjCTWD",
        "outputId": "178bd926-e7d7-457b-c230-6088dabf840d"
      },
      "source": [
        "data.head()"
      ],
      "execution_count": null,
      "outputs": [
        {
          "output_type": "execute_result",
          "data": {
            "text/html": [
              "<div>\n",
              "<style scoped>\n",
              "    .dataframe tbody tr th:only-of-type {\n",
              "        vertical-align: middle;\n",
              "    }\n",
              "\n",
              "    .dataframe tbody tr th {\n",
              "        vertical-align: top;\n",
              "    }\n",
              "\n",
              "    .dataframe thead th {\n",
              "        text-align: right;\n",
              "    }\n",
              "</style>\n",
              "<table border=\"1\" class=\"dataframe\">\n",
              "  <thead>\n",
              "    <tr style=\"text-align: right;\">\n",
              "      <th></th>\n",
              "      <th>emotion</th>\n",
              "      <th>id</th>\n",
              "      <th>date</th>\n",
              "      <th>flag</th>\n",
              "      <th>user</th>\n",
              "      <th>text</th>\n",
              "    </tr>\n",
              "  </thead>\n",
              "  <tbody>\n",
              "    <tr>\n",
              "      <th>0</th>\n",
              "      <td>0</td>\n",
              "      <td>1467810369</td>\n",
              "      <td>Mon Apr 06 22:19:45 PDT 2009</td>\n",
              "      <td>NO_QUERY</td>\n",
              "      <td>_TheSpecialOne_</td>\n",
              "      <td>@switchfoot http://twitpic.com/2y1zl - Awww, t...</td>\n",
              "    </tr>\n",
              "    <tr>\n",
              "      <th>1</th>\n",
              "      <td>0</td>\n",
              "      <td>1467810672</td>\n",
              "      <td>Mon Apr 06 22:19:49 PDT 2009</td>\n",
              "      <td>NO_QUERY</td>\n",
              "      <td>scotthamilton</td>\n",
              "      <td>is upset that he can't update his Facebook by ...</td>\n",
              "    </tr>\n",
              "    <tr>\n",
              "      <th>2</th>\n",
              "      <td>0</td>\n",
              "      <td>1467810917</td>\n",
              "      <td>Mon Apr 06 22:19:53 PDT 2009</td>\n",
              "      <td>NO_QUERY</td>\n",
              "      <td>mattycus</td>\n",
              "      <td>@Kenichan I dived many times for the ball. Man...</td>\n",
              "    </tr>\n",
              "    <tr>\n",
              "      <th>3</th>\n",
              "      <td>0</td>\n",
              "      <td>1467811184</td>\n",
              "      <td>Mon Apr 06 22:19:57 PDT 2009</td>\n",
              "      <td>NO_QUERY</td>\n",
              "      <td>ElleCTF</td>\n",
              "      <td>my whole body feels itchy and like its on fire</td>\n",
              "    </tr>\n",
              "    <tr>\n",
              "      <th>4</th>\n",
              "      <td>0</td>\n",
              "      <td>1467811193</td>\n",
              "      <td>Mon Apr 06 22:19:57 PDT 2009</td>\n",
              "      <td>NO_QUERY</td>\n",
              "      <td>Karoli</td>\n",
              "      <td>@nationwideclass no, it's not behaving at all....</td>\n",
              "    </tr>\n",
              "  </tbody>\n",
              "</table>\n",
              "</div>"
            ],
            "text/plain": [
              "   emotion  ...                                               text\n",
              "0        0  ...  @switchfoot http://twitpic.com/2y1zl - Awww, t...\n",
              "1        0  ...  is upset that he can't update his Facebook by ...\n",
              "2        0  ...  @Kenichan I dived many times for the ball. Man...\n",
              "3        0  ...    my whole body feels itchy and like its on fire \n",
              "4        0  ...  @nationwideclass no, it's not behaving at all....\n",
              "\n",
              "[5 rows x 6 columns]"
            ]
          },
          "metadata": {
            "tags": []
          },
          "execution_count": 54
        }
      ]
    },
    {
      "cell_type": "code",
      "metadata": {
        "colab": {
          "base_uri": "https://localhost:8080/"
        },
        "id": "RPW6T5SqlWiD",
        "outputId": "d86ec8e0-fd2a-4842-cb38-67b7cee5e765"
      },
      "source": [
        "data.info()"
      ],
      "execution_count": null,
      "outputs": [
        {
          "output_type": "stream",
          "text": [
            "<class 'pandas.core.frame.DataFrame'>\n",
            "RangeIndex: 1600000 entries, 0 to 1599999\n",
            "Data columns (total 6 columns):\n",
            " #   Column   Non-Null Count    Dtype \n",
            "---  ------   --------------    ----- \n",
            " 0   emotion  1600000 non-null  int64 \n",
            " 1   id       1600000 non-null  int64 \n",
            " 2   date     1600000 non-null  object\n",
            " 3   flag     1600000 non-null  object\n",
            " 4   user     1600000 non-null  object\n",
            " 5   text     1600000 non-null  object\n",
            "dtypes: int64(2), object(4)\n",
            "memory usage: 73.2+ MB\n"
          ],
          "name": "stdout"
        }
      ]
    },
    {
      "cell_type": "markdown",
      "metadata": {
        "id": "OhbR5JJyA2VW"
      },
      "source": [
        "Выведем несколько примеров твитов, чтобы понимать, с чем мы имеем дело:"
      ]
    },
    {
      "cell_type": "code",
      "metadata": {
        "colab": {
          "base_uri": "https://localhost:8080/"
        },
        "id": "kCBwe0wR83C2",
        "outputId": "b5555746-a77f-4617-bec4-7de13d1dfcfd"
      },
      "source": [
        "examples = data[\"text\"].sample(10)\n",
        "print(\"\\n\".join(examples))"
      ],
      "execution_count": null,
      "outputs": [
        {
          "output_type": "stream",
          "text": [
            "@chrishasboobs AHHH I HOPE YOUR OK!!! \n",
            "@misstoriblack cool , i have no tweet apps  for my razr 2\n",
            "@TiannaChaos i know  just family drama. its lame.hey next time u hang out with kim n u guys like have a sleepover or whatever, ill call u\n",
            "School email won't open  and I have geography stuff on there to revise! *Stupid School* :'(\n",
            "upper airways problem \n",
            "Going to miss Pastor's sermon on Faith... \n",
            "on lunch....dj should come eat with me \n",
            "@piginthepoke oh why are you feeling like that? \n",
            "gahh noo!peyton needs to live!this is horrible \n",
            "@mrstessyman thank you glad you like it! There is a product review bit on the site  Enjoy knitting it!\n"
          ],
          "name": "stdout"
        }
      ]
    },
    {
      "cell_type": "markdown",
      "metadata": {
        "id": "GvcYW8aX3mKt"
      },
      "source": [
        "Как вилим, тексты твитов очень \"грязные\". Нужно предобработать датасет, прежде чем строить для него модель классификации.\n",
        "\n",
        "Чтобы сравнивать различные методы обработки текста/модели/прочее, разделим датасет на dev(для обучения модели) и test(для получения качества модели)."
      ]
    },
    {
      "cell_type": "code",
      "metadata": {
        "id": "f8hUK-jnQg6O"
      },
      "source": [
        "indexes = np.arange(data.shape[0])\n",
        "np.random.shuffle(indexes)\n",
        "dev_size = math.ceil(data.shape[0] * 0.8)\n",
        "\n",
        "dev_indexes = indexes[:dev_size]\n",
        "test_indexes = indexes[dev_size:]\n",
        "\n",
        "dev_data = data.iloc[dev_indexes]\n",
        "test_data = data.iloc[test_indexes]\n",
        "\n",
        "dev_data.reset_index(drop=True, inplace=True)\n",
        "test_data.reset_index(drop=True, inplace=True)"
      ],
      "execution_count": null,
      "outputs": []
    },
    {
      "cell_type": "markdown",
      "metadata": {
        "id": "6ivcpeFoCnZA"
      },
      "source": [
        "## Обработка текста"
      ]
    },
    {
      "cell_type": "markdown",
      "metadata": {
        "id": "Df4nca285Dar"
      },
      "source": [
        "Токенизируем текст, избавимся от знаков пунктуации и выкинем все слова, состоящие менее чем из 4 букв:"
      ]
    },
    {
      "cell_type": "code",
      "metadata": {
        "colab": {
          "base_uri": "https://localhost:8080/"
        },
        "id": "nsNHNDES9ZVF",
        "outputId": "52787915-ee31-46c4-93ce-18223110302f"
      },
      "source": [
        "tokenizer = nltk.WordPunctTokenizer()\n",
        "line = tokenizer.tokenize(dev_data[\"text\"][1].lower())\n",
        "print(\" \".join(line))"
      ],
      "execution_count": null,
      "outputs": [
        {
          "output_type": "stream",
          "text": [
            "@ jhicks i will think of you on sunday ! who are you by the way ? i am val .\n"
          ],
          "name": "stdout"
        }
      ]
    },
    {
      "cell_type": "code",
      "metadata": {
        "colab": {
          "base_uri": "https://localhost:8080/"
        },
        "id": "GcBS_u_hTuxp",
        "outputId": "7d7daf6e-2153-4e62-de7e-a9ad9f4ac140"
      },
      "source": [
        "filtered_line = [w for w in line if all(c not in string.punctuation for c in w) and len(w) >= 3]\n",
        "print(\" \".join(filtered_line))"
      ],
      "execution_count": null,
      "outputs": [
        {
          "output_type": "stream",
          "text": [
            "jhicks will think you sunday who are you the way val\n"
          ],
          "name": "stdout"
        }
      ]
    },
    {
      "cell_type": "code",
      "metadata": {
        "colab": {
          "base_uri": "https://localhost:8080/"
        },
        "id": "WB-BVbwY73F8",
        "outputId": "1c64112e-ca05-408f-b9ae-256d9176fda5"
      },
      "source": [
        "filtered_line"
      ],
      "execution_count": null,
      "outputs": [
        {
          "output_type": "execute_result",
          "data": {
            "text/plain": [
              "['jhicks',\n",
              " 'will',\n",
              " 'think',\n",
              " 'you',\n",
              " 'sunday',\n",
              " 'who',\n",
              " 'are',\n",
              " 'you',\n",
              " 'the',\n",
              " 'way',\n",
              " 'val']"
            ]
          },
          "metadata": {
            "tags": []
          },
          "execution_count": 60
        }
      ]
    },
    {
      "cell_type": "markdown",
      "metadata": {
        "id": "cuFmlXkC6E7X"
      },
      "source": [
        "Загрузим предобученную модель эмбеддингов. \n",
        "\n",
        "Если хотите, можно попробовать другую. Полный список можно найти здесь: https://github.com/RaRe-Technologies/gensim-data.\n",
        "\n",
        "Данная модель выдает эмбеддинги для **слов**. Строить по эмбеддингам слов эмбеддинги предложений мы будем ниже."
      ]
    },
    {
      "cell_type": "code",
      "metadata": {
        "id": "cACJpje2T5bc"
      },
      "source": [
        "word2vec = api.load(\"word2vec-google-news-300\")"
      ],
      "execution_count": null,
      "outputs": []
    },
    {
      "cell_type": "code",
      "metadata": {
        "colab": {
          "base_uri": "https://localhost:8080/"
        },
        "id": "NafmYHrkT5YD",
        "outputId": "c1f44178-16a2-451e-972d-9ee286374c13"
      },
      "source": [
        "emb_line = [word2vec.get_vector(w) for w in filtered_line if w in word2vec]\n",
        "print(sum(emb_line).shape)"
      ],
      "execution_count": null,
      "outputs": [
        {
          "output_type": "stream",
          "text": [
            "(300,)\n"
          ],
          "name": "stdout"
        }
      ]
    },
    {
      "cell_type": "markdown",
      "metadata": {
        "id": "aWUlB_gMQcwS"
      },
      "source": [
        "### Посмотрим на статистику предложений"
      ]
    },
    {
      "cell_type": "code",
      "metadata": {
        "id": "8yZgboJoQ4mt"
      },
      "source": [
        "def count_tokens(text, length):\n",
        "  token_stat = {}\n",
        "  tokenizer = nltk.WordPunctTokenizer()\n",
        "  for line in text:\n",
        "    line_text = tokenizer.tokenize(line.lower())\n",
        "    filtered_line = [w for w in line_text if all(c not in string.punctuation for c in w) and len(w) >= length]\n",
        "    token_stat[len(filtered_line)] = token_stat.get(len(filtered_line), 0) + 1  \n",
        "  return token_stat"
      ],
      "execution_count": null,
      "outputs": []
    },
    {
      "cell_type": "code",
      "metadata": {
        "colab": {
          "base_uri": "https://localhost:8080/"
        },
        "id": "yBeSuTVlRm6y",
        "outputId": "16faabe3-7222-4753-dfb3-7409d68980b8"
      },
      "source": [
        "token_statistics = count_tokens(dev_data[\"text\"], 3)\n",
        "print(token_statistics)"
      ],
      "execution_count": null,
      "outputs": [
        {
          "output_type": "stream",
          "text": [
            "{16: 52781, 11: 69794, 14: 56504, 9: 81454, 8: 86835, 20: 27567, 4: 83765, 6: 92493, 7: 91442, 3: 71426, 5: 89970, 1: 10679, 13: 60194, 15: 53549, 17: 51466, 10: 75607, 18: 47771, 12: 64512, 2: 44056, 23: 2758, 21: 15872, 26: 78, 24: 913, 0: 443, 19: 40347, 22: 7388, 25: 270, 29: 5, 27: 28, 28: 14, 30: 16, 34: 2, 31: 1}\n"
          ],
          "name": "stdout"
        }
      ]
    },
    {
      "cell_type": "code",
      "metadata": {
        "colab": {
          "base_uri": "https://localhost:8080/"
        },
        "id": "TbFqVKLkVJQg",
        "outputId": "e138d395-d923-4224-aed0-c1271663ba60"
      },
      "source": [
        "total_lines = sum(token_statistics.values())\n",
        "for key in sorted(token_statistics):\n",
        "    print (key, '{:%}'.format(token_statistics[key] / total_lines))"
      ],
      "execution_count": null,
      "outputs": [
        {
          "output_type": "stream",
          "text": [
            "0 0.034609%\n",
            "1 0.834297%\n",
            "2 3.441875%\n",
            "3 5.580156%\n",
            "4 6.544141%\n",
            "5 7.028906%\n",
            "6 7.226016%\n",
            "7 7.143906%\n",
            "8 6.783984%\n",
            "9 6.363594%\n",
            "10 5.906797%\n",
            "11 5.452656%\n",
            "12 5.040000%\n",
            "13 4.702656%\n",
            "14 4.414375%\n",
            "15 4.183516%\n",
            "16 4.123516%\n",
            "17 4.020781%\n",
            "18 3.732109%\n",
            "19 3.152109%\n",
            "20 2.153672%\n",
            "21 1.240000%\n",
            "22 0.577187%\n",
            "23 0.215469%\n",
            "24 0.071328%\n",
            "25 0.021094%\n",
            "26 0.006094%\n",
            "27 0.002187%\n",
            "28 0.001094%\n",
            "29 0.000391%\n",
            "30 0.001250%\n",
            "31 0.000078%\n",
            "34 0.000156%\n"
          ],
          "name": "stdout"
        }
      ]
    },
    {
      "cell_type": "markdown",
      "metadata": {
        "id": "IN-QQ9OvYe8O"
      },
      "source": [
        "Интересно, 4,5% текстов имеют 2 и меньше токенов после токенизации, что же там такое написано? И их вероятно из обучения имеет смысл выкинуть, хотя что делать с такими текстами при прогнозировании непонятно. С ругой стороны там могут быть предложения типа holy shit, что вполне имеет сентимент"
      ]
    },
    {
      "cell_type": "code",
      "metadata": {
        "id": "JMglHtfSY-LA"
      },
      "source": [
        "# а если не удалять знаки препинания? Что получится по токенам?\n",
        "def count_tokens(text, length):\n",
        "  token_stat = {}\n",
        "  tokenizer = nltk.WordPunctTokenizer()\n",
        "  for line in text:\n",
        "    line_text = tokenizer.tokenize(line.lower())\n",
        "    filtered_line = [w for w in line_text if len(w) >= length]\n",
        "    token_stat[len(filtered_line)] = token_stat.get(len(filtered_line), 0) + 1  \n",
        "  return token_stat"
      ],
      "execution_count": null,
      "outputs": []
    },
    {
      "cell_type": "code",
      "metadata": {
        "colab": {
          "base_uri": "https://localhost:8080/"
        },
        "id": "fVje1b5QZJEe",
        "outputId": "711fa54b-d594-4403-d1d5-7214d00d7528"
      },
      "source": [
        "token_statistics = count_tokens(dev_data[\"text\"], 3)\n",
        "total_lines = sum(token_statistics.values())\n",
        "for key in sorted(token_statistics):\n",
        "    print (key, '{:%}'.format(token_statistics[key] / total_lines))"
      ],
      "execution_count": null,
      "outputs": [
        {
          "output_type": "stream",
          "text": [
            "0 0.002969%\n",
            "1 0.661484%\n",
            "2 3.122031%\n",
            "3 5.273359%\n",
            "4 6.222812%\n",
            "5 6.726562%\n",
            "6 6.912500%\n",
            "7 6.911797%\n",
            "8 6.708672%\n",
            "9 6.337969%\n",
            "10 5.893672%\n",
            "11 5.467891%\n",
            "12 5.125078%\n",
            "13 4.748750%\n",
            "14 4.458203%\n",
            "15 4.223594%\n",
            "16 4.136953%\n",
            "17 4.057266%\n",
            "18 3.876484%\n",
            "19 3.499844%\n",
            "20 2.556094%\n",
            "21 1.621641%\n",
            "22 0.871016%\n",
            "23 0.373203%\n",
            "24 0.141484%\n",
            "25 0.045234%\n",
            "26 0.014922%\n",
            "27 0.004531%\n",
            "28 0.001797%\n",
            "29 0.000625%\n",
            "30 0.001328%\n",
            "34 0.000078%\n",
            "35 0.000078%\n",
            "42 0.000078%\n"
          ],
          "name": "stdout"
        }
      ]
    },
    {
      "cell_type": "code",
      "metadata": {
        "id": "eBc6N-lmaFcG"
      },
      "source": [
        "# проверим теперь кто имеет имбеддинги\n",
        "def count_embeddings(text, length):\n",
        "  emb_stat = {}\n",
        "  tokenizer = nltk.WordPunctTokenizer()\n",
        "  for line in text:\n",
        "    line_text = tokenizer.tokenize(line.lower())\n",
        "    filtered_line = [w for w in line_text if all(c not in string.punctuation for c in w) and (len(w) >= length) and (w in word2vec)]\n",
        "    emb_stat[len(filtered_line)] = emb_stat.get(len(filtered_line), 0) + 1  \n",
        "  return emb_stat"
      ],
      "execution_count": null,
      "outputs": []
    },
    {
      "cell_type": "code",
      "metadata": {
        "colab": {
          "base_uri": "https://localhost:8080/"
        },
        "id": "BxGiMhqMbAVF",
        "outputId": "fd9152d0-b705-488d-989f-1e6fbd49c3c7"
      },
      "source": [
        "embedding_statistics = count_embeddings(dev_data[\"text\"], 3)\n",
        "total_lines = sum(embedding_statistics.values())\n",
        "for key in sorted(embedding_statistics):\n",
        "    print (key, '{:%}'.format(embedding_statistics[key] / total_lines))"
      ],
      "execution_count": null,
      "outputs": [
        {
          "output_type": "stream",
          "text": [
            "0 0.596719%\n",
            "1 2.172266%\n",
            "2 5.050937%\n",
            "3 6.722578%\n",
            "4 7.471172%\n",
            "5 7.668047%\n",
            "6 7.637422%\n",
            "7 7.211328%\n",
            "8 6.761563%\n",
            "9 6.273984%\n",
            "10 5.725859%\n",
            "11 5.333438%\n",
            "12 4.904141%\n",
            "13 4.648906%\n",
            "14 4.347734%\n",
            "15 4.111016%\n",
            "16 3.916719%\n",
            "17 3.323125%\n",
            "18 2.573906%\n",
            "19 1.744531%\n",
            "20 1.010469%\n",
            "21 0.487188%\n",
            "22 0.201328%\n",
            "23 0.071406%\n",
            "24 0.021562%\n",
            "25 0.007109%\n",
            "26 0.002500%\n",
            "27 0.000703%\n",
            "28 0.000937%\n",
            "30 0.001172%\n",
            "31 0.000078%\n",
            "34 0.000156%\n"
          ],
          "name": "stdout"
        }
      ]
    },
    {
      "cell_type": "markdown",
      "metadata": {
        "id": "f8uhmgo0b45P"
      },
      "source": [
        "Нулевые очевидно выкидываем, с остальными попробуем работать, даже с 1 словом в предложении можно что-то сделать, если это будет слово типа fuck"
      ]
    },
    {
      "cell_type": "markdown",
      "metadata": {
        "id": "LTS6LCkd6_E7"
      },
      "source": [
        "Нормализуем эмбеддинги, прежде чем обучать на них сеть. \n",
        "(наверное, вы помните, что нейронные сети гораздо лучше обучаются на нормализованных данных)"
      ]
    },
    {
      "cell_type": "markdown",
      "metadata": {
        "id": "q7vm6Ppd7Ubw"
      },
      "source": [
        "Сделаем датасет, который будет по запросу возвращать подготовленные данные."
      ]
    },
    {
      "cell_type": "code",
      "metadata": {
        "id": "b4eZajF7pZ1X"
      },
      "source": [
        "from torch.utils.data import Dataset, random_split\n",
        "\n",
        "\n",
        "class TwitterDataset(Dataset):\n",
        "    def __init__(self, data: pd.DataFrame, feature_column: str, target_column: str, word2vec: gensim.models.Word2Vec):\n",
        "        self.tokenizer = nltk.WordPunctTokenizer()\n",
        "        \n",
        "        self.data = data\n",
        "\n",
        "        self.feature_column = feature_column\n",
        "        self.target_column = target_column\n",
        "\n",
        "        self.word2vec = word2vec\n",
        "\n",
        "        self.label2num = lambda label: 0 if label == 0 else 1\n",
        "        self.mean = np.mean(word2vec.vectors, axis=0)\n",
        "        self.std = np.std(word2vec.vectors, axis=0)\n",
        "\n",
        "    def __getitem__(self, item):\n",
        "        text = self.data[self.feature_column][item]\n",
        "        label = self.label2num(self.data[self.target_column][item])\n",
        "        tokens = self.get_tokens_(text)\n",
        "        embeddings = self.get_embeddings_(tokens)\n",
        "\n",
        "        return {\"feature\": embeddings, \"target\": label}\n",
        "\n",
        "    def get_tokens_(self, text):\n",
        "        # Получи все токены из текста и профильтруй их\n",
        "        tokenizer = nltk.WordPunctTokenizer()\n",
        "        line = tokenizer.tokenize(text.lower())\n",
        "        filtered_line = [w for w in line if all(c not in string.punctuation for c in w) and len(w) >= 3]\n",
        "    \n",
        "        return filtered_line\n",
        "\n",
        "    def get_embeddings_(self, tokens):\n",
        "        embeddings = [(word2vec.get_vector(w) - self.mean) / self.std for w in tokens if w in word2vec]\n",
        "\n",
        "        if len(embeddings) == 0:\n",
        "            embeddings = np.zeros((1, self.word2vec.vector_size))\n",
        "        else:\n",
        "            embeddings = np.array(embeddings)\n",
        "            if len(embeddings.shape) == 1:\n",
        "                embeddings = embeddings.reshape(-1, 1)\n",
        "\n",
        "        return embeddings\n",
        "\n",
        "    def __len__(self):\n",
        "        return self.data.shape[0]"
      ],
      "execution_count": null,
      "outputs": []
    },
    {
      "cell_type": "code",
      "metadata": {
        "id": "IZJpttbXpZyz"
      },
      "source": [
        "dev = TwitterDataset(dev_data, \"text\", \"emotion\", word2vec)"
      ],
      "execution_count": null,
      "outputs": []
    },
    {
      "cell_type": "code",
      "metadata": {
        "colab": {
          "base_uri": "https://localhost:8080/"
        },
        "id": "8innbZUukzY3",
        "outputId": "5637d9bd-5d0d-4e4c-ac83-6be014fd2306"
      },
      "source": [
        "len(dev)"
      ],
      "execution_count": null,
      "outputs": [
        {
          "output_type": "execute_result",
          "data": {
            "text/plain": [
              "1280000"
            ]
          },
          "metadata": {
            "tags": []
          },
          "execution_count": 18
        }
      ]
    },
    {
      "cell_type": "markdown",
      "metadata": {
        "id": "Sr-aetH0_LH1"
      },
      "source": [
        "Отлично, мы готовы с помощью эмбеддингов слов превращать твиты в векторы и обучать нейронную сеть.\n",
        "\n",
        "Превращать твиты в векторы, используя эмбеддинги слов, можно несколькими способами. А именно такими:"
      ]
    },
    {
      "cell_type": "markdown",
      "metadata": {
        "id": "4AhHrWa196Yc"
      },
      "source": [
        "## Average embedding (2 балла)\n",
        "---\n",
        "Это самый простой вариант, как получить вектор предложения, используя векторные представления слов в предложении. А именно: вектор предложения есть средний вектор всех слов в предлоежнии (которые остались после токенизации и удаления коротких слов, конечно). "
      ]
    },
    {
      "cell_type": "code",
      "metadata": {
        "colab": {
          "base_uri": "https://localhost:8080/"
        },
        "id": "ScdokSW-994t",
        "outputId": "a9e7eb73-b082-4c1c-a0fe-5f22ef167bf7"
      },
      "source": [
        "indexes = np.arange(len(dev))\n",
        "np.random.shuffle(indexes)\n",
        "example_indexes = indexes[::1000]\n",
        "\n",
        "examples = {\"features\": [np.sum(dev[i][\"feature\"], axis=0) for i in example_indexes], \n",
        "            \"targets\": [dev[i][\"target\"] for i in example_indexes]}\n",
        "print(len(examples[\"features\"]))"
      ],
      "execution_count": null,
      "outputs": [
        {
          "output_type": "stream",
          "text": [
            "1280\n"
          ],
          "name": "stdout"
        }
      ]
    },
    {
      "cell_type": "markdown",
      "metadata": {
        "id": "1yGQ_lOx_1NL"
      },
      "source": [
        "Давайте сделаем визуализацию полученных векторов твитов тренировочного (dev) датасета. Так мы увидим, насколько хорошо твиты с разными target значениями отделяются друг от друга, т.е. насколько хорошо усреднение эмбеддингов слов предложения передает информацию о предложении."
      ]
    },
    {
      "cell_type": "markdown",
      "metadata": {
        "id": "LZwFksd_8uYO"
      },
      "source": [
        "Для визуализации векторов надо получить их проекцию на плоскость. Сделаем это с помощью `PCA`. Если хотите, можете вместо PCA использовать TSNE: так у вас получится более точная проекция на плоскость (а значит, более информативная, т.е. отражающая реальное положение векторов твитов в пространстве). Но TSNE будет работать намного дольше."
      ]
    },
    {
      "cell_type": "code",
      "metadata": {
        "id": "aKFZRSHdtIac"
      },
      "source": [
        "from sklearn.decomposition import PCA\n",
        "\n",
        "\n",
        "pca = PCA(n_components=2)\n",
        "examples[\"transformed_features\"] = pca.fit_transform(examples[\"features\"])"
      ],
      "execution_count": null,
      "outputs": []
    },
    {
      "cell_type": "code",
      "metadata": {
        "id": "szEOWdiNtIX8"
      },
      "source": [
        "import bokeh.models as bm, bokeh.plotting as pl\n",
        "from bokeh.io import output_notebook\n",
        "output_notebook()\n",
        "\n",
        "def draw_vectors(x, y, radius=10, alpha=0.25, color='blue',\n",
        "                 width=600, height=400, show=True, **kwargs):\n",
        "    \"\"\" draws an interactive plot for data points with auxilirary info on hover \"\"\"\n",
        "    data_source = bm.ColumnDataSource({ 'x' : x, 'y' : y, 'color': color, **kwargs })\n",
        "\n",
        "    fig = pl.figure(active_scroll='wheel_zoom', width=width, height=height)\n",
        "    fig.scatter('x', 'y', size=radius, color='color', alpha=alpha, source=data_source)\n",
        "\n",
        "    fig.add_tools(bm.HoverTool(tooltips=[(key, \"@\" + key) for key in kwargs.keys()]))\n",
        "    if show: pl.show(fig)\n",
        "    return fig"
      ],
      "execution_count": null,
      "outputs": []
    },
    {
      "cell_type": "code",
      "metadata": {
        "colab": {
          "base_uri": "https://localhost:8080/",
          "height": 435
        },
        "id": "7OONK8ldtIWe",
        "outputId": "904f7386-93da-4098-ada7-32ada14c843b"
      },
      "source": [
        "draw_vectors(\n",
        "    examples[\"transformed_features\"][:, 0], \n",
        "    examples[\"transformed_features\"][:, 1], \n",
        "    color=[[\"red\", \"blue\"][t] for t in examples[\"targets\"]]\n",
        "    )"
      ],
      "execution_count": null,
      "outputs": [
        {
          "output_type": "display_data",
          "data": {
            "application/javascript": [
              "\n",
              "(function(root) {\n",
              "  function now() {\n",
              "    return new Date();\n",
              "  }\n",
              "\n",
              "  var force = true;\n",
              "\n",
              "  if (typeof root._bokeh_onload_callbacks === \"undefined\" || force === true) {\n",
              "    root._bokeh_onload_callbacks = [];\n",
              "    root._bokeh_is_loading = undefined;\n",
              "  }\n",
              "\n",
              "  var JS_MIME_TYPE = 'application/javascript';\n",
              "  var HTML_MIME_TYPE = 'text/html';\n",
              "  var EXEC_MIME_TYPE = 'application/vnd.bokehjs_exec.v0+json';\n",
              "  var CLASS_NAME = 'output_bokeh rendered_html';\n",
              "\n",
              "  /**\n",
              "   * Render data to the DOM node\n",
              "   */\n",
              "  function render(props, node) {\n",
              "    var script = document.createElement(\"script\");\n",
              "    node.appendChild(script);\n",
              "  }\n",
              "\n",
              "  /**\n",
              "   * Handle when an output is cleared or removed\n",
              "   */\n",
              "  function handleClearOutput(event, handle) {\n",
              "    var cell = handle.cell;\n",
              "\n",
              "    var id = cell.output_area._bokeh_element_id;\n",
              "    var server_id = cell.output_area._bokeh_server_id;\n",
              "    // Clean up Bokeh references\n",
              "    if (id != null && id in Bokeh.index) {\n",
              "      Bokeh.index[id].model.document.clear();\n",
              "      delete Bokeh.index[id];\n",
              "    }\n",
              "\n",
              "    if (server_id !== undefined) {\n",
              "      // Clean up Bokeh references\n",
              "      var cmd = \"from bokeh.io.state import curstate; print(curstate().uuid_to_server['\" + server_id + \"'].get_sessions()[0].document.roots[0]._id)\";\n",
              "      cell.notebook.kernel.execute(cmd, {\n",
              "        iopub: {\n",
              "          output: function(msg) {\n",
              "            var id = msg.content.text.trim();\n",
              "            if (id in Bokeh.index) {\n",
              "              Bokeh.index[id].model.document.clear();\n",
              "              delete Bokeh.index[id];\n",
              "            }\n",
              "          }\n",
              "        }\n",
              "      });\n",
              "      // Destroy server and session\n",
              "      var cmd = \"import bokeh.io.notebook as ion; ion.destroy_server('\" + server_id + \"')\";\n",
              "      cell.notebook.kernel.execute(cmd);\n",
              "    }\n",
              "  }\n",
              "\n",
              "  /**\n",
              "   * Handle when a new output is added\n",
              "   */\n",
              "  function handleAddOutput(event, handle) {\n",
              "    var output_area = handle.output_area;\n",
              "    var output = handle.output;\n",
              "\n",
              "    // limit handleAddOutput to display_data with EXEC_MIME_TYPE content only\n",
              "    if ((output.output_type != \"display_data\") || (!output.data.hasOwnProperty(EXEC_MIME_TYPE))) {\n",
              "      return\n",
              "    }\n",
              "\n",
              "    var toinsert = output_area.element.find(\".\" + CLASS_NAME.split(' ')[0]);\n",
              "\n",
              "    if (output.metadata[EXEC_MIME_TYPE][\"id\"] !== undefined) {\n",
              "      toinsert[toinsert.length - 1].firstChild.textContent = output.data[JS_MIME_TYPE];\n",
              "      // store reference to embed id on output_area\n",
              "      output_area._bokeh_element_id = output.metadata[EXEC_MIME_TYPE][\"id\"];\n",
              "    }\n",
              "    if (output.metadata[EXEC_MIME_TYPE][\"server_id\"] !== undefined) {\n",
              "      var bk_div = document.createElement(\"div\");\n",
              "      bk_div.innerHTML = output.data[HTML_MIME_TYPE];\n",
              "      var script_attrs = bk_div.children[0].attributes;\n",
              "      for (var i = 0; i < script_attrs.length; i++) {\n",
              "        toinsert[toinsert.length - 1].firstChild.setAttribute(script_attrs[i].name, script_attrs[i].value);\n",
              "        toinsert[toinsert.length - 1].firstChild.textContent = bk_div.children[0].textContent\n",
              "      }\n",
              "      // store reference to server id on output_area\n",
              "      output_area._bokeh_server_id = output.metadata[EXEC_MIME_TYPE][\"server_id\"];\n",
              "    }\n",
              "  }\n",
              "\n",
              "  function register_renderer(events, OutputArea) {\n",
              "\n",
              "    function append_mime(data, metadata, element) {\n",
              "      // create a DOM node to render to\n",
              "      var toinsert = this.create_output_subarea(\n",
              "        metadata,\n",
              "        CLASS_NAME,\n",
              "        EXEC_MIME_TYPE\n",
              "      );\n",
              "      this.keyboard_manager.register_events(toinsert);\n",
              "      // Render to node\n",
              "      var props = {data: data, metadata: metadata[EXEC_MIME_TYPE]};\n",
              "      render(props, toinsert[toinsert.length - 1]);\n",
              "      element.append(toinsert);\n",
              "      return toinsert\n",
              "    }\n",
              "\n",
              "    /* Handle when an output is cleared or removed */\n",
              "    events.on('clear_output.CodeCell', handleClearOutput);\n",
              "    events.on('delete.Cell', handleClearOutput);\n",
              "\n",
              "    /* Handle when a new output is added */\n",
              "    events.on('output_added.OutputArea', handleAddOutput);\n",
              "\n",
              "    /**\n",
              "     * Register the mime type and append_mime function with output_area\n",
              "     */\n",
              "    OutputArea.prototype.register_mime_type(EXEC_MIME_TYPE, append_mime, {\n",
              "      /* Is output safe? */\n",
              "      safe: true,\n",
              "      /* Index of renderer in `output_area.display_order` */\n",
              "      index: 0\n",
              "    });\n",
              "  }\n",
              "\n",
              "  // register the mime type if in Jupyter Notebook environment and previously unregistered\n",
              "  if (root.Jupyter !== undefined) {\n",
              "    var events = require('base/js/events');\n",
              "    var OutputArea = require('notebook/js/outputarea').OutputArea;\n",
              "\n",
              "    if (OutputArea.prototype.mime_types().indexOf(EXEC_MIME_TYPE) == -1) {\n",
              "      register_renderer(events, OutputArea);\n",
              "    }\n",
              "  }\n",
              "\n",
              "  \n",
              "  if (typeof (root._bokeh_timeout) === \"undefined\" || force === true) {\n",
              "    root._bokeh_timeout = Date.now() + 5000;\n",
              "    root._bokeh_failed_load = false;\n",
              "  }\n",
              "\n",
              "  var NB_LOAD_WARNING = {'data': {'text/html':\n",
              "     \"<div style='background-color: #fdd'>\\n\"+\n",
              "     \"<p>\\n\"+\n",
              "     \"BokehJS does not appear to have successfully loaded. If loading BokehJS from CDN, this \\n\"+\n",
              "     \"may be due to a slow or bad network connection. Possible fixes:\\n\"+\n",
              "     \"</p>\\n\"+\n",
              "     \"<ul>\\n\"+\n",
              "     \"<li>re-rerun `output_notebook()` to attempt to load from CDN again, or</li>\\n\"+\n",
              "     \"<li>use INLINE resources instead, as so:</li>\\n\"+\n",
              "     \"</ul>\\n\"+\n",
              "     \"<code>\\n\"+\n",
              "     \"from bokeh.resources import INLINE\\n\"+\n",
              "     \"output_notebook(resources=INLINE)\\n\"+\n",
              "     \"</code>\\n\"+\n",
              "     \"</div>\"}};\n",
              "\n",
              "  function display_loaded() {\n",
              "    var el = document.getElementById(null);\n",
              "    if (el != null) {\n",
              "      el.textContent = \"BokehJS is loading...\";\n",
              "    }\n",
              "    if (root.Bokeh !== undefined) {\n",
              "      if (el != null) {\n",
              "        el.textContent = \"BokehJS \" + root.Bokeh.version + \" successfully loaded.\";\n",
              "      }\n",
              "    } else if (Date.now() < root._bokeh_timeout) {\n",
              "      setTimeout(display_loaded, 100)\n",
              "    }\n",
              "  }\n",
              "\n",
              "\n",
              "  function run_callbacks() {\n",
              "    try {\n",
              "      root._bokeh_onload_callbacks.forEach(function(callback) {\n",
              "        if (callback != null)\n",
              "          callback();\n",
              "      });\n",
              "    } finally {\n",
              "      delete root._bokeh_onload_callbacks\n",
              "    }\n",
              "    console.debug(\"Bokeh: all callbacks have finished\");\n",
              "  }\n",
              "\n",
              "  function load_libs(css_urls, js_urls, callback) {\n",
              "    if (css_urls == null) css_urls = [];\n",
              "    if (js_urls == null) js_urls = [];\n",
              "\n",
              "    root._bokeh_onload_callbacks.push(callback);\n",
              "    if (root._bokeh_is_loading > 0) {\n",
              "      console.debug(\"Bokeh: BokehJS is being loaded, scheduling callback at\", now());\n",
              "      return null;\n",
              "    }\n",
              "    if (js_urls == null || js_urls.length === 0) {\n",
              "      run_callbacks();\n",
              "      return null;\n",
              "    }\n",
              "    console.debug(\"Bokeh: BokehJS not loaded, scheduling load and callback at\", now());\n",
              "    root._bokeh_is_loading = css_urls.length + js_urls.length;\n",
              "\n",
              "    function on_load() {\n",
              "      root._bokeh_is_loading--;\n",
              "      if (root._bokeh_is_loading === 0) {\n",
              "        console.debug(\"Bokeh: all BokehJS libraries/stylesheets loaded\");\n",
              "        run_callbacks()\n",
              "      }\n",
              "    }\n",
              "\n",
              "    function on_error() {\n",
              "      console.error(\"failed to load \" + url);\n",
              "    }\n",
              "\n",
              "    for (var i = 0; i < css_urls.length; i++) {\n",
              "      var url = css_urls[i];\n",
              "      const element = document.createElement(\"link\");\n",
              "      element.onload = on_load;\n",
              "      element.onerror = on_error;\n",
              "      element.rel = \"stylesheet\";\n",
              "      element.type = \"text/css\";\n",
              "      element.href = url;\n",
              "      console.debug(\"Bokeh: injecting link tag for BokehJS stylesheet: \", url);\n",
              "      document.body.appendChild(element);\n",
              "    }\n",
              "\n",
              "    const hashes = {\"https://cdn.bokeh.org/bokeh/release/bokeh-2.1.1.min.js\": \"kLr4fYcqcSpbuI95brIH3vnnYCquzzSxHPU6XGQCIkQRGJwhg0StNbj1eegrHs12\", \"https://cdn.bokeh.org/bokeh/release/bokeh-widgets-2.1.1.min.js\": \"xIGPmVtaOm+z0BqfSOMn4lOR6ciex448GIKG4eE61LsAvmGj48XcMQZtKcE/UXZe\", \"https://cdn.bokeh.org/bokeh/release/bokeh-tables-2.1.1.min.js\": \"Dc9u1wF/0zApGIWoBbH77iWEHtdmkuYWG839Uzmv8y8yBLXebjO9ZnERsde5Ln/P\", \"https://cdn.bokeh.org/bokeh/release/bokeh-gl-2.1.1.min.js\": \"cT9JaBz7GiRXdENrJLZNSC6eMNF3nh3fa5fTF51Svp+ukxPdwcU5kGXGPBgDCa2j\"};\n",
              "\n",
              "    for (var i = 0; i < js_urls.length; i++) {\n",
              "      var url = js_urls[i];\n",
              "      var element = document.createElement('script');\n",
              "      element.onload = on_load;\n",
              "      element.onerror = on_error;\n",
              "      element.async = false;\n",
              "      element.src = url;\n",
              "      if (url in hashes) {\n",
              "        element.crossOrigin = \"anonymous\";\n",
              "        element.integrity = \"sha384-\" + hashes[url];\n",
              "      }\n",
              "      console.debug(\"Bokeh: injecting script tag for BokehJS library: \", url);\n",
              "      document.head.appendChild(element);\n",
              "    }\n",
              "  };\n",
              "\n",
              "  function inject_raw_css(css) {\n",
              "    const element = document.createElement(\"style\");\n",
              "    element.appendChild(document.createTextNode(css));\n",
              "    document.body.appendChild(element);\n",
              "  }\n",
              "\n",
              "  \n",
              "  var js_urls = [\"https://cdn.bokeh.org/bokeh/release/bokeh-2.1.1.min.js\", \"https://cdn.bokeh.org/bokeh/release/bokeh-widgets-2.1.1.min.js\", \"https://cdn.bokeh.org/bokeh/release/bokeh-tables-2.1.1.min.js\", \"https://cdn.bokeh.org/bokeh/release/bokeh-gl-2.1.1.min.js\"];\n",
              "  var css_urls = [];\n",
              "  \n",
              "\n",
              "  var inline_js = [\n",
              "    function(Bokeh) {\n",
              "      Bokeh.set_log_level(\"info\");\n",
              "    },\n",
              "    function(Bokeh) {\n",
              "    \n",
              "    \n",
              "    }\n",
              "  ];\n",
              "\n",
              "  function run_inline_js() {\n",
              "    \n",
              "    if (root.Bokeh !== undefined || force === true) {\n",
              "      \n",
              "    for (var i = 0; i < inline_js.length; i++) {\n",
              "      inline_js[i].call(root, root.Bokeh);\n",
              "    }\n",
              "    } else if (Date.now() < root._bokeh_timeout) {\n",
              "      setTimeout(run_inline_js, 100);\n",
              "    } else if (!root._bokeh_failed_load) {\n",
              "      console.log(\"Bokeh: BokehJS failed to load within specified timeout.\");\n",
              "      root._bokeh_failed_load = true;\n",
              "    } else if (force !== true) {\n",
              "      var cell = $(document.getElementById(null)).parents('.cell').data().cell;\n",
              "      cell.output_area.append_execute_result(NB_LOAD_WARNING)\n",
              "    }\n",
              "\n",
              "  }\n",
              "\n",
              "  if (root._bokeh_is_loading === 0) {\n",
              "    console.debug(\"Bokeh: BokehJS loaded, going straight to plotting\");\n",
              "    run_inline_js();\n",
              "  } else {\n",
              "    load_libs(css_urls, js_urls, function() {\n",
              "      console.debug(\"Bokeh: BokehJS plotting callback run at\", now());\n",
              "      run_inline_js();\n",
              "    });\n",
              "  }\n",
              "}(window));"
            ],
            "application/vnd.bokehjs_load.v0+json": "\n(function(root) {\n  function now() {\n    return new Date();\n  }\n\n  var force = true;\n\n  if (typeof root._bokeh_onload_callbacks === \"undefined\" || force === true) {\n    root._bokeh_onload_callbacks = [];\n    root._bokeh_is_loading = undefined;\n  }\n\n  \n\n  \n  if (typeof (root._bokeh_timeout) === \"undefined\" || force === true) {\n    root._bokeh_timeout = Date.now() + 5000;\n    root._bokeh_failed_load = false;\n  }\n\n  var NB_LOAD_WARNING = {'data': {'text/html':\n     \"<div style='background-color: #fdd'>\\n\"+\n     \"<p>\\n\"+\n     \"BokehJS does not appear to have successfully loaded. If loading BokehJS from CDN, this \\n\"+\n     \"may be due to a slow or bad network connection. Possible fixes:\\n\"+\n     \"</p>\\n\"+\n     \"<ul>\\n\"+\n     \"<li>re-rerun `output_notebook()` to attempt to load from CDN again, or</li>\\n\"+\n     \"<li>use INLINE resources instead, as so:</li>\\n\"+\n     \"</ul>\\n\"+\n     \"<code>\\n\"+\n     \"from bokeh.resources import INLINE\\n\"+\n     \"output_notebook(resources=INLINE)\\n\"+\n     \"</code>\\n\"+\n     \"</div>\"}};\n\n  function display_loaded() {\n    var el = document.getElementById(null);\n    if (el != null) {\n      el.textContent = \"BokehJS is loading...\";\n    }\n    if (root.Bokeh !== undefined) {\n      if (el != null) {\n        el.textContent = \"BokehJS \" + root.Bokeh.version + \" successfully loaded.\";\n      }\n    } else if (Date.now() < root._bokeh_timeout) {\n      setTimeout(display_loaded, 100)\n    }\n  }\n\n\n  function run_callbacks() {\n    try {\n      root._bokeh_onload_callbacks.forEach(function(callback) {\n        if (callback != null)\n          callback();\n      });\n    } finally {\n      delete root._bokeh_onload_callbacks\n    }\n    console.debug(\"Bokeh: all callbacks have finished\");\n  }\n\n  function load_libs(css_urls, js_urls, callback) {\n    if (css_urls == null) css_urls = [];\n    if (js_urls == null) js_urls = [];\n\n    root._bokeh_onload_callbacks.push(callback);\n    if (root._bokeh_is_loading > 0) {\n      console.debug(\"Bokeh: BokehJS is being loaded, scheduling callback at\", now());\n      return null;\n    }\n    if (js_urls == null || js_urls.length === 0) {\n      run_callbacks();\n      return null;\n    }\n    console.debug(\"Bokeh: BokehJS not loaded, scheduling load and callback at\", now());\n    root._bokeh_is_loading = css_urls.length + js_urls.length;\n\n    function on_load() {\n      root._bokeh_is_loading--;\n      if (root._bokeh_is_loading === 0) {\n        console.debug(\"Bokeh: all BokehJS libraries/stylesheets loaded\");\n        run_callbacks()\n      }\n    }\n\n    function on_error() {\n      console.error(\"failed to load \" + url);\n    }\n\n    for (var i = 0; i < css_urls.length; i++) {\n      var url = css_urls[i];\n      const element = document.createElement(\"link\");\n      element.onload = on_load;\n      element.onerror = on_error;\n      element.rel = \"stylesheet\";\n      element.type = \"text/css\";\n      element.href = url;\n      console.debug(\"Bokeh: injecting link tag for BokehJS stylesheet: \", url);\n      document.body.appendChild(element);\n    }\n\n    const hashes = {\"https://cdn.bokeh.org/bokeh/release/bokeh-2.1.1.min.js\": \"kLr4fYcqcSpbuI95brIH3vnnYCquzzSxHPU6XGQCIkQRGJwhg0StNbj1eegrHs12\", \"https://cdn.bokeh.org/bokeh/release/bokeh-widgets-2.1.1.min.js\": \"xIGPmVtaOm+z0BqfSOMn4lOR6ciex448GIKG4eE61LsAvmGj48XcMQZtKcE/UXZe\", \"https://cdn.bokeh.org/bokeh/release/bokeh-tables-2.1.1.min.js\": \"Dc9u1wF/0zApGIWoBbH77iWEHtdmkuYWG839Uzmv8y8yBLXebjO9ZnERsde5Ln/P\", \"https://cdn.bokeh.org/bokeh/release/bokeh-gl-2.1.1.min.js\": \"cT9JaBz7GiRXdENrJLZNSC6eMNF3nh3fa5fTF51Svp+ukxPdwcU5kGXGPBgDCa2j\"};\n\n    for (var i = 0; i < js_urls.length; i++) {\n      var url = js_urls[i];\n      var element = document.createElement('script');\n      element.onload = on_load;\n      element.onerror = on_error;\n      element.async = false;\n      element.src = url;\n      if (url in hashes) {\n        element.crossOrigin = \"anonymous\";\n        element.integrity = \"sha384-\" + hashes[url];\n      }\n      console.debug(\"Bokeh: injecting script tag for BokehJS library: \", url);\n      document.head.appendChild(element);\n    }\n  };\n\n  function inject_raw_css(css) {\n    const element = document.createElement(\"style\");\n    element.appendChild(document.createTextNode(css));\n    document.body.appendChild(element);\n  }\n\n  \n  var js_urls = [\"https://cdn.bokeh.org/bokeh/release/bokeh-2.1.1.min.js\", \"https://cdn.bokeh.org/bokeh/release/bokeh-widgets-2.1.1.min.js\", \"https://cdn.bokeh.org/bokeh/release/bokeh-tables-2.1.1.min.js\", \"https://cdn.bokeh.org/bokeh/release/bokeh-gl-2.1.1.min.js\"];\n  var css_urls = [];\n  \n\n  var inline_js = [\n    function(Bokeh) {\n      Bokeh.set_log_level(\"info\");\n    },\n    function(Bokeh) {\n    \n    \n    }\n  ];\n\n  function run_inline_js() {\n    \n    if (root.Bokeh !== undefined || force === true) {\n      \n    for (var i = 0; i < inline_js.length; i++) {\n      inline_js[i].call(root, root.Bokeh);\n    }\n    } else if (Date.now() < root._bokeh_timeout) {\n      setTimeout(run_inline_js, 100);\n    } else if (!root._bokeh_failed_load) {\n      console.log(\"Bokeh: BokehJS failed to load within specified timeout.\");\n      root._bokeh_failed_load = true;\n    } else if (force !== true) {\n      var cell = $(document.getElementById(null)).parents('.cell').data().cell;\n      cell.output_area.append_execute_result(NB_LOAD_WARNING)\n    }\n\n  }\n\n  if (root._bokeh_is_loading === 0) {\n    console.debug(\"Bokeh: BokehJS loaded, going straight to plotting\");\n    run_inline_js();\n  } else {\n    load_libs(css_urls, js_urls, function() {\n      console.debug(\"Bokeh: BokehJS plotting callback run at\", now());\n      run_inline_js();\n    });\n  }\n}(window));"
          },
          "metadata": {
            "tags": []
          }
        },
        {
          "output_type": "display_data",
          "data": {
            "text/html": [
              "\n",
              "\n",
              "\n",
              "\n",
              "\n",
              "\n",
              "  <div class=\"bk-root\" id=\"3d41aaf9-8219-4723-a833-febd96ce7eb9\" data-root-id=\"1108\"></div>\n"
            ]
          },
          "metadata": {
            "tags": []
          }
        },
        {
          "output_type": "display_data",
          "data": {
            "application/javascript": [
              "(function(root) {\n",
              "  function embed_document(root) {\n",
              "    \n",
              "  var docs_json = {\"87d57726-18de-4991-a2fe-4c0fbbf09ed1\":{\"roots\":{\"references\":[{\"attributes\":{\"below\":[{\"id\":\"1117\"}],\"center\":[{\"id\":\"1120\"},{\"id\":\"1124\"}],\"left\":[{\"id\":\"1121\"}],\"plot_height\":400,\"renderers\":[{\"id\":\"1142\"}],\"title\":{\"id\":\"1156\"},\"toolbar\":{\"id\":\"1132\"},\"x_range\":{\"id\":\"1109\"},\"x_scale\":{\"id\":\"1113\"},\"y_range\":{\"id\":\"1111\"},\"y_scale\":{\"id\":\"1115\"}},\"id\":\"1108\",\"subtype\":\"Figure\",\"type\":\"Plot\"},{\"attributes\":{\"data\":{\"color\":[\"red\",\"red\",\"red\",\"blue\",\"red\",\"blue\",\"blue\",\"blue\",\"blue\",\"blue\",\"blue\",\"blue\",\"blue\",\"red\",\"red\",\"blue\",\"blue\",\"blue\",\"red\",\"blue\",\"blue\",\"blue\",\"blue\",\"red\",\"blue\",\"blue\",\"red\",\"red\",\"blue\",\"red\",\"blue\",\"red\",\"red\",\"blue\",\"red\",\"red\",\"blue\",\"red\",\"blue\",\"blue\",\"red\",\"blue\",\"blue\",\"blue\",\"red\",\"red\",\"red\",\"red\",\"blue\",\"red\",\"blue\",\"blue\",\"blue\",\"red\",\"blue\",\"red\",\"blue\",\"blue\",\"red\",\"red\",\"red\",\"blue\",\"blue\",\"red\",\"red\",\"blue\",\"blue\",\"red\",\"blue\",\"blue\",\"blue\",\"blue\",\"red\",\"red\",\"red\",\"red\",\"red\",\"blue\",\"red\",\"red\",\"blue\",\"blue\",\"red\",\"red\",\"blue\",\"red\",\"red\",\"red\",\"blue\",\"red\",\"red\",\"red\",\"red\",\"blue\",\"blue\",\"red\",\"red\",\"blue\",\"red\",\"red\",\"blue\",\"red\",\"blue\",\"red\",\"red\",\"red\",\"red\",\"blue\",\"red\",\"blue\",\"blue\",\"blue\",\"blue\",\"red\",\"red\",\"blue\",\"blue\",\"blue\",\"red\",\"blue\",\"red\",\"red\",\"red\",\"red\",\"blue\",\"blue\",\"red\",\"blue\",\"red\",\"blue\",\"blue\",\"blue\",\"red\",\"blue\",\"red\",\"blue\",\"red\",\"red\",\"blue\",\"red\",\"red\",\"blue\",\"red\",\"red\",\"blue\",\"red\",\"red\",\"blue\",\"blue\",\"blue\",\"blue\",\"red\",\"red\",\"red\",\"blue\",\"red\",\"red\",\"red\",\"blue\",\"red\",\"red\",\"red\",\"red\",\"red\",\"red\",\"blue\",\"blue\",\"red\",\"blue\",\"blue\",\"red\",\"red\",\"red\",\"blue\",\"red\",\"red\",\"blue\",\"red\",\"blue\",\"blue\",\"red\",\"blue\",\"red\",\"red\",\"blue\",\"blue\",\"blue\",\"blue\",\"blue\",\"red\",\"red\",\"red\",\"blue\",\"blue\",\"blue\",\"red\",\"red\",\"blue\",\"blue\",\"blue\",\"blue\",\"blue\",\"blue\",\"red\",\"red\",\"red\",\"red\",\"red\",\"red\",\"red\",\"red\",\"red\",\"blue\",\"blue\",\"blue\",\"red\",\"blue\",\"red\",\"blue\",\"blue\",\"red\",\"blue\",\"red\",\"blue\",\"blue\",\"red\",\"blue\",\"blue\",\"blue\",\"blue\",\"red\",\"blue\",\"red\",\"red\",\"red\",\"blue\",\"red\",\"blue\",\"red\",\"red\",\"red\",\"blue\",\"red\",\"blue\",\"red\",\"blue\",\"red\",\"blue\",\"red\",\"blue\",\"blue\",\"blue\",\"blue\",\"blue\",\"blue\",\"blue\",\"red\",\"red\",\"red\",\"red\",\"blue\",\"red\",\"red\",\"blue\",\"blue\",\"blue\",\"red\",\"red\",\"red\",\"red\",\"blue\",\"blue\",\"blue\",\"blue\",\"blue\",\"blue\",\"blue\",\"red\",\"blue\",\"red\",\"red\",\"red\",\"blue\",\"red\",\"red\",\"blue\",\"blue\",\"red\",\"blue\",\"blue\",\"red\",\"red\",\"blue\",\"red\",\"red\",\"blue\",\"blue\",\"red\",\"blue\",\"red\",\"red\",\"blue\",\"red\",\"red\",\"blue\",\"red\",\"blue\",\"blue\",\"red\",\"red\",\"blue\",\"blue\",\"blue\",\"red\",\"blue\",\"blue\",\"red\",\"red\",\"red\",\"blue\",\"blue\",\"red\",\"blue\",\"red\",\"red\",\"red\",\"red\",\"red\",\"blue\",\"blue\",\"red\",\"red\",\"red\",\"red\",\"red\",\"blue\",\"red\",\"red\",\"red\",\"blue\",\"blue\",\"blue\",\"blue\",\"blue\",\"red\",\"blue\",\"blue\",\"red\",\"red\",\"blue\",\"blue\",\"blue\",\"blue\",\"red\",\"blue\",\"blue\",\"blue\",\"blue\",\"red\",\"blue\",\"red\",\"blue\",\"red\",\"red\",\"blue\",\"blue\",\"blue\",\"red\",\"red\",\"blue\",\"red\",\"red\",\"red\",\"blue\",\"red\",\"blue\",\"blue\",\"blue\",\"red\",\"red\",\"red\",\"blue\",\"blue\",\"red\",\"blue\",\"blue\",\"red\",\"blue\",\"blue\",\"red\",\"blue\",\"blue\",\"red\",\"blue\",\"red\",\"red\",\"blue\",\"blue\",\"blue\",\"red\",\"blue\",\"blue\",\"blue\",\"red\",\"red\",\"blue\",\"blue\",\"blue\",\"red\",\"blue\",\"blue\",\"blue\",\"red\",\"blue\",\"blue\",\"blue\",\"blue\",\"red\",\"blue\",\"blue\",\"red\",\"red\",\"red\",\"blue\",\"blue\",\"blue\",\"red\",\"red\",\"blue\",\"blue\",\"blue\",\"red\",\"blue\",\"blue\",\"blue\",\"blue\",\"blue\",\"red\",\"red\",\"blue\",\"blue\",\"blue\",\"red\",\"red\",\"blue\",\"red\",\"red\",\"red\",\"blue\",\"red\",\"red\",\"blue\",\"red\",\"blue\",\"blue\",\"red\",\"blue\",\"blue\",\"red\",\"red\",\"blue\",\"blue\",\"blue\",\"blue\",\"red\",\"red\",\"red\",\"red\",\"blue\",\"blue\",\"blue\",\"red\",\"blue\",\"blue\",\"red\",\"blue\",\"red\",\"red\",\"blue\",\"red\",\"blue\",\"red\",\"red\",\"blue\",\"red\",\"blue\",\"blue\",\"blue\",\"red\",\"blue\",\"red\",\"blue\",\"blue\",\"blue\",\"blue\",\"blue\",\"red\",\"blue\",\"blue\",\"red\",\"blue\",\"red\",\"blue\",\"red\",\"blue\",\"red\",\"red\",\"red\",\"red\",\"red\",\"red\",\"blue\",\"blue\",\"blue\",\"red\",\"blue\",\"red\",\"red\",\"blue\",\"red\",\"red\",\"red\",\"red\",\"red\",\"red\",\"blue\",\"blue\",\"blue\",\"red\",\"blue\",\"red\",\"blue\",\"blue\",\"red\",\"red\",\"red\",\"blue\",\"red\",\"blue\",\"blue\",\"blue\",\"red\",\"blue\",\"blue\",\"red\",\"blue\",\"blue\",\"blue\",\"blue\",\"blue\",\"blue\",\"red\",\"red\",\"red\",\"blue\",\"blue\",\"red\",\"blue\",\"blue\",\"blue\",\"red\",\"blue\",\"red\",\"blue\",\"blue\",\"red\",\"red\",\"blue\",\"red\",\"red\",\"red\",\"blue\",\"red\",\"red\",\"blue\",\"red\",\"red\",\"blue\",\"blue\",\"blue\",\"red\",\"red\",\"red\",\"blue\",\"blue\",\"blue\",\"red\",\"red\",\"red\",\"red\",\"blue\",\"blue\",\"red\",\"red\",\"red\",\"red\",\"red\",\"red\",\"blue\",\"blue\",\"red\",\"red\",\"red\",\"blue\",\"red\",\"red\",\"red\",\"blue\",\"red\",\"red\",\"blue\",\"red\",\"red\",\"blue\",\"blue\",\"blue\",\"red\",\"blue\",\"blue\",\"blue\",\"red\",\"red\",\"red\",\"blue\",\"blue\",\"red\",\"red\",\"blue\",\"red\",\"blue\",\"blue\",\"blue\",\"red\",\"red\",\"blue\",\"red\",\"red\",\"blue\",\"red\",\"blue\",\"blue\",\"red\",\"red\",\"red\",\"red\",\"red\",\"red\",\"red\",\"red\",\"red\",\"blue\",\"blue\",\"blue\",\"red\",\"red\",\"blue\",\"blue\",\"blue\",\"red\",\"blue\",\"blue\",\"blue\",\"blue\",\"red\",\"blue\",\"red\",\"blue\",\"red\",\"red\",\"red\",\"blue\",\"red\",\"red\",\"red\",\"blue\",\"red\",\"blue\",\"blue\",\"blue\",\"red\",\"red\",\"red\",\"blue\",\"blue\",\"blue\",\"red\",\"red\",\"red\",\"blue\",\"red\",\"red\",\"red\",\"blue\",\"red\",\"blue\",\"red\",\"red\",\"blue\",\"red\",\"blue\",\"blue\",\"red\",\"red\",\"blue\",\"blue\",\"blue\",\"blue\",\"red\",\"blue\",\"blue\",\"red\",\"red\",\"red\",\"red\",\"blue\",\"blue\",\"red\",\"red\",\"red\",\"red\",\"red\",\"blue\",\"blue\",\"red\",\"red\",\"red\",\"blue\",\"blue\",\"blue\",\"blue\",\"blue\",\"red\",\"red\",\"red\",\"blue\",\"blue\",\"red\",\"red\",\"red\",\"red\",\"red\",\"blue\",\"blue\",\"blue\",\"red\",\"red\",\"red\",\"red\",\"red\",\"blue\",\"red\",\"red\",\"red\",\"blue\",\"red\",\"red\",\"red\",\"red\",\"red\",\"red\",\"red\",\"red\",\"red\",\"blue\",\"blue\",\"blue\",\"blue\",\"blue\",\"red\",\"blue\",\"blue\",\"red\",\"blue\",\"red\",\"red\",\"blue\",\"red\",\"red\",\"blue\",\"red\",\"blue\",\"red\",\"red\",\"red\",\"blue\",\"red\",\"blue\",\"blue\",\"blue\",\"red\",\"blue\",\"blue\",\"red\",\"blue\",\"blue\",\"blue\",\"blue\",\"red\",\"blue\",\"red\",\"red\",\"red\",\"red\",\"blue\",\"blue\",\"red\",\"red\",\"blue\",\"red\",\"red\",\"blue\",\"red\",\"blue\",\"red\",\"blue\",\"blue\",\"red\",\"blue\",\"blue\",\"blue\",\"red\",\"blue\",\"red\",\"blue\",\"blue\",\"red\",\"red\",\"red\",\"blue\",\"blue\",\"blue\",\"red\",\"blue\",\"red\",\"blue\",\"blue\",\"red\",\"blue\",\"blue\",\"blue\",\"red\",\"red\",\"red\",\"blue\",\"red\",\"red\",\"red\",\"blue\",\"red\",\"red\",\"blue\",\"red\",\"blue\",\"blue\",\"blue\",\"red\",\"blue\",\"blue\",\"red\",\"red\",\"red\",\"blue\",\"blue\",\"blue\",\"red\",\"blue\",\"red\",\"blue\",\"red\",\"red\",\"blue\",\"red\",\"red\",\"red\",\"blue\",\"blue\",\"blue\",\"red\",\"red\",\"red\",\"red\",\"red\",\"red\",\"blue\",\"red\",\"red\",\"blue\",\"red\",\"red\",\"blue\",\"red\",\"blue\",\"blue\",\"blue\",\"blue\",\"red\",\"blue\",\"blue\",\"blue\",\"blue\",\"red\",\"red\",\"blue\",\"blue\",\"red\",\"red\",\"red\",\"blue\",\"red\",\"red\",\"blue\",\"blue\",\"red\",\"red\",\"blue\",\"red\",\"red\",\"blue\",\"red\",\"red\",\"red\",\"blue\",\"blue\",\"red\",\"red\",\"red\",\"blue\",\"red\",\"blue\",\"red\",\"blue\",\"red\",\"blue\",\"red\",\"blue\",\"red\",\"red\",\"blue\",\"blue\",\"blue\",\"red\",\"red\",\"red\",\"red\",\"red\",\"red\",\"blue\",\"red\",\"blue\",\"red\",\"blue\",\"red\",\"blue\",\"blue\",\"blue\",\"red\",\"blue\",\"blue\",\"red\",\"blue\",\"blue\",\"blue\",\"red\",\"red\",\"red\",\"blue\",\"blue\",\"blue\",\"red\",\"red\",\"blue\",\"red\",\"red\",\"red\",\"red\",\"blue\",\"red\",\"red\",\"red\",\"red\",\"blue\",\"blue\",\"blue\",\"red\",\"blue\",\"red\",\"red\",\"blue\",\"red\",\"blue\",\"blue\",\"red\",\"red\",\"red\",\"blue\",\"blue\",\"blue\",\"blue\",\"red\",\"red\",\"blue\",\"blue\",\"red\",\"blue\",\"blue\",\"blue\",\"blue\",\"red\",\"blue\",\"red\",\"red\",\"blue\",\"blue\",\"blue\",\"blue\",\"blue\",\"red\",\"red\",\"red\",\"red\",\"blue\",\"red\",\"blue\",\"red\",\"blue\",\"red\",\"blue\",\"red\",\"blue\",\"red\",\"blue\",\"blue\",\"red\",\"blue\",\"red\",\"blue\",\"red\",\"blue\",\"blue\",\"blue\",\"red\",\"red\",\"blue\",\"red\",\"red\",\"blue\",\"blue\",\"blue\",\"red\",\"blue\",\"blue\",\"red\",\"red\",\"red\",\"blue\",\"red\",\"blue\",\"blue\",\"red\",\"red\",\"red\",\"blue\",\"red\",\"blue\",\"blue\",\"blue\",\"red\",\"blue\",\"red\",\"red\",\"red\",\"red\",\"red\",\"red\",\"blue\",\"red\",\"blue\",\"blue\",\"blue\",\"red\",\"blue\",\"red\",\"red\",\"blue\",\"blue\",\"red\",\"red\",\"blue\",\"red\",\"blue\",\"red\",\"red\",\"blue\",\"red\",\"red\",\"blue\",\"red\",\"red\",\"red\",\"blue\",\"blue\",\"blue\",\"red\",\"blue\",\"blue\",\"blue\",\"red\",\"blue\",\"red\",\"red\",\"blue\",\"red\",\"blue\",\"blue\",\"red\",\"blue\",\"red\",\"blue\",\"blue\",\"red\",\"blue\",\"blue\",\"red\",\"blue\",\"blue\",\"blue\",\"red\",\"red\",\"blue\",\"blue\",\"red\",\"blue\",\"red\",\"red\",\"red\",\"blue\",\"blue\",\"blue\",\"red\",\"blue\",\"blue\",\"blue\",\"red\",\"blue\",\"blue\",\"blue\",\"blue\",\"blue\",\"red\",\"blue\",\"blue\",\"red\",\"red\",\"blue\",\"red\",\"red\",\"red\",\"blue\",\"blue\",\"blue\",\"red\",\"blue\",\"blue\",\"blue\",\"red\",\"red\",\"red\",\"red\",\"red\",\"blue\",\"blue\",\"red\",\"blue\",\"red\",\"blue\",\"blue\",\"blue\",\"red\",\"red\",\"red\",\"blue\",\"blue\",\"red\",\"red\",\"blue\",\"red\",\"blue\",\"blue\",\"red\",\"blue\",\"blue\",\"red\",\"red\",\"red\",\"red\",\"red\",\"red\",\"blue\",\"red\",\"red\",\"blue\",\"blue\",\"red\",\"blue\",\"blue\",\"blue\",\"red\",\"blue\",\"blue\",\"blue\",\"blue\",\"blue\",\"red\",\"red\",\"red\",\"red\",\"red\",\"red\",\"blue\",\"blue\",\"red\",\"red\",\"red\",\"blue\",\"red\",\"blue\",\"blue\",\"red\",\"blue\",\"blue\",\"red\",\"blue\",\"red\",\"red\",\"blue\",\"red\",\"red\",\"blue\",\"blue\",\"blue\",\"red\",\"red\",\"red\",\"blue\",\"blue\",\"red\",\"blue\",\"blue\",\"blue\",\"red\",\"red\",\"red\",\"blue\",\"red\",\"red\",\"red\",\"blue\",\"blue\",\"red\",\"blue\",\"blue\",\"blue\",\"blue\",\"blue\",\"blue\",\"blue\",\"blue\",\"blue\",\"red\",\"blue\",\"red\",\"red\",\"blue\",\"blue\",\"red\",\"red\",\"blue\",\"blue\",\"blue\",\"red\"],\"x\":{\"__ndarray__\":\"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\",\"dtype\":\"float64\",\"order\":\"little\",\"shape\":[1280]},\"y\":{\"__ndarray__\":\"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\",\"dtype\":\"float64\",\"order\":\"little\",\"shape\":[1280]}},\"selected\":{\"id\":\"1161\"},\"selection_policy\":{\"id\":\"1162\"}},\"id\":\"1107\",\"type\":\"ColumnDataSource\"},{\"attributes\":{\"active_drag\":\"auto\",\"active_inspect\":\"auto\",\"active_multi\":null,\"active_scroll\":{\"id\":\"1126\"},\"active_tap\":\"auto\",\"tools\":[{\"id\":\"1125\"},{\"id\":\"1126\"},{\"id\":\"1127\"},{\"id\":\"1128\"},{\"id\":\"1129\"},{\"id\":\"1130\"},{\"id\":\"1144\"}]},\"id\":\"1132\",\"type\":\"Toolbar\"},{\"attributes\":{\"callback\":null,\"tooltips\":[]},\"id\":\"1144\",\"type\":\"HoverTool\"},{\"attributes\":{\"formatter\":{\"id\":\"1159\"},\"ticker\":{\"id\":\"1122\"}},\"id\":\"1121\",\"type\":\"LinearAxis\"},{\"attributes\":{\"fill_alpha\":{\"value\":0.1},\"fill_color\":{\"field\":\"color\"},\"line_alpha\":{\"value\":0.1},\"line_color\":{\"field\":\"color\"},\"size\":{\"units\":\"screen\",\"value\":10},\"x\":{\"field\":\"x\"},\"y\":{\"field\":\"y\"}},\"id\":\"1141\",\"type\":\"Scatter\"},{\"attributes\":{},\"id\":\"1125\",\"type\":\"PanTool\"},{\"attributes\":{},\"id\":\"1157\",\"type\":\"BasicTickFormatter\"},{\"attributes\":{\"axis\":{\"id\":\"1121\"},\"dimension\":1,\"ticker\":null},\"id\":\"1124\",\"type\":\"Grid\"},{\"attributes\":{},\"id\":\"1129\",\"type\":\"ResetTool\"},{\"attributes\":{},\"id\":\"1111\",\"type\":\"DataRange1d\"},{\"attributes\":{},\"id\":\"1159\",\"type\":\"BasicTickFormatter\"},{\"attributes\":{},\"id\":\"1118\",\"type\":\"BasicTicker\"},{\"attributes\":{\"text\":\"\"},\"id\":\"1156\",\"type\":\"Title\"},{\"attributes\":{},\"id\":\"1115\",\"type\":\"LinearScale\"},{\"attributes\":{\"data_source\":{\"id\":\"1107\"},\"glyph\":{\"id\":\"1140\"},\"hover_glyph\":null,\"muted_glyph\":null,\"nonselection_glyph\":{\"id\":\"1141\"},\"selection_glyph\":null,\"view\":{\"id\":\"1143\"}},\"id\":\"1142\",\"type\":\"GlyphRenderer\"},{\"attributes\":{\"axis\":{\"id\":\"1117\"},\"ticker\":null},\"id\":\"1120\",\"type\":\"Grid\"},{\"attributes\":{\"bottom_units\":\"screen\",\"fill_alpha\":0.5,\"fill_color\":\"lightgrey\",\"left_units\":\"screen\",\"level\":\"overlay\",\"line_alpha\":1.0,\"line_color\":\"black\",\"line_dash\":[4,4],\"line_width\":2,\"right_units\":\"screen\",\"top_units\":\"screen\"},\"id\":\"1131\",\"type\":\"BoxAnnotation\"},{\"attributes\":{\"overlay\":{\"id\":\"1131\"}},\"id\":\"1127\",\"type\":\"BoxZoomTool\"},{\"attributes\":{},\"id\":\"1122\",\"type\":\"BasicTicker\"},{\"attributes\":{\"fill_alpha\":{\"value\":0.25},\"fill_color\":{\"field\":\"color\"},\"line_alpha\":{\"value\":0.25},\"line_color\":{\"field\":\"color\"},\"size\":{\"units\":\"screen\",\"value\":10},\"x\":{\"field\":\"x\"},\"y\":{\"field\":\"y\"}},\"id\":\"1140\",\"type\":\"Scatter\"},{\"attributes\":{},\"id\":\"1113\",\"type\":\"LinearScale\"},{\"attributes\":{},\"id\":\"1128\",\"type\":\"SaveTool\"},{\"attributes\":{\"formatter\":{\"id\":\"1157\"},\"ticker\":{\"id\":\"1118\"}},\"id\":\"1117\",\"type\":\"LinearAxis\"},{\"attributes\":{\"source\":{\"id\":\"1107\"}},\"id\":\"1143\",\"type\":\"CDSView\"},{\"attributes\":{},\"id\":\"1161\",\"type\":\"Selection\"},{\"attributes\":{},\"id\":\"1162\",\"type\":\"UnionRenderers\"},{\"attributes\":{},\"id\":\"1109\",\"type\":\"DataRange1d\"},{\"attributes\":{},\"id\":\"1130\",\"type\":\"HelpTool\"},{\"attributes\":{},\"id\":\"1126\",\"type\":\"WheelZoomTool\"}],\"root_ids\":[\"1108\"]},\"title\":\"Bokeh Application\",\"version\":\"2.1.1\"}};\n",
              "  var render_items = [{\"docid\":\"87d57726-18de-4991-a2fe-4c0fbbf09ed1\",\"root_ids\":[\"1108\"],\"roots\":{\"1108\":\"3d41aaf9-8219-4723-a833-febd96ce7eb9\"}}];\n",
              "  root.Bokeh.embed.embed_items_notebook(docs_json, render_items);\n",
              "\n",
              "  }\n",
              "  if (root.Bokeh !== undefined) {\n",
              "    embed_document(root);\n",
              "  } else {\n",
              "    var attempts = 0;\n",
              "    var timer = setInterval(function(root) {\n",
              "      if (root.Bokeh !== undefined) {\n",
              "        clearInterval(timer);\n",
              "        embed_document(root);\n",
              "      } else {\n",
              "        attempts++;\n",
              "        if (attempts > 100) {\n",
              "          clearInterval(timer);\n",
              "          console.log(\"Bokeh: ERROR: Unable to run BokehJS code because BokehJS library is missing\");\n",
              "        }\n",
              "      }\n",
              "    }, 10, root)\n",
              "  }\n",
              "})(window);"
            ],
            "application/vnd.bokehjs_exec.v0+json": ""
          },
          "metadata": {
            "tags": [],
            "application/vnd.bokehjs_exec.v0+json": {
              "id": "1108"
            }
          }
        },
        {
          "output_type": "execute_result",
          "data": {
            "text/html": [
              "<div style=\"display: table;\"><div style=\"display: table-row;\"><div style=\"display: table-cell;\"><b title=\"bokeh.plotting.figure.Figure\">Figure</b>(</div><div style=\"display: table-cell;\">id&nbsp;=&nbsp;'1108', <span id=\"1219\" style=\"cursor: pointer;\">&hellip;)</span></div></div><div class=\"1218\" style=\"display: none;\"><div style=\"display: table-cell;\"></div><div style=\"display: table-cell;\">above&nbsp;=&nbsp;[],</div></div><div class=\"1218\" style=\"display: none;\"><div style=\"display: table-cell;\"></div><div style=\"display: table-cell;\">align&nbsp;=&nbsp;'start',</div></div><div class=\"1218\" style=\"display: none;\"><div style=\"display: table-cell;\"></div><div style=\"display: table-cell;\">aspect_ratio&nbsp;=&nbsp;None,</div></div><div class=\"1218\" style=\"display: none;\"><div style=\"display: table-cell;\"></div><div style=\"display: table-cell;\">aspect_scale&nbsp;=&nbsp;1,</div></div><div class=\"1218\" style=\"display: none;\"><div style=\"display: table-cell;\"></div><div style=\"display: table-cell;\">background&nbsp;=&nbsp;None,</div></div><div class=\"1218\" style=\"display: none;\"><div style=\"display: table-cell;\"></div><div style=\"display: table-cell;\">background_fill_alpha&nbsp;=&nbsp;1.0,</div></div><div class=\"1218\" style=\"display: none;\"><div style=\"display: table-cell;\"></div><div style=\"display: table-cell;\">background_fill_color&nbsp;=&nbsp;'#ffffff',</div></div><div class=\"1218\" style=\"display: none;\"><div style=\"display: table-cell;\"></div><div style=\"display: table-cell;\">below&nbsp;=&nbsp;[LinearAxis(id='1117', ...)],</div></div><div class=\"1218\" style=\"display: none;\"><div style=\"display: table-cell;\"></div><div style=\"display: table-cell;\">border_fill_alpha&nbsp;=&nbsp;1.0,</div></div><div class=\"1218\" style=\"display: none;\"><div style=\"display: table-cell;\"></div><div style=\"display: table-cell;\">border_fill_color&nbsp;=&nbsp;'#ffffff',</div></div><div class=\"1218\" style=\"display: none;\"><div style=\"display: table-cell;\"></div><div style=\"display: table-cell;\">center&nbsp;=&nbsp;[Grid(id='1120', ...), Grid(id='1124', ...)],</div></div><div class=\"1218\" style=\"display: none;\"><div style=\"display: table-cell;\"></div><div style=\"display: table-cell;\">css_classes&nbsp;=&nbsp;[],</div></div><div class=\"1218\" style=\"display: none;\"><div style=\"display: table-cell;\"></div><div style=\"display: table-cell;\">disabled&nbsp;=&nbsp;False,</div></div><div class=\"1218\" style=\"display: none;\"><div style=\"display: table-cell;\"></div><div style=\"display: table-cell;\">extra_x_ranges&nbsp;=&nbsp;{},</div></div><div class=\"1218\" style=\"display: none;\"><div style=\"display: table-cell;\"></div><div style=\"display: table-cell;\">extra_y_ranges&nbsp;=&nbsp;{},</div></div><div class=\"1218\" style=\"display: none;\"><div style=\"display: table-cell;\"></div><div style=\"display: table-cell;\">frame_height&nbsp;=&nbsp;None,</div></div><div class=\"1218\" style=\"display: none;\"><div style=\"display: table-cell;\"></div><div style=\"display: table-cell;\">frame_width&nbsp;=&nbsp;None,</div></div><div class=\"1218\" style=\"display: none;\"><div style=\"display: table-cell;\"></div><div style=\"display: table-cell;\">height&nbsp;=&nbsp;None,</div></div><div class=\"1218\" style=\"display: none;\"><div style=\"display: table-cell;\"></div><div style=\"display: table-cell;\">height_policy&nbsp;=&nbsp;'auto',</div></div><div class=\"1218\" style=\"display: none;\"><div style=\"display: table-cell;\"></div><div style=\"display: table-cell;\">hidpi&nbsp;=&nbsp;True,</div></div><div class=\"1218\" style=\"display: none;\"><div style=\"display: table-cell;\"></div><div style=\"display: table-cell;\">js_event_callbacks&nbsp;=&nbsp;{},</div></div><div class=\"1218\" style=\"display: none;\"><div style=\"display: table-cell;\"></div><div style=\"display: table-cell;\">js_property_callbacks&nbsp;=&nbsp;{},</div></div><div class=\"1218\" style=\"display: none;\"><div style=\"display: table-cell;\"></div><div style=\"display: table-cell;\">left&nbsp;=&nbsp;[LinearAxis(id='1121', ...)],</div></div><div class=\"1218\" style=\"display: none;\"><div style=\"display: table-cell;\"></div><div style=\"display: table-cell;\">lod_factor&nbsp;=&nbsp;10,</div></div><div class=\"1218\" style=\"display: none;\"><div style=\"display: table-cell;\"></div><div style=\"display: table-cell;\">lod_interval&nbsp;=&nbsp;300,</div></div><div class=\"1218\" style=\"display: none;\"><div style=\"display: table-cell;\"></div><div style=\"display: table-cell;\">lod_threshold&nbsp;=&nbsp;2000,</div></div><div class=\"1218\" style=\"display: none;\"><div style=\"display: table-cell;\"></div><div style=\"display: table-cell;\">lod_timeout&nbsp;=&nbsp;500,</div></div><div class=\"1218\" style=\"display: none;\"><div style=\"display: table-cell;\"></div><div style=\"display: table-cell;\">margin&nbsp;=&nbsp;(0, 0, 0, 0),</div></div><div class=\"1218\" style=\"display: none;\"><div style=\"display: table-cell;\"></div><div style=\"display: table-cell;\">match_aspect&nbsp;=&nbsp;False,</div></div><div class=\"1218\" style=\"display: none;\"><div style=\"display: table-cell;\"></div><div style=\"display: table-cell;\">max_height&nbsp;=&nbsp;None,</div></div><div class=\"1218\" style=\"display: none;\"><div style=\"display: table-cell;\"></div><div style=\"display: table-cell;\">max_width&nbsp;=&nbsp;None,</div></div><div class=\"1218\" style=\"display: none;\"><div style=\"display: table-cell;\"></div><div style=\"display: table-cell;\">min_border&nbsp;=&nbsp;5,</div></div><div class=\"1218\" style=\"display: none;\"><div style=\"display: table-cell;\"></div><div style=\"display: table-cell;\">min_border_bottom&nbsp;=&nbsp;None,</div></div><div class=\"1218\" style=\"display: none;\"><div style=\"display: table-cell;\"></div><div style=\"display: table-cell;\">min_border_left&nbsp;=&nbsp;None,</div></div><div class=\"1218\" style=\"display: none;\"><div style=\"display: table-cell;\"></div><div style=\"display: table-cell;\">min_border_right&nbsp;=&nbsp;None,</div></div><div class=\"1218\" style=\"display: none;\"><div style=\"display: table-cell;\"></div><div style=\"display: table-cell;\">min_border_top&nbsp;=&nbsp;None,</div></div><div class=\"1218\" style=\"display: none;\"><div style=\"display: table-cell;\"></div><div style=\"display: table-cell;\">min_height&nbsp;=&nbsp;None,</div></div><div class=\"1218\" style=\"display: none;\"><div style=\"display: table-cell;\"></div><div style=\"display: table-cell;\">min_width&nbsp;=&nbsp;None,</div></div><div class=\"1218\" style=\"display: none;\"><div style=\"display: table-cell;\"></div><div style=\"display: table-cell;\">name&nbsp;=&nbsp;None,</div></div><div class=\"1218\" style=\"display: none;\"><div style=\"display: table-cell;\"></div><div style=\"display: table-cell;\">outline_line_alpha&nbsp;=&nbsp;1.0,</div></div><div class=\"1218\" style=\"display: none;\"><div style=\"display: table-cell;\"></div><div style=\"display: table-cell;\">outline_line_cap&nbsp;=&nbsp;'butt',</div></div><div class=\"1218\" style=\"display: none;\"><div style=\"display: table-cell;\"></div><div style=\"display: table-cell;\">outline_line_color&nbsp;=&nbsp;'#e5e5e5',</div></div><div class=\"1218\" style=\"display: none;\"><div style=\"display: table-cell;\"></div><div style=\"display: table-cell;\">outline_line_dash&nbsp;=&nbsp;[],</div></div><div class=\"1218\" style=\"display: none;\"><div style=\"display: table-cell;\"></div><div style=\"display: table-cell;\">outline_line_dash_offset&nbsp;=&nbsp;0,</div></div><div class=\"1218\" style=\"display: none;\"><div style=\"display: table-cell;\"></div><div style=\"display: table-cell;\">outline_line_join&nbsp;=&nbsp;'bevel',</div></div><div class=\"1218\" style=\"display: none;\"><div style=\"display: table-cell;\"></div><div style=\"display: table-cell;\">outline_line_width&nbsp;=&nbsp;1,</div></div><div class=\"1218\" style=\"display: none;\"><div style=\"display: table-cell;\"></div><div style=\"display: table-cell;\">output_backend&nbsp;=&nbsp;'canvas',</div></div><div class=\"1218\" style=\"display: none;\"><div style=\"display: table-cell;\"></div><div style=\"display: table-cell;\">plot_height&nbsp;=&nbsp;400,</div></div><div class=\"1218\" style=\"display: none;\"><div style=\"display: table-cell;\"></div><div style=\"display: table-cell;\">plot_width&nbsp;=&nbsp;600,</div></div><div class=\"1218\" style=\"display: none;\"><div style=\"display: table-cell;\"></div><div style=\"display: table-cell;\">renderers&nbsp;=&nbsp;[GlyphRenderer(id='1142', ...)],</div></div><div class=\"1218\" style=\"display: none;\"><div style=\"display: table-cell;\"></div><div style=\"display: table-cell;\">reset_policy&nbsp;=&nbsp;'standard',</div></div><div class=\"1218\" style=\"display: none;\"><div style=\"display: table-cell;\"></div><div style=\"display: table-cell;\">right&nbsp;=&nbsp;[],</div></div><div class=\"1218\" style=\"display: none;\"><div style=\"display: table-cell;\"></div><div style=\"display: table-cell;\">sizing_mode&nbsp;=&nbsp;None,</div></div><div class=\"1218\" style=\"display: none;\"><div style=\"display: table-cell;\"></div><div style=\"display: table-cell;\">subscribed_events&nbsp;=&nbsp;[],</div></div><div class=\"1218\" style=\"display: none;\"><div style=\"display: table-cell;\"></div><div style=\"display: table-cell;\">tags&nbsp;=&nbsp;[],</div></div><div class=\"1218\" style=\"display: none;\"><div style=\"display: table-cell;\"></div><div style=\"display: table-cell;\">title&nbsp;=&nbsp;Title(id='1156', ...),</div></div><div class=\"1218\" style=\"display: none;\"><div style=\"display: table-cell;\"></div><div style=\"display: table-cell;\">title_location&nbsp;=&nbsp;'above',</div></div><div class=\"1218\" style=\"display: none;\"><div style=\"display: table-cell;\"></div><div style=\"display: table-cell;\">toolbar&nbsp;=&nbsp;Toolbar(id='1132', ...),</div></div><div class=\"1218\" style=\"display: none;\"><div style=\"display: table-cell;\"></div><div style=\"display: table-cell;\">toolbar_location&nbsp;=&nbsp;'right',</div></div><div class=\"1218\" style=\"display: none;\"><div style=\"display: table-cell;\"></div><div style=\"display: table-cell;\">toolbar_sticky&nbsp;=&nbsp;True,</div></div><div class=\"1218\" style=\"display: none;\"><div style=\"display: table-cell;\"></div><div style=\"display: table-cell;\">visible&nbsp;=&nbsp;True,</div></div><div class=\"1218\" style=\"display: none;\"><div style=\"display: table-cell;\"></div><div style=\"display: table-cell;\">width&nbsp;=&nbsp;None,</div></div><div class=\"1218\" style=\"display: none;\"><div style=\"display: table-cell;\"></div><div style=\"display: table-cell;\">width_policy&nbsp;=&nbsp;'auto',</div></div><div class=\"1218\" style=\"display: none;\"><div style=\"display: table-cell;\"></div><div style=\"display: table-cell;\">x_range&nbsp;=&nbsp;DataRange1d(id='1109', ...),</div></div><div class=\"1218\" style=\"display: none;\"><div style=\"display: table-cell;\"></div><div style=\"display: table-cell;\">x_scale&nbsp;=&nbsp;LinearScale(id='1113', ...),</div></div><div class=\"1218\" style=\"display: none;\"><div style=\"display: table-cell;\"></div><div style=\"display: table-cell;\">y_range&nbsp;=&nbsp;DataRange1d(id='1111', ...),</div></div><div class=\"1218\" style=\"display: none;\"><div style=\"display: table-cell;\"></div><div style=\"display: table-cell;\">y_scale&nbsp;=&nbsp;LinearScale(id='1115', ...))</div></div></div>\n",
              "<script>\n",
              "(function() {\n",
              "  var expanded = false;\n",
              "  var ellipsis = document.getElementById(\"1219\");\n",
              "  ellipsis.addEventListener(\"click\", function() {\n",
              "    var rows = document.getElementsByClassName(\"1218\");\n",
              "    for (var i = 0; i < rows.length; i++) {\n",
              "      var el = rows[i];\n",
              "      el.style.display = expanded ? \"none\" : \"table-row\";\n",
              "    }\n",
              "    ellipsis.innerHTML = expanded ? \"&hellip;)\" : \"&lsaquo;&lsaquo;&lsaquo;\";\n",
              "    expanded = !expanded;\n",
              "  });\n",
              "})();\n",
              "</script>\n"
            ],
            "text/plain": [
              "Figure(id='1108', ...)"
            ]
          },
          "metadata": {
            "tags": []
          },
          "execution_count": 76
        }
      ]
    },
    {
      "cell_type": "markdown",
      "metadata": {
        "id": "0fNF6LRQ9MPI"
      },
      "source": [
        "Скорее всего, на визуализации нет четкого разделения твитов между классами. Это значит, что по полученным нами векторам твитов не так-то просто определить, к какому классу твит пренадлежит. Значит, обычный линейный классификатор не очень хорошо справится с задачей. Надо будет делать глубокую (хотя бы два слоя) нейронную сеть.\n",
        "\n",
        "Подготовим загрузчики данных.\n",
        "Усреднее векторов будем делать в \"батчевалке\"(`collate_fn`). Она используется для того, чтобы собирать из данных `torch.Tensor` батчи, которые можно отправлять в модель.\n"
      ]
    },
    {
      "cell_type": "code",
      "metadata": {
        "id": "y1XapsADtITv"
      },
      "source": [
        "from torch.utils.data import DataLoader\n",
        "\n",
        "\n",
        "batch_size = 1024\n",
        "num_workers = 4\n",
        "\n",
        "def average_emb(batch):\n",
        "    features = [np.sum(b[\"feature\"], axis=0) for b in batch] # кажется, здесь надо mean на sum заменить\n",
        "    targets = [b[\"target\"] for b in batch]\n",
        "\n",
        "    return {\"features\": torch.FloatTensor(features), \"targets\": torch.LongTensor(targets)}\n",
        "\n",
        "\n",
        "train_size = math.ceil(len(dev) * 0.8)\n",
        "\n",
        "train, valid = random_split(dev, [train_size, len(dev) - train_size])\n",
        "\n",
        "train_loader = DataLoader(train, batch_size=batch_size, num_workers=num_workers, shuffle=True, drop_last=True, collate_fn=average_emb)\n",
        "valid_loader = DataLoader(valid, batch_size=batch_size, num_workers=num_workers, shuffle=False, drop_last=False, collate_fn=average_emb)"
      ],
      "execution_count": null,
      "outputs": []
    },
    {
      "cell_type": "markdown",
      "metadata": {
        "id": "p-zs0WEK-Vkt"
      },
      "source": [
        "Определим функции для тренировки и теста модели:"
      ]
    },
    {
      "cell_type": "code",
      "metadata": {
        "id": "U--T2Gjw1r27"
      },
      "source": [
        "from tqdm.notebook import tqdm\n",
        "\n",
        "\n",
        "def training(model, optimizer, criterion, train_loader, epoch, device=\"cpu\"):\n",
        "    pbar = tqdm(train_loader, desc=f\"Epoch {e + 1}. Train Loss: {0}\")\n",
        "    model.train()\n",
        "    for batch in pbar:\n",
        "        features = batch[\"features\"].to(device)\n",
        "        targets = batch[\"targets\"].to(device)\n",
        "\n",
        "        # Получи предсказания модели\n",
        "        y_pred = model(features)\n",
        "        loss = criterion(y_pred, targets)\n",
        "        # Обнови параметры модели\n",
        "        optimizer.zero_grad()\n",
        "        loss.backward()\n",
        "        optimizer.step()\n",
        "\n",
        "        pbar.set_description(f\"Epoch {e + 1}. Train Loss: {loss:.4}\")\n",
        "    \n",
        "\n",
        "def testing(model, criterion, test_loader, device=\"cpu\"):\n",
        "    pbar = tqdm(test_loader, desc=f\"Test Loss: {0}, Test Acc: {0}\")\n",
        "    mean_loss = 0\n",
        "    mean_acc = 0\n",
        "    model.eval()\n",
        "    with torch.no_grad():\n",
        "        for batch in pbar:\n",
        "            features = batch[\"features\"].to(device)\n",
        "            targets = batch[\"targets\"].to(device)\n",
        "\n",
        "            # Получи предсказания модели\n",
        "            y_pred = model(features)\n",
        "            loss = criterion(y_pred, targets)\n",
        "            score, predicted = torch.max(y_pred, 1)\n",
        "            acc = (targets == predicted).sum().float() / len(targets)\n",
        "\n",
        "            mean_loss += loss.item()\n",
        "            mean_acc += acc.item()\n",
        "\n",
        "            pbar.set_description(f\"Test Loss: {loss:.4}, Test Acc: {acc:.4}\")\n",
        "\n",
        "    pbar.set_description(f\"Test Loss: {mean_loss / len(test_loader):.4}, Test Acc: {mean_acc / len(test_loader):.4}\")\n",
        "\n",
        "    return {\"Test Loss\": mean_loss / len(test_loader), \"Test Acc\": mean_acc / len(test_loader)}"
      ],
      "execution_count": null,
      "outputs": []
    },
    {
      "cell_type": "markdown",
      "metadata": {
        "id": "oVg_XBBb-YBH"
      },
      "source": [
        "Создадим модель, оптимизатор и целевую функцию. Вы можете сами выбрать количество слоев в нейронной сети, ваш любимый оптимизатор и целевую функцию.\n"
      ]
    },
    {
      "cell_type": "code",
      "metadata": {
        "id": "EBoZ4F3Fx1Hm"
      },
      "source": [
        "import torch.nn as nn\n",
        "from torch.optim import Adam\n",
        "\n",
        "\n",
        "# Не забудь поиграться с параметрами ;)\n",
        "vector_size = dev.word2vec.vector_size\n",
        "num_classes = 2\n",
        "lr = 1e-3\n",
        "num_epochs = 1\n",
        "\n",
        "# N - размер батча (batch_size, нужно для метода оптимизации); \n",
        "# D_in - размерность входа (количество признаков у объекта);\n",
        "# H - размерность скрытых слоёв; \n",
        "# D_out - размерность выходного слоя (суть - количество классов)\n",
        "D_in, H1, H2, H3, D_out = vector_size, 50, 50, 10, num_classes\n",
        "\n",
        "model = torch.nn.Sequential(\n",
        "    torch.nn.Linear(D_in, H1),\n",
        "    torch.nn.Tanh(),\n",
        "    torch.nn.Linear(H1, H2),\n",
        "    torch.nn.ReLU(),\n",
        "    torch.nn.Linear(H2, H3),\n",
        "    torch.nn.Tanh(),\n",
        "    torch.nn.Linear(H3, D_out),\n",
        ")\n",
        "model.to(device)\n",
        "criterion = torch.nn.CrossEntropyLoss(size_average=False)\n",
        "optimizer = torch.optim.Adam(model.parameters(), lr=lr)"
      ],
      "execution_count": null,
      "outputs": []
    },
    {
      "cell_type": "markdown",
      "metadata": {
        "id": "-AitU8AR-zBj"
      },
      "source": [
        "Наконец, обучим модель и протестируем её.\n",
        "\n",
        "После каждой эпохи будем проверять качество модели на валидационной части датасета. Если метрика стала лучше, будем сохранять модель. **Подумайте, какая метрика (точность или лосс) будет лучше работать в этой задаче?** "
      ]
    },
    {
      "cell_type": "code",
      "metadata": {
        "colab": {
          "base_uri": "https://localhost:8080/",
          "height": 133,
          "referenced_widgets": [
            "0afa09c85d4a44358af38aa052d67969",
            "44076ef6cded44919ff39ba67121a199",
            "71731e4b489d43ee85a64410485f6a6f",
            "9fc39142aaf84d3ba28e23e94155c91c",
            "b2b665b922144861b2ab97ecad6c2f03",
            "dbe3fc4bb88047d697449c90f91ff198",
            "5d4ade9db1be417cab338c4559a79259",
            "bc81d6c8479642dd996a291c4b2945c5",
            "839e14242eee456492c396d336b44ab3",
            "744cd4dc5b804e46ad2f3d5b20cb56f3",
            "bffe716a55e844188876af14f71f75f6",
            "5a5dca80dc724408a2ea1a3b713d2ce0",
            "4849fc4f75ee4f8a8a090b1f204c7fe8",
            "9d06afa3a9cf423c9f15f0f15a41315a",
            "3e6290b2571740828408e10f169e531f",
            "c365026e43f7406896bd3678b01e48d7"
          ]
        },
        "id": "gKhk71Pmx1F1",
        "outputId": "7ff0fca9-d5ce-4115-d8b2-2a729a3b7c03"
      },
      "source": [
        "best_metric = np.inf\n",
        "for e in range(num_epochs):\n",
        "    training(model, optimizer, criterion, train_loader, e, device)\n",
        "    log = testing(model, criterion, valid_loader, device)\n",
        "    print(log)\n",
        "    if log[\"Test Loss\"] < best_metric:\n",
        "        torch.save(model.state_dict(), \"model.pt\")\n",
        "        best_metric = log[\"Test Loss\"]"
      ],
      "execution_count": null,
      "outputs": [
        {
          "output_type": "display_data",
          "data": {
            "application/vnd.jupyter.widget-view+json": {
              "model_id": "0afa09c85d4a44358af38aa052d67969",
              "version_major": 2,
              "version_minor": 0
            },
            "text/plain": [
              "HBox(children=(FloatProgress(value=0.0, description='Epoch 1. Train Loss: 0', max=1000.0, style=ProgressStyle(…"
            ]
          },
          "metadata": {
            "tags": []
          }
        },
        {
          "output_type": "stream",
          "text": [
            "\n"
          ],
          "name": "stdout"
        },
        {
          "output_type": "display_data",
          "data": {
            "application/vnd.jupyter.widget-view+json": {
              "model_id": "839e14242eee456492c396d336b44ab3",
              "version_major": 2,
              "version_minor": 0
            },
            "text/plain": [
              "HBox(children=(FloatProgress(value=0.0, description='Test Loss: 0, Test Acc: 0', max=250.0, style=ProgressStyl…"
            ]
          },
          "metadata": {
            "tags": []
          }
        },
        {
          "output_type": "stream",
          "text": [
            "\n",
            "{'Test Loss': 501.93104431152346, 'Test Acc': 0.7611875}\n"
          ],
          "name": "stdout"
        }
      ]
    },
    {
      "cell_type": "code",
      "metadata": {
        "colab": {
          "base_uri": "https://localhost:8080/",
          "height": 84,
          "referenced_widgets": [
            "5f4c4e2f54eb487d9d392a036b0bf29e",
            "a2785f4dd0304a7c9b9ac51a257770c8",
            "c7f30d1763f14ad5a431417adab71548",
            "6523d6724e724239810f345a89e2e7f5",
            "448a92b032824d12b3bfc9146534185f",
            "b60bbc250c714f1db9f4666a62167bc1",
            "e1c13797c517423bb217162e92970d3a",
            "b1fae8a565ad437eac7297c450945096"
          ]
        },
        "id": "di4dGwD4x1Dt",
        "outputId": "00efee3e-dfe0-4eae-8701-0a3aecb980d9"
      },
      "source": [
        "test_loader = DataLoader(\n",
        "    TwitterDataset(test_data, \"text\", \"emotion\", word2vec), \n",
        "    batch_size=batch_size, \n",
        "    num_workers=num_workers, \n",
        "    shuffle=False,\n",
        "    drop_last=False, \n",
        "    collate_fn=average_emb)\n",
        "\n",
        "model.load_state_dict(torch.load(\"model.pt\", map_location=device))\n",
        "\n",
        "print(testing(model, criterion, test_loader, device=device))"
      ],
      "execution_count": null,
      "outputs": [
        {
          "output_type": "display_data",
          "data": {
            "application/vnd.jupyter.widget-view+json": {
              "model_id": "5f4c4e2f54eb487d9d392a036b0bf29e",
              "version_major": 2,
              "version_minor": 0
            },
            "text/plain": [
              "HBox(children=(FloatProgress(value=0.0, description='Test Loss: 0, Test Acc: 0', max=313.0, style=ProgressStyl…"
            ]
          },
          "metadata": {
            "tags": []
          }
        },
        {
          "output_type": "stream",
          "text": [
            "\n",
            "{'Test Loss': 503.50060303904377, 'Test Acc': 0.7592539436900958}\n"
          ],
          "name": "stdout"
        }
      ]
    },
    {
      "cell_type": "markdown",
      "metadata": {
        "id": "A9zlSJ2h0z6o"
      },
      "source": [
        "Трехслойная полносвязная нейросеть дает порядка 75%, что в общем не очень хорошо."
      ]
    },
    {
      "cell_type": "markdown",
      "metadata": {
        "id": "ZRvzpldHSAu0"
      },
      "source": [
        "## Embeddings for unknown words (8 баллов)\n",
        "\n",
        "Пока что использовалась не вся информация из текста. Часть информации фильтровалось – если слова не было в словаре эмбеддингов, то мы просто превращали слово в нулевой вектор. Хочется использовать информацию по-максимуму. Поэтому рассмотрим другие способы обработки слов, которых нет в словаре. А именно:\n",
        "\n",
        "- Для каждого незнакомого слова будем запоминать его контекст(слова слева и справа от этого слова). Эмбеддингом нашего незнакомого слова будет сумма эмбеддингов всех слов из его контекста. (4 балла)\n",
        "- Для каждого слова текста получим его эмбеддинг из Tfidf с помощью ```TfidfVectorizer``` из [sklearn](https://scikit-learn.org/stable/modules/generated/sklearn.feature_extraction.text.TfidfVectorizer.html#sklearn.feature_extraction.text.TfidfVectorizer). Итоговым эмбеддингом для каждого слова будет сумма двух эмбеддингов: предобученного и Tfidf-ного. Для слов, которых нет в словаре предобученных эмбеддингов, результирующий эмбеддинг будет просто полученный из Tfidf. (4 балла)\n",
        "\n",
        "Реализуйте оба варианта **ниже**. Напишите, какой способ сработал лучше и ваши мысли, почему так получилось."
      ]
    },
    {
      "cell_type": "code",
      "metadata": {
        "id": "RxhEpKalU1UQ"
      },
      "source": [
        "class TwitterDatasetAdvanced(TwitterDataset):\n",
        "  def get_embeddings_(self, tokens):\n",
        "        embeddings = []\n",
        "        for i, w in enumerate(tokens):\n",
        "          if w in word2vec:\n",
        "            embeddings.append((word2vec.get_vector(w) - self.mean) / self.std)\n",
        "          else:\n",
        "            embedding_neighbours = np.zeros(300, dtype=float)\n",
        "            if len(tokens) == 2:\n",
        "              if i == 0: \n",
        "                neighbour_word = tokens[i+1]\n",
        "                if neighbour_word in word2vec:\n",
        "                  embedding_neighbours += word2vec.get_vector(neighbour_word)\n",
        "              else:\n",
        "                neighbour_word = tokens[i-1]\n",
        "                if neighbour_word in word2vec:\n",
        "                  embedding_neighbours += word2vec.get_vector(neighbour_word)\n",
        "            if (i < 1) and (len(tokens) >= 3):\n",
        "              neighbour_word = tokens[i+1]\n",
        "              if neighbour_word in word2vec:\n",
        "               embedding_neighbours += word2vec.get_vector(neighbour_word)\n",
        "            \n",
        "            if (i >= len(tokens) - 1) and (len(tokens) >= 3):\n",
        "              neighbour_word = tokens[i-1]\n",
        "              if neighbour_word in word2vec:\n",
        "                embedding_neighbours += word2vec.get_vector(neighbour_word)\n",
        "            if 1 <= i < len(tokens) - 1: \n",
        "              neighbour_word = tokens[i-1]\n",
        "              if neighbour_word in word2vec:\n",
        "                embedding_neighbours += word2vec.get_vector(neighbour_word)\n",
        "              neighbour_word = tokens[i+1]\n",
        "              if neighbour_word in word2vec:\n",
        "                embedding_neighbours += word2vec.get_vector(neighbour_word)\n",
        "            if sum(embedding_neighbours) != 0:\n",
        "              embeddings.append((embedding_neighbours - self.mean) / self.std) \n",
        "        \n",
        "        if len(embeddings) == 0:\n",
        "            embeddings = np.zeros((1, self.word2vec.vector_size))\n",
        "        else:\n",
        "            embeddings = np.array(embeddings)\n",
        "            if len(embeddings.shape) == 1:\n",
        "                embeddings = embeddings.reshape(-1, 1)\n",
        "\n",
        "        return embeddings"
      ],
      "execution_count": null,
      "outputs": []
    },
    {
      "cell_type": "code",
      "metadata": {
        "id": "rfUVETG3t0k2"
      },
      "source": [
        "dev = TwitterDatasetAdvanced(dev_data, \"text\", \"emotion\", word2vec)"
      ],
      "execution_count": null,
      "outputs": []
    },
    {
      "cell_type": "code",
      "metadata": {
        "id": "wVl_Kiyb_Jd1"
      },
      "source": [
        "from torch.utils.data import DataLoader\n",
        "\n",
        "\n",
        "batch_size = 1024\n",
        "num_workers = 4\n",
        "\n",
        "def average_emb(batch):\n",
        "    features = [np.sum(b[\"feature\"], axis=0) for b in batch] # кажется, здесь надо mean на sum заменить\n",
        "    targets = [b[\"target\"] for b in batch]\n",
        "\n",
        "    return {\"features\": torch.FloatTensor(features), \"targets\": torch.LongTensor(targets)}\n",
        "\n",
        "\n",
        "train_size = math.ceil(len(dev) * 0.8)\n",
        "\n",
        "train, valid = random_split(dev, [train_size, len(dev) - train_size])\n",
        "\n",
        "train_loader = DataLoader(train, batch_size=batch_size, num_workers=num_workers, shuffle=True, drop_last=True, collate_fn=average_emb)\n",
        "valid_loader = DataLoader(valid, batch_size=batch_size, num_workers=num_workers, shuffle=False, drop_last=False, collate_fn=average_emb)"
      ],
      "execution_count": null,
      "outputs": []
    },
    {
      "cell_type": "code",
      "metadata": {
        "colab": {
          "base_uri": "https://localhost:8080/"
        },
        "id": "YhJz2NaIuVRN",
        "outputId": "7e09bea7-c02e-45a5-fc29-80e71038fcd0"
      },
      "source": [
        "vector_size = dev.word2vec.vector_size\n",
        "num_classes = 2\n",
        "lr = 1e-3\n",
        "num_epochs = 1\n",
        "\n",
        "# N - размер батча (batch_size, нужно для метода оптимизации); \n",
        "# D_in - размерность входа (количество признаков у объекта);\n",
        "# H - размерность скрытых слоёв; \n",
        "# D_out - размерность выходного слоя (суть - количество классов)\n",
        "D_in, H1, H2, H3, D_out = vector_size, 50, 50, 10, num_classes\n",
        "\n",
        "model = torch.nn.Sequential(\n",
        "    torch.nn.Linear(D_in, H1),\n",
        "    torch.nn.Tanh(),\n",
        "    torch.nn.Linear(H1, H2),\n",
        "    torch.nn.ReLU(),\n",
        "    torch.nn.Linear(H2, H3),\n",
        "    torch.nn.Tanh(),\n",
        "    torch.nn.Linear(H3, D_out),\n",
        ")\n",
        "\n",
        "model.to(device)\n",
        "\n",
        "criterion = torch.nn.CrossEntropyLoss(size_average=False)\n",
        "optimizer = torch.optim.Adam(model.parameters(), lr=lr)"
      ],
      "execution_count": null,
      "outputs": [
        {
          "output_type": "stream",
          "text": [
            "/usr/local/lib/python3.7/dist-packages/torch/nn/_reduction.py:44: UserWarning: size_average and reduce args will be deprecated, please use reduction='sum' instead.\n",
            "  warnings.warn(warning.format(ret))\n"
          ],
          "name": "stderr"
        }
      ]
    },
    {
      "cell_type": "code",
      "metadata": {
        "colab": {
          "base_uri": "https://localhost:8080/",
          "height": 133,
          "referenced_widgets": [
            "d335b42ea87d47dcbdd8f9c60f6bf922",
            "80724adbb66e47be9f19e50992b56f57",
            "139e46f9253f490b88fd3b94975d10fc",
            "3912aa5e348b4f1d930faadfd1632971",
            "3b807a18625247248e90a63ddabe3184",
            "8fc4b337554e48fbb46a170a47ecfedf",
            "ed93522e63614bf5a06b3a8d447c483d",
            "13f9d02dda784d60a1d196a2c550c022",
            "4432c984f8c14ed3a22862e3ee14160c",
            "f598213ce94245d393d8fba7f2c50ec5",
            "1e3e46dc5f1f4cf88ab1994bec981201",
            "9e525775b0454761ac5ec5dce30b6cfa",
            "19755b9775b54e8397f3a1e87fe45043",
            "d7f53226e8144a45a32a1583464b7850",
            "40cfd1a3c81e4d349fcd1382d42a2981",
            "bca06856a10f4de294c5fed2c2e9ac2e"
          ]
        },
        "id": "cWGF-_vJuaJ5",
        "outputId": "e509a62f-6f91-4263-eb35-238fb51711ef"
      },
      "source": [
        "best_metric = np.inf\n",
        "for e in range(num_epochs):\n",
        "    training(model, optimizer, criterion, train_loader, e, device)\n",
        "    log = testing(model, criterion, valid_loader, device)\n",
        "    print(log)\n",
        "    if log[\"Test Loss\"] < best_metric:\n",
        "        torch.save(model.state_dict(), \"model.pt\")\n",
        "        best_metric = log[\"Test Loss\"]"
      ],
      "execution_count": null,
      "outputs": [
        {
          "output_type": "display_data",
          "data": {
            "application/vnd.jupyter.widget-view+json": {
              "model_id": "d335b42ea87d47dcbdd8f9c60f6bf922",
              "version_minor": 0,
              "version_major": 2
            },
            "text/plain": [
              "HBox(children=(FloatProgress(value=0.0, description='Epoch 1. Train Loss: 0', max=1000.0, style=ProgressStyle(…"
            ]
          },
          "metadata": {
            "tags": []
          }
        },
        {
          "output_type": "stream",
          "text": [
            "\n"
          ],
          "name": "stdout"
        },
        {
          "output_type": "display_data",
          "data": {
            "application/vnd.jupyter.widget-view+json": {
              "model_id": "4432c984f8c14ed3a22862e3ee14160c",
              "version_minor": 0,
              "version_major": 2
            },
            "text/plain": [
              "HBox(children=(FloatProgress(value=0.0, description='Test Loss: 0, Test Acc: 0', max=250.0, style=ProgressStyl…"
            ]
          },
          "metadata": {
            "tags": []
          }
        },
        {
          "output_type": "stream",
          "text": [
            "\n",
            "{'Test Loss': 509.6139049072266, 'Test Acc': 0.756265625}\n"
          ],
          "name": "stdout"
        }
      ]
    },
    {
      "cell_type": "code",
      "metadata": {
        "colab": {
          "base_uri": "https://localhost:8080/",
          "height": 84,
          "referenced_widgets": [
            "e2a18366413a44a9b35b0c4cc5dfdbd6",
            "327dacf87337479ea5007f6d6100df02",
            "7efd5cea7946453494bd849e9d0d2070",
            "b6c0175532ae4957a4b813a775216ad3",
            "6c4104c604c74c029f1c723c1bcfa842",
            "bc4145c43fd54b29ae1b18745f1ebb5a",
            "5c8e079bab45434a88abbf5bca76f25a",
            "ab10bed68afe42b2aa84716dd2022db1"
          ]
        },
        "id": "kIhzvRnI3eOj",
        "outputId": "9c93e900-9cf5-4a96-d819-e61926286db7"
      },
      "source": [
        "test_loader = DataLoader(\n",
        "    TwitterDatasetAdvanced(test_data, \"text\", \"emotion\", word2vec), \n",
        "    batch_size=batch_size, \n",
        "    num_workers=num_workers, \n",
        "    shuffle=False,\n",
        "    drop_last=False, \n",
        "    collate_fn=average_emb)\n",
        "\n",
        "model.load_state_dict(torch.load(\"model.pt\", map_location=device))\n",
        "\n",
        "print(testing(model, criterion, test_loader, device=device))"
      ],
      "execution_count": null,
      "outputs": [
        {
          "output_type": "display_data",
          "data": {
            "application/vnd.jupyter.widget-view+json": {
              "model_id": "e2a18366413a44a9b35b0c4cc5dfdbd6",
              "version_major": 2,
              "version_minor": 0
            },
            "text/plain": [
              "HBox(children=(FloatProgress(value=0.0, description='Test Loss: 0, Test Acc: 0', max=313.0, style=ProgressStyl…"
            ]
          },
          "metadata": {
            "tags": []
          }
        },
        {
          "output_type": "stream",
          "text": [
            "\n",
            "{'Test Loss': 508.42380735744683, 'Test Acc': 0.7552041733226837}\n"
          ],
          "name": "stdout"
        }
      ]
    },
    {
      "cell_type": "markdown",
      "metadata": {
        "id": "SxtSbo8nPjeQ"
      },
      "source": [
        "## В пределах погрешности точность на тестовых данных не изменилась при добавлении векторов отсутствующих в словаре слов, результат в районе 76%"
      ]
    },
    {
      "cell_type": "code",
      "metadata": {
        "id": "JdIoaQn27aEh"
      },
      "source": [
        "from sklearn.feature_extraction.text import TfidfVectorizer"
      ],
      "execution_count": null,
      "outputs": []
    },
    {
      "cell_type": "code",
      "metadata": {
        "id": "QRbKkvrK7afT"
      },
      "source": [
        "vectorizer = TfidfVectorizer()\n",
        "dev_data_tfidf = vectorizer.fit_transform(dev_data[\"text\"])\n"
      ],
      "execution_count": null,
      "outputs": []
    },
    {
      "cell_type": "code",
      "metadata": {
        "colab": {
          "base_uri": "https://localhost:8080/"
        },
        "id": "ewgGCHwp8c2b",
        "outputId": "5338c7f9-dbc9-4bde-b5e1-95a28c4bfc41"
      },
      "source": [
        "print(dev_data_tfidf.shape)"
      ],
      "execution_count": null,
      "outputs": [
        {
          "output_type": "stream",
          "text": [
            "(1280000, 589604)\n"
          ],
          "name": "stdout"
        }
      ]
    },
    {
      "cell_type": "code",
      "metadata": {
        "id": "jbTQsQFR8dSM"
      },
      "source": [
        "names = vectorizer.get_feature_names()"
      ],
      "execution_count": null,
      "outputs": []
    },
    {
      "cell_type": "markdown",
      "metadata": {
        "id": "GcKP5vg0JP2U"
      },
      "source": [
        "### <font color=\"red\"> Все, что ниже пока не заработало :( Слишком долго считается, нужен какой-то другой подход "
      ]
    },
    {
      "cell_type": "code",
      "metadata": {
        "id": "q7eIoGsbEJ-m"
      },
      "source": [
        "# модифицируем подсчет эмбеддингов, чтобы учитывать слова с весами из Tf-idf\n",
        "class TwitterDatasetTFIDF(TwitterDataset):\n",
        "  def __getitem__(self, item):\n",
        "        text = self.data[self.feature_column][item]\n",
        "        label = self.label2num(self.data[self.target_column][item])\n",
        "        tokens = self.get_tokens_(text)\n",
        "        embeddings = self.get_embeddings_(tokens, item)\n",
        "        \n",
        "        return {\"feature\": embeddings, \"target\": label}\n",
        " \n",
        "  def __init__(self, data: pd.DataFrame, feature_column: str, target_column: str, word2vec: gensim.models.Word2Vec, tfidf, names):\n",
        "        self.tokenizer = nltk.WordPunctTokenizer()\n",
        "        \n",
        "        self.data = data\n",
        "\n",
        "        self.feature_column = feature_column\n",
        "        self.target_column = target_column\n",
        "\n",
        "        self.word2vec = word2vec\n",
        "\n",
        "        self.label2num = lambda label: 0 if label == 0 else 1\n",
        "        self.mean = np.mean(word2vec.vectors, axis=0)\n",
        "        self.std = np.std(word2vec.vectors, axis=0)\n",
        "\n",
        "        self.tfidf = tfidf\n",
        "        self.names = names\n",
        "  \n",
        "  def get_embeddings_(self, tokens, item):\n",
        "        embeddings = [(word2vec.get_vector(w) - self.mean) / self.std * self.tfidf[item, self.names.index(w)] \n",
        "                      for w in tokens if w in word2vec and w in self.names]\n",
        "\n",
        "        if len(embeddings) == 0:\n",
        "            embeddings = np.zeros((1, self.word2vec.vector_size))\n",
        "        else:\n",
        "            embeddings = np.array(embeddings)\n",
        "            if len(embeddings.shape) == 1:\n",
        "                embeddings = embeddings.reshape(-1, 1)\n",
        "\n",
        "        return embeddings"
      ],
      "execution_count": null,
      "outputs": []
    },
    {
      "cell_type": "code",
      "metadata": {
        "id": "dXVlOE-z-na_"
      },
      "source": [
        "dev = TwitterDatasetTFIDF(dev_data, \"text\", \"emotion\", word2vec, dev_data_tfidf, names)"
      ],
      "execution_count": null,
      "outputs": []
    },
    {
      "cell_type": "code",
      "metadata": {
        "id": "hul68Dyd_nQA"
      },
      "source": [
        "from torch.utils.data import DataLoader\n",
        "\n",
        "\n",
        "batch_size = 1024\n",
        "num_workers = 4\n",
        "\n",
        "def average_emb(batch):\n",
        "    features = [np.sum(b[\"feature\"], axis=0) for b in batch] # кажется, здесь надо mean на sum заменить\n",
        "    targets = [b[\"target\"] for b in batch]\n",
        "\n",
        "    return {\"features\": torch.FloatTensor(features), \"targets\": torch.LongTensor(targets)}\n",
        "\n",
        "\n",
        "train_size = math.ceil(len(dev) * 0.8)\n",
        "\n",
        "train, valid = random_split(dev, [train_size, len(dev) - train_size])\n",
        "\n",
        "train_loader = DataLoader(train, batch_size=batch_size, num_workers=num_workers, shuffle=True, drop_last=True, collate_fn=average_emb)\n",
        "valid_loader = DataLoader(valid, batch_size=batch_size, num_workers=num_workers, shuffle=False, drop_last=False, collate_fn=average_emb)"
      ],
      "execution_count": null,
      "outputs": []
    },
    {
      "cell_type": "code",
      "metadata": {
        "colab": {
          "base_uri": "https://localhost:8080/"
        },
        "id": "FHx1n_ja-zyi",
        "outputId": "3a26ddb0-a683-4ecf-cbda-e09f3ba38880"
      },
      "source": [
        "vector_size = dev.word2vec.vector_size\n",
        "num_classes = 2\n",
        "lr = 1e-3\n",
        "num_epochs = 1\n",
        "\n",
        "# N - размер батча (batch_size, нужно для метода оптимизации); \n",
        "# D_in - размерность входа (количество признаков у объекта);\n",
        "# H - размерность скрытых слоёв; \n",
        "# D_out - размерность выходного слоя (суть - количество классов)\n",
        "D_in, H1, H2, H3, D_out = vector_size, 50, 50, 10, num_classes\n",
        "\n",
        "model = torch.nn.Sequential(\n",
        "    torch.nn.Linear(D_in, H1),\n",
        "    torch.nn.Tanh(),\n",
        "    torch.nn.Linear(H1, H2),\n",
        "    torch.nn.ReLU(),\n",
        "    torch.nn.Linear(H2, H3),\n",
        "    torch.nn.Tanh(),\n",
        "    torch.nn.Linear(H3, D_out),\n",
        ")\n",
        "\n",
        "model.to(device)\n",
        "\n",
        "criterion = torch.nn.CrossEntropyLoss(size_average=False)\n",
        "optimizer = torch.optim.Adam(model.parameters(), lr=lr)"
      ],
      "execution_count": null,
      "outputs": [
        {
          "output_type": "stream",
          "text": [
            "/usr/local/lib/python3.7/dist-packages/torch/nn/_reduction.py:44: UserWarning: size_average and reduce args will be deprecated, please use reduction='sum' instead.\n",
            "  warnings.warn(warning.format(ret))\n"
          ],
          "name": "stderr"
        }
      ]
    },
    {
      "cell_type": "code",
      "metadata": {
        "colab": {
          "base_uri": "https://localhost:8080/",
          "height": 413,
          "referenced_widgets": [
            "c45cc851463b4fa3bc9bbf3841d30874",
            "0f8cab432cbc4b8382d14bce3c2a38c4",
            "1c89a7f5b75b498cb22ce3606657b4c3",
            "ff139853a1604fd5bbc94834d659bf24",
            "5ce88c98088b45faaeabf203e65573bf",
            "de90cc7882c34f51afa71568cfef1d44",
            "1fe1c47aca5c4d92ab58bb09cd72470c",
            "4ca6fcaee857414d97de67ac3d771347"
          ]
        },
        "id": "lYiJdOPFAp3Q",
        "outputId": "86bff0b3-d28b-4e44-d855-7d86937d0d1b"
      },
      "source": [
        "best_metric = np.inf\n",
        "for e in range(num_epochs):\n",
        "    training(model, optimizer, criterion, train_loader, e, device)\n",
        "    log = testing(model, criterion, valid_loader, device)\n",
        "    print(log)\n",
        "    if log[\"Test Loss\"] < best_metric:\n",
        "        torch.save(model.state_dict(), \"model.pt\")\n",
        "        best_metric = log[\"Test Loss\"]"
      ],
      "execution_count": null,
      "outputs": [
        {
          "output_type": "display_data",
          "data": {
            "application/vnd.jupyter.widget-view+json": {
              "model_id": "c45cc851463b4fa3bc9bbf3841d30874",
              "version_minor": 0,
              "version_major": 2
            },
            "text/plain": [
              "HBox(children=(FloatProgress(value=0.0, description='Epoch 1. Train Loss: 0', max=1000.0, style=ProgressStyle(…"
            ]
          },
          "metadata": {
            "tags": []
          }
        },
        {
          "output_type": "error",
          "ename": "KeyboardInterrupt",
          "evalue": "ignored",
          "traceback": [
            "\u001b[0;31m---------------------------------------------------------------------------\u001b[0m",
            "\u001b[0;31mKeyboardInterrupt\u001b[0m                         Traceback (most recent call last)",
            "\u001b[0;32m<ipython-input-188-38d8f78b7a91>\u001b[0m in \u001b[0;36m<module>\u001b[0;34m()\u001b[0m\n\u001b[1;32m      1\u001b[0m \u001b[0mbest_metric\u001b[0m \u001b[0;34m=\u001b[0m \u001b[0mnp\u001b[0m\u001b[0;34m.\u001b[0m\u001b[0minf\u001b[0m\u001b[0;34m\u001b[0m\u001b[0;34m\u001b[0m\u001b[0m\n\u001b[1;32m      2\u001b[0m \u001b[0;32mfor\u001b[0m \u001b[0me\u001b[0m \u001b[0;32min\u001b[0m \u001b[0mrange\u001b[0m\u001b[0;34m(\u001b[0m\u001b[0mnum_epochs\u001b[0m\u001b[0;34m)\u001b[0m\u001b[0;34m:\u001b[0m\u001b[0;34m\u001b[0m\u001b[0;34m\u001b[0m\u001b[0m\n\u001b[0;32m----> 3\u001b[0;31m     \u001b[0mtraining\u001b[0m\u001b[0;34m(\u001b[0m\u001b[0mmodel\u001b[0m\u001b[0;34m,\u001b[0m \u001b[0moptimizer\u001b[0m\u001b[0;34m,\u001b[0m \u001b[0mcriterion\u001b[0m\u001b[0;34m,\u001b[0m \u001b[0mtrain_loader\u001b[0m\u001b[0;34m,\u001b[0m \u001b[0me\u001b[0m\u001b[0;34m,\u001b[0m \u001b[0mdevice\u001b[0m\u001b[0;34m)\u001b[0m\u001b[0;34m\u001b[0m\u001b[0;34m\u001b[0m\u001b[0m\n\u001b[0m\u001b[1;32m      4\u001b[0m     \u001b[0mlog\u001b[0m \u001b[0;34m=\u001b[0m \u001b[0mtesting\u001b[0m\u001b[0;34m(\u001b[0m\u001b[0mmodel\u001b[0m\u001b[0;34m,\u001b[0m \u001b[0mcriterion\u001b[0m\u001b[0;34m,\u001b[0m \u001b[0mvalid_loader\u001b[0m\u001b[0;34m,\u001b[0m \u001b[0mdevice\u001b[0m\u001b[0;34m)\u001b[0m\u001b[0;34m\u001b[0m\u001b[0;34m\u001b[0m\u001b[0m\n\u001b[1;32m      5\u001b[0m     \u001b[0mprint\u001b[0m\u001b[0;34m(\u001b[0m\u001b[0mlog\u001b[0m\u001b[0;34m)\u001b[0m\u001b[0;34m\u001b[0m\u001b[0;34m\u001b[0m\u001b[0m\n",
            "\u001b[0;32m<ipython-input-78-05f3c9e55177>\u001b[0m in \u001b[0;36mtraining\u001b[0;34m(model, optimizer, criterion, train_loader, epoch, device)\u001b[0m\n\u001b[1;32m      5\u001b[0m     \u001b[0mpbar\u001b[0m \u001b[0;34m=\u001b[0m \u001b[0mtqdm\u001b[0m\u001b[0;34m(\u001b[0m\u001b[0mtrain_loader\u001b[0m\u001b[0;34m,\u001b[0m \u001b[0mdesc\u001b[0m\u001b[0;34m=\u001b[0m\u001b[0;34mf\"Epoch {e + 1}. Train Loss: {0}\"\u001b[0m\u001b[0;34m)\u001b[0m\u001b[0;34m\u001b[0m\u001b[0;34m\u001b[0m\u001b[0m\n\u001b[1;32m      6\u001b[0m     \u001b[0mmodel\u001b[0m\u001b[0;34m.\u001b[0m\u001b[0mtrain\u001b[0m\u001b[0;34m(\u001b[0m\u001b[0;34m)\u001b[0m\u001b[0;34m\u001b[0m\u001b[0;34m\u001b[0m\u001b[0m\n\u001b[0;32m----> 7\u001b[0;31m     \u001b[0;32mfor\u001b[0m \u001b[0mbatch\u001b[0m \u001b[0;32min\u001b[0m \u001b[0mpbar\u001b[0m\u001b[0;34m:\u001b[0m\u001b[0;34m\u001b[0m\u001b[0;34m\u001b[0m\u001b[0m\n\u001b[0m\u001b[1;32m      8\u001b[0m         \u001b[0mfeatures\u001b[0m \u001b[0;34m=\u001b[0m \u001b[0mbatch\u001b[0m\u001b[0;34m[\u001b[0m\u001b[0;34m\"features\"\u001b[0m\u001b[0;34m]\u001b[0m\u001b[0;34m.\u001b[0m\u001b[0mto\u001b[0m\u001b[0;34m(\u001b[0m\u001b[0mdevice\u001b[0m\u001b[0;34m)\u001b[0m\u001b[0;34m\u001b[0m\u001b[0;34m\u001b[0m\u001b[0m\n\u001b[1;32m      9\u001b[0m         \u001b[0mtargets\u001b[0m \u001b[0;34m=\u001b[0m \u001b[0mbatch\u001b[0m\u001b[0;34m[\u001b[0m\u001b[0;34m\"targets\"\u001b[0m\u001b[0;34m]\u001b[0m\u001b[0;34m.\u001b[0m\u001b[0mto\u001b[0m\u001b[0;34m(\u001b[0m\u001b[0mdevice\u001b[0m\u001b[0;34m)\u001b[0m\u001b[0;34m\u001b[0m\u001b[0;34m\u001b[0m\u001b[0m\n",
            "\u001b[0;32m/usr/local/lib/python3.7/dist-packages/tqdm/notebook.py\u001b[0m in \u001b[0;36m__iter__\u001b[0;34m(self, *args, **kwargs)\u001b[0m\n\u001b[1;32m    213\u001b[0m     \u001b[0;32mdef\u001b[0m \u001b[0m__iter__\u001b[0m\u001b[0;34m(\u001b[0m\u001b[0mself\u001b[0m\u001b[0;34m,\u001b[0m \u001b[0;34m*\u001b[0m\u001b[0margs\u001b[0m\u001b[0;34m,\u001b[0m \u001b[0;34m**\u001b[0m\u001b[0mkwargs\u001b[0m\u001b[0;34m)\u001b[0m\u001b[0;34m:\u001b[0m\u001b[0;34m\u001b[0m\u001b[0;34m\u001b[0m\u001b[0m\n\u001b[1;32m    214\u001b[0m         \u001b[0;32mtry\u001b[0m\u001b[0;34m:\u001b[0m\u001b[0;34m\u001b[0m\u001b[0;34m\u001b[0m\u001b[0m\n\u001b[0;32m--> 215\u001b[0;31m             \u001b[0;32mfor\u001b[0m \u001b[0mobj\u001b[0m \u001b[0;32min\u001b[0m \u001b[0msuper\u001b[0m\u001b[0;34m(\u001b[0m\u001b[0mtqdm_notebook\u001b[0m\u001b[0;34m,\u001b[0m \u001b[0mself\u001b[0m\u001b[0;34m)\u001b[0m\u001b[0;34m.\u001b[0m\u001b[0m__iter__\u001b[0m\u001b[0;34m(\u001b[0m\u001b[0;34m*\u001b[0m\u001b[0margs\u001b[0m\u001b[0;34m,\u001b[0m \u001b[0;34m**\u001b[0m\u001b[0mkwargs\u001b[0m\u001b[0;34m)\u001b[0m\u001b[0;34m:\u001b[0m\u001b[0;34m\u001b[0m\u001b[0;34m\u001b[0m\u001b[0m\n\u001b[0m\u001b[1;32m    216\u001b[0m                 \u001b[0;31m# return super(tqdm...) will not catch exception\u001b[0m\u001b[0;34m\u001b[0m\u001b[0;34m\u001b[0m\u001b[0;34m\u001b[0m\u001b[0m\n\u001b[1;32m    217\u001b[0m                 \u001b[0;32myield\u001b[0m \u001b[0mobj\u001b[0m\u001b[0;34m\u001b[0m\u001b[0;34m\u001b[0m\u001b[0m\n",
            "\u001b[0;32m/usr/local/lib/python3.7/dist-packages/tqdm/std.py\u001b[0m in \u001b[0;36m__iter__\u001b[0;34m(self)\u001b[0m\n\u001b[1;32m   1102\u001b[0m                 fp_write=getattr(self.fp, 'write', sys.stderr.write))\n\u001b[1;32m   1103\u001b[0m \u001b[0;34m\u001b[0m\u001b[0m\n\u001b[0;32m-> 1104\u001b[0;31m         \u001b[0;32mfor\u001b[0m \u001b[0mobj\u001b[0m \u001b[0;32min\u001b[0m \u001b[0miterable\u001b[0m\u001b[0;34m:\u001b[0m\u001b[0;34m\u001b[0m\u001b[0;34m\u001b[0m\u001b[0m\n\u001b[0m\u001b[1;32m   1105\u001b[0m             \u001b[0;32myield\u001b[0m \u001b[0mobj\u001b[0m\u001b[0;34m\u001b[0m\u001b[0;34m\u001b[0m\u001b[0m\n\u001b[1;32m   1106\u001b[0m             \u001b[0;31m# Update and possibly print the progressbar.\u001b[0m\u001b[0;34m\u001b[0m\u001b[0;34m\u001b[0m\u001b[0;34m\u001b[0m\u001b[0m\n",
            "\u001b[0;32m/usr/local/lib/python3.7/dist-packages/torch/utils/data/dataloader.py\u001b[0m in \u001b[0;36m__next__\u001b[0;34m(self)\u001b[0m\n\u001b[1;32m    433\u001b[0m         \u001b[0;32mif\u001b[0m \u001b[0mself\u001b[0m\u001b[0;34m.\u001b[0m\u001b[0m_sampler_iter\u001b[0m \u001b[0;32mis\u001b[0m \u001b[0;32mNone\u001b[0m\u001b[0;34m:\u001b[0m\u001b[0;34m\u001b[0m\u001b[0;34m\u001b[0m\u001b[0m\n\u001b[1;32m    434\u001b[0m             \u001b[0mself\u001b[0m\u001b[0;34m.\u001b[0m\u001b[0m_reset\u001b[0m\u001b[0;34m(\u001b[0m\u001b[0;34m)\u001b[0m\u001b[0;34m\u001b[0m\u001b[0;34m\u001b[0m\u001b[0m\n\u001b[0;32m--> 435\u001b[0;31m         \u001b[0mdata\u001b[0m \u001b[0;34m=\u001b[0m \u001b[0mself\u001b[0m\u001b[0;34m.\u001b[0m\u001b[0m_next_data\u001b[0m\u001b[0;34m(\u001b[0m\u001b[0;34m)\u001b[0m\u001b[0;34m\u001b[0m\u001b[0;34m\u001b[0m\u001b[0m\n\u001b[0m\u001b[1;32m    436\u001b[0m         \u001b[0mself\u001b[0m\u001b[0;34m.\u001b[0m\u001b[0m_num_yielded\u001b[0m \u001b[0;34m+=\u001b[0m \u001b[0;36m1\u001b[0m\u001b[0;34m\u001b[0m\u001b[0;34m\u001b[0m\u001b[0m\n\u001b[1;32m    437\u001b[0m         \u001b[0;32mif\u001b[0m \u001b[0mself\u001b[0m\u001b[0;34m.\u001b[0m\u001b[0m_dataset_kind\u001b[0m \u001b[0;34m==\u001b[0m \u001b[0m_DatasetKind\u001b[0m\u001b[0;34m.\u001b[0m\u001b[0mIterable\u001b[0m \u001b[0;32mand\u001b[0m\u001b[0;31m \u001b[0m\u001b[0;31m\\\u001b[0m\u001b[0;34m\u001b[0m\u001b[0;34m\u001b[0m\u001b[0m\n",
            "\u001b[0;32m/usr/local/lib/python3.7/dist-packages/torch/utils/data/dataloader.py\u001b[0m in \u001b[0;36m_next_data\u001b[0;34m(self)\u001b[0m\n\u001b[1;32m   1066\u001b[0m \u001b[0;34m\u001b[0m\u001b[0m\n\u001b[1;32m   1067\u001b[0m             \u001b[0;32massert\u001b[0m \u001b[0;32mnot\u001b[0m \u001b[0mself\u001b[0m\u001b[0;34m.\u001b[0m\u001b[0m_shutdown\u001b[0m \u001b[0;32mand\u001b[0m \u001b[0mself\u001b[0m\u001b[0;34m.\u001b[0m\u001b[0m_tasks_outstanding\u001b[0m \u001b[0;34m>\u001b[0m \u001b[0;36m0\u001b[0m\u001b[0;34m\u001b[0m\u001b[0;34m\u001b[0m\u001b[0m\n\u001b[0;32m-> 1068\u001b[0;31m             \u001b[0midx\u001b[0m\u001b[0;34m,\u001b[0m \u001b[0mdata\u001b[0m \u001b[0;34m=\u001b[0m \u001b[0mself\u001b[0m\u001b[0;34m.\u001b[0m\u001b[0m_get_data\u001b[0m\u001b[0;34m(\u001b[0m\u001b[0;34m)\u001b[0m\u001b[0;34m\u001b[0m\u001b[0;34m\u001b[0m\u001b[0m\n\u001b[0m\u001b[1;32m   1069\u001b[0m             \u001b[0mself\u001b[0m\u001b[0;34m.\u001b[0m\u001b[0m_tasks_outstanding\u001b[0m \u001b[0;34m-=\u001b[0m \u001b[0;36m1\u001b[0m\u001b[0;34m\u001b[0m\u001b[0;34m\u001b[0m\u001b[0m\n\u001b[1;32m   1070\u001b[0m             \u001b[0;32mif\u001b[0m \u001b[0mself\u001b[0m\u001b[0;34m.\u001b[0m\u001b[0m_dataset_kind\u001b[0m \u001b[0;34m==\u001b[0m \u001b[0m_DatasetKind\u001b[0m\u001b[0;34m.\u001b[0m\u001b[0mIterable\u001b[0m\u001b[0;34m:\u001b[0m\u001b[0;34m\u001b[0m\u001b[0;34m\u001b[0m\u001b[0m\n",
            "\u001b[0;32m/usr/local/lib/python3.7/dist-packages/torch/utils/data/dataloader.py\u001b[0m in \u001b[0;36m_get_data\u001b[0;34m(self)\u001b[0m\n\u001b[1;32m   1032\u001b[0m         \u001b[0;32melse\u001b[0m\u001b[0;34m:\u001b[0m\u001b[0;34m\u001b[0m\u001b[0;34m\u001b[0m\u001b[0m\n\u001b[1;32m   1033\u001b[0m             \u001b[0;32mwhile\u001b[0m \u001b[0;32mTrue\u001b[0m\u001b[0;34m:\u001b[0m\u001b[0;34m\u001b[0m\u001b[0;34m\u001b[0m\u001b[0m\n\u001b[0;32m-> 1034\u001b[0;31m                 \u001b[0msuccess\u001b[0m\u001b[0;34m,\u001b[0m \u001b[0mdata\u001b[0m \u001b[0;34m=\u001b[0m \u001b[0mself\u001b[0m\u001b[0;34m.\u001b[0m\u001b[0m_try_get_data\u001b[0m\u001b[0;34m(\u001b[0m\u001b[0;34m)\u001b[0m\u001b[0;34m\u001b[0m\u001b[0;34m\u001b[0m\u001b[0m\n\u001b[0m\u001b[1;32m   1035\u001b[0m                 \u001b[0;32mif\u001b[0m \u001b[0msuccess\u001b[0m\u001b[0;34m:\u001b[0m\u001b[0;34m\u001b[0m\u001b[0;34m\u001b[0m\u001b[0m\n\u001b[1;32m   1036\u001b[0m                     \u001b[0;32mreturn\u001b[0m \u001b[0mdata\u001b[0m\u001b[0;34m\u001b[0m\u001b[0;34m\u001b[0m\u001b[0m\n",
            "\u001b[0;32m/usr/local/lib/python3.7/dist-packages/torch/utils/data/dataloader.py\u001b[0m in \u001b[0;36m_try_get_data\u001b[0;34m(self, timeout)\u001b[0m\n\u001b[1;32m    870\u001b[0m         \u001b[0;31m#   (bool: whether successfully get data, any: data if successful else None)\u001b[0m\u001b[0;34m\u001b[0m\u001b[0;34m\u001b[0m\u001b[0;34m\u001b[0m\u001b[0m\n\u001b[1;32m    871\u001b[0m         \u001b[0;32mtry\u001b[0m\u001b[0;34m:\u001b[0m\u001b[0;34m\u001b[0m\u001b[0;34m\u001b[0m\u001b[0m\n\u001b[0;32m--> 872\u001b[0;31m             \u001b[0mdata\u001b[0m \u001b[0;34m=\u001b[0m \u001b[0mself\u001b[0m\u001b[0;34m.\u001b[0m\u001b[0m_data_queue\u001b[0m\u001b[0;34m.\u001b[0m\u001b[0mget\u001b[0m\u001b[0;34m(\u001b[0m\u001b[0mtimeout\u001b[0m\u001b[0;34m=\u001b[0m\u001b[0mtimeout\u001b[0m\u001b[0;34m)\u001b[0m\u001b[0;34m\u001b[0m\u001b[0;34m\u001b[0m\u001b[0m\n\u001b[0m\u001b[1;32m    873\u001b[0m             \u001b[0;32mreturn\u001b[0m \u001b[0;34m(\u001b[0m\u001b[0;32mTrue\u001b[0m\u001b[0;34m,\u001b[0m \u001b[0mdata\u001b[0m\u001b[0;34m)\u001b[0m\u001b[0;34m\u001b[0m\u001b[0;34m\u001b[0m\u001b[0m\n\u001b[1;32m    874\u001b[0m         \u001b[0;32mexcept\u001b[0m \u001b[0mException\u001b[0m \u001b[0;32mas\u001b[0m \u001b[0me\u001b[0m\u001b[0;34m:\u001b[0m\u001b[0;34m\u001b[0m\u001b[0;34m\u001b[0m\u001b[0m\n",
            "\u001b[0;32m/usr/lib/python3.7/multiprocessing/queues.py\u001b[0m in \u001b[0;36mget\u001b[0;34m(self, block, timeout)\u001b[0m\n\u001b[1;32m    102\u001b[0m                 \u001b[0;32mif\u001b[0m \u001b[0mblock\u001b[0m\u001b[0;34m:\u001b[0m\u001b[0;34m\u001b[0m\u001b[0;34m\u001b[0m\u001b[0m\n\u001b[1;32m    103\u001b[0m                     \u001b[0mtimeout\u001b[0m \u001b[0;34m=\u001b[0m \u001b[0mdeadline\u001b[0m \u001b[0;34m-\u001b[0m \u001b[0mtime\u001b[0m\u001b[0;34m.\u001b[0m\u001b[0mmonotonic\u001b[0m\u001b[0;34m(\u001b[0m\u001b[0;34m)\u001b[0m\u001b[0;34m\u001b[0m\u001b[0;34m\u001b[0m\u001b[0m\n\u001b[0;32m--> 104\u001b[0;31m                     \u001b[0;32mif\u001b[0m \u001b[0;32mnot\u001b[0m \u001b[0mself\u001b[0m\u001b[0;34m.\u001b[0m\u001b[0m_poll\u001b[0m\u001b[0;34m(\u001b[0m\u001b[0mtimeout\u001b[0m\u001b[0;34m)\u001b[0m\u001b[0;34m:\u001b[0m\u001b[0;34m\u001b[0m\u001b[0;34m\u001b[0m\u001b[0m\n\u001b[0m\u001b[1;32m    105\u001b[0m                         \u001b[0;32mraise\u001b[0m \u001b[0mEmpty\u001b[0m\u001b[0;34m\u001b[0m\u001b[0;34m\u001b[0m\u001b[0m\n\u001b[1;32m    106\u001b[0m                 \u001b[0;32melif\u001b[0m \u001b[0;32mnot\u001b[0m \u001b[0mself\u001b[0m\u001b[0;34m.\u001b[0m\u001b[0m_poll\u001b[0m\u001b[0;34m(\u001b[0m\u001b[0;34m)\u001b[0m\u001b[0;34m:\u001b[0m\u001b[0;34m\u001b[0m\u001b[0;34m\u001b[0m\u001b[0m\n",
            "\u001b[0;32m/usr/lib/python3.7/multiprocessing/connection.py\u001b[0m in \u001b[0;36mpoll\u001b[0;34m(self, timeout)\u001b[0m\n\u001b[1;32m    255\u001b[0m         \u001b[0mself\u001b[0m\u001b[0;34m.\u001b[0m\u001b[0m_check_closed\u001b[0m\u001b[0;34m(\u001b[0m\u001b[0;34m)\u001b[0m\u001b[0;34m\u001b[0m\u001b[0;34m\u001b[0m\u001b[0m\n\u001b[1;32m    256\u001b[0m         \u001b[0mself\u001b[0m\u001b[0;34m.\u001b[0m\u001b[0m_check_readable\u001b[0m\u001b[0;34m(\u001b[0m\u001b[0;34m)\u001b[0m\u001b[0;34m\u001b[0m\u001b[0;34m\u001b[0m\u001b[0m\n\u001b[0;32m--> 257\u001b[0;31m         \u001b[0;32mreturn\u001b[0m \u001b[0mself\u001b[0m\u001b[0;34m.\u001b[0m\u001b[0m_poll\u001b[0m\u001b[0;34m(\u001b[0m\u001b[0mtimeout\u001b[0m\u001b[0;34m)\u001b[0m\u001b[0;34m\u001b[0m\u001b[0;34m\u001b[0m\u001b[0m\n\u001b[0m\u001b[1;32m    258\u001b[0m \u001b[0;34m\u001b[0m\u001b[0m\n\u001b[1;32m    259\u001b[0m     \u001b[0;32mdef\u001b[0m \u001b[0m__enter__\u001b[0m\u001b[0;34m(\u001b[0m\u001b[0mself\u001b[0m\u001b[0;34m)\u001b[0m\u001b[0;34m:\u001b[0m\u001b[0;34m\u001b[0m\u001b[0;34m\u001b[0m\u001b[0m\n",
            "\u001b[0;32m/usr/lib/python3.7/multiprocessing/connection.py\u001b[0m in \u001b[0;36m_poll\u001b[0;34m(self, timeout)\u001b[0m\n\u001b[1;32m    412\u001b[0m \u001b[0;34m\u001b[0m\u001b[0m\n\u001b[1;32m    413\u001b[0m     \u001b[0;32mdef\u001b[0m \u001b[0m_poll\u001b[0m\u001b[0;34m(\u001b[0m\u001b[0mself\u001b[0m\u001b[0;34m,\u001b[0m \u001b[0mtimeout\u001b[0m\u001b[0;34m)\u001b[0m\u001b[0;34m:\u001b[0m\u001b[0;34m\u001b[0m\u001b[0;34m\u001b[0m\u001b[0m\n\u001b[0;32m--> 414\u001b[0;31m         \u001b[0mr\u001b[0m \u001b[0;34m=\u001b[0m \u001b[0mwait\u001b[0m\u001b[0;34m(\u001b[0m\u001b[0;34m[\u001b[0m\u001b[0mself\u001b[0m\u001b[0;34m]\u001b[0m\u001b[0;34m,\u001b[0m \u001b[0mtimeout\u001b[0m\u001b[0;34m)\u001b[0m\u001b[0;34m\u001b[0m\u001b[0;34m\u001b[0m\u001b[0m\n\u001b[0m\u001b[1;32m    415\u001b[0m         \u001b[0;32mreturn\u001b[0m \u001b[0mbool\u001b[0m\u001b[0;34m(\u001b[0m\u001b[0mr\u001b[0m\u001b[0;34m)\u001b[0m\u001b[0;34m\u001b[0m\u001b[0;34m\u001b[0m\u001b[0m\n\u001b[1;32m    416\u001b[0m \u001b[0;34m\u001b[0m\u001b[0m\n",
            "\u001b[0;32m/usr/lib/python3.7/multiprocessing/connection.py\u001b[0m in \u001b[0;36mwait\u001b[0;34m(object_list, timeout)\u001b[0m\n\u001b[1;32m    919\u001b[0m \u001b[0;34m\u001b[0m\u001b[0m\n\u001b[1;32m    920\u001b[0m             \u001b[0;32mwhile\u001b[0m \u001b[0;32mTrue\u001b[0m\u001b[0;34m:\u001b[0m\u001b[0;34m\u001b[0m\u001b[0;34m\u001b[0m\u001b[0m\n\u001b[0;32m--> 921\u001b[0;31m                 \u001b[0mready\u001b[0m \u001b[0;34m=\u001b[0m \u001b[0mselector\u001b[0m\u001b[0;34m.\u001b[0m\u001b[0mselect\u001b[0m\u001b[0;34m(\u001b[0m\u001b[0mtimeout\u001b[0m\u001b[0;34m)\u001b[0m\u001b[0;34m\u001b[0m\u001b[0;34m\u001b[0m\u001b[0m\n\u001b[0m\u001b[1;32m    922\u001b[0m                 \u001b[0;32mif\u001b[0m \u001b[0mready\u001b[0m\u001b[0;34m:\u001b[0m\u001b[0;34m\u001b[0m\u001b[0;34m\u001b[0m\u001b[0m\n\u001b[1;32m    923\u001b[0m                     \u001b[0;32mreturn\u001b[0m \u001b[0;34m[\u001b[0m\u001b[0mkey\u001b[0m\u001b[0;34m.\u001b[0m\u001b[0mfileobj\u001b[0m \u001b[0;32mfor\u001b[0m \u001b[0;34m(\u001b[0m\u001b[0mkey\u001b[0m\u001b[0;34m,\u001b[0m \u001b[0mevents\u001b[0m\u001b[0;34m)\u001b[0m \u001b[0;32min\u001b[0m \u001b[0mready\u001b[0m\u001b[0;34m]\u001b[0m\u001b[0;34m\u001b[0m\u001b[0;34m\u001b[0m\u001b[0m\n",
            "\u001b[0;32m/usr/lib/python3.7/selectors.py\u001b[0m in \u001b[0;36mselect\u001b[0;34m(self, timeout)\u001b[0m\n\u001b[1;32m    413\u001b[0m         \u001b[0mready\u001b[0m \u001b[0;34m=\u001b[0m \u001b[0;34m[\u001b[0m\u001b[0;34m]\u001b[0m\u001b[0;34m\u001b[0m\u001b[0;34m\u001b[0m\u001b[0m\n\u001b[1;32m    414\u001b[0m         \u001b[0;32mtry\u001b[0m\u001b[0;34m:\u001b[0m\u001b[0;34m\u001b[0m\u001b[0;34m\u001b[0m\u001b[0m\n\u001b[0;32m--> 415\u001b[0;31m             \u001b[0mfd_event_list\u001b[0m \u001b[0;34m=\u001b[0m \u001b[0mself\u001b[0m\u001b[0;34m.\u001b[0m\u001b[0m_selector\u001b[0m\u001b[0;34m.\u001b[0m\u001b[0mpoll\u001b[0m\u001b[0;34m(\u001b[0m\u001b[0mtimeout\u001b[0m\u001b[0;34m)\u001b[0m\u001b[0;34m\u001b[0m\u001b[0;34m\u001b[0m\u001b[0m\n\u001b[0m\u001b[1;32m    416\u001b[0m         \u001b[0;32mexcept\u001b[0m \u001b[0mInterruptedError\u001b[0m\u001b[0;34m:\u001b[0m\u001b[0;34m\u001b[0m\u001b[0;34m\u001b[0m\u001b[0m\n\u001b[1;32m    417\u001b[0m             \u001b[0;32mreturn\u001b[0m \u001b[0mready\u001b[0m\u001b[0;34m\u001b[0m\u001b[0;34m\u001b[0m\u001b[0m\n",
            "\u001b[0;31mKeyboardInterrupt\u001b[0m: "
          ]
        }
      ]
    }
  ]
}